{
  "nbformat": 4,
  "nbformat_minor": 0,
  "metadata": {
    "colab": {
      "name": "11-P4DS REGRESSION MODELS.ipynb",
      "provenance": [],
      "collapsed_sections": [
        "Z5fAXp9bO-Rr",
        "5Zeexhv-Seuv",
        "FvlR91j-Sh0P",
        "IiTeFZokzdXd",
        "0uECUZMtCZ06",
        "4PSD-f3fOMPY",
        "SGPQHjNVnonc",
        "Vwf88VFwfLne",
        "wmbF9FuyfBq0",
        "INvcPHvAk7st",
        "taFi8RAq2s73",
        "CtholztTx1Cr"
      ],
      "toc_visible": true
    },
    "kernelspec": {
      "name": "python3",
      "display_name": "Python 3"
    },
    "language_info": {
      "name": "python"
    }
  },
  "cells": [
    {
      "cell_type": "markdown",
      "metadata": {
        "id": "YXbx_TaoMXfp"
      },
      "source": [
        "# Introduction to Machine Learning\n"
      ]
    },
    {
      "cell_type": "markdown",
      "metadata": {
        "id": "4S1dCnITMdHc"
      },
      "source": [
        "AI ( Artificial Intelligence )\n",
        "\n",
        "AI dalam bahasa Indonesia adalah kecerdasan buatan \n",
        "\n",
        "Suatu ilmu bagaimana bisa mengaplikasikan untuk bisa mendesain suatu system , mesin . program yang bisa menirukan kecerdasan manusia .\n",
        "\n"
      ]
    },
    {
      "cell_type": "markdown",
      "metadata": {
        "id": "Z5fAXp9bO-Rr"
      },
      "source": [
        "## What is Artificial Intelligence?\n",
        "\n",
        "Seperti namanya, artificial intelligence yang biasa dikenal dengan AI adalah cara membuat komputer menjadi intelligent secara artificially. Dapatkah kalian memikirkan komputer atau mungkin robot yang dapat melakukan berbagai tugas yang mirip dengan manusia?\n",
        "\n",
        "According to the father of Artificial Intelligence, John McCarthy, it is \"The science and engineering of making intelligent machines, especially intelligent computer programs\"."
      ]
    },
    {
      "cell_type": "markdown",
      "metadata": {
        "id": "5Zeexhv-Seuv"
      },
      "source": [
        "## Intuition & Motivation behind AI\n",
        "\n",
        "Otak manusia, intuisi & motivasi di balik AI berasal dari otak Manusia. Otak manusia adalah alat paling ampuh yang diberikan kepada umat manusia. Manusia adalah spesies paling cerdas di planet bumi. Dan rahasia di balik otak yang kuat ini adalah Neocortex.\n",
        "\n",
        "Seperti yang kita semua ingat, ketika kita berusia 3-4 tahun, orang tua kita biasa membuat kita mempelajari 26 huruf alfabet, yang jika digabungkan menjadi sebuah kata, kata-kata jika digabungkan menjadi sebuah kalimat dan sebagainya. Seiring bertambahnya usia, kita mulai belajar dari lingkungan, seperti saat kita bermain. Jika kita jatuh, otak kita pasti ingat untuk tidak melakukan kesalahan yang sama lagi. Setelah kita mempelajari semua ini, kita kemudian akan dapat memprediksi hasilnya, katakanlah apa yang muncul sebelum Z tetapi setelah X adalah Y, atau 2 jika dikalikan dengan 12 sama dengan 24.\n",
        "\n",
        "Jadi dengan intuisi yang sama, kita ingin komputer dapat belajar berdasarkan data yang kita masukkan ke dalamnya dan kemudian komputer harus cukup pintar untuk membuat keputusan berdasarkan apa yang telah dipelajari."
      ]
    },
    {
      "cell_type": "markdown",
      "metadata": {
        "id": "FvlR91j-Sh0P"
      },
      "source": [
        "## Need for Intelligent Machines?\n",
        "\n",
        "Satu alasan utama di balik mengapa kita membutuhkan AI adalah untuk mengotomatiskan tugas-tugas yang menurut orang berlebihan. Ingat komputer jauh lebih cerdas dalam perhitungan ketika harus mengalikan dua atau lebih angka, komputer dapat memberikan hasil dalam hitungan detik, sementara manusia berjuang.\n",
        "\n",
        "Demikian pula, jika kita membuat komputer mempelajari beberapa data atau records, berdasarkan records, komputer dapat dengan mudah memprediksi hasil masa depan karena akan memahami beberapa pola & struktur dari data atau recordsmasa lalu."
      ]
    },
    {
      "cell_type": "markdown",
      "metadata": {
        "id": "WGJtwnTIS6gj"
      },
      "source": [
        "# Machine Learning\n",
        "Machine learning adalah penerapan dari artificial intelligence (AI) yang memberikan kemampuan kepada komputer untuk belajar dan berkembang dari pengalaman tanpa harus diprogram secara explicit.\n",
        "\n",
        "Machine learning dibutuhkan untuk menyelesaikan pekerjaan yang terlalu rumit bagi manusia untuk di-coding secara langsung. Jadi daripada kita membuat coding, kita memberikan data yang sangat banyak ke dalam sebuah machine learning algorithm dan membiarkan algoritma tersebut bekerja dengan mengeksplor data dan mencari sebuah model yang akan menyelesaikan masalah yang programmer punya.\n",
        "\n",
        "Secara tradisional, rekayasa perangkat lunak menggabungkan aturan yang dibuat manusia dengan data untuk menciptakan jawaban atas suatu masalah. Sebaliknya, pembelajaran mesin menggunakan data dan jawaban untuk menemukan aturan di balik suatu masalah. (Chollet, 2017)"
      ]
    },
    {
      "cell_type": "markdown",
      "metadata": {
        "id": "k_PAvYUZVSxW"
      },
      "source": [
        "**Machine Learning** adalah bidang studi yang memberi komputer kemampuan untuk belajar tanpa diprogram secara eksplisit (Arthur Samuel)\n",
        "\n",
        "Arthur Samuel tahun 1959 \"Some Studies in Machine Learning Using the Game of Checkers\" \n",
        "\n",
        "\n",
        "\n",
        "\n"
      ]
    },
    {
      "cell_type": "markdown",
      "metadata": {
        "id": "JdVJfSRFTYeb"
      },
      "source": [
        "1998 , Tom Michel : \n",
        "\"Sebuah komputer belajar dari pengalaman E dan mempertimbangkan suatu tugas T dan Kemampuan terukur P . \n",
        "\n",
        "Dari peryataan Tom Michel , bisa di katakan Machile Learning bertujuan agar komputer dapat belajar sendiri , berpikir sendiri dan mengambil keputusan sendiri. \n",
        "\n",
        "IBM 2019 : Data science & Machine Learning \n",
        "\n",
        "\"Pembelajaran mesin adalah bentuk AI yang memungkinkan sistem untuk belajar dari data daripada melalui pemrograman eksplisit\" \n"
      ]
    },
    {
      "cell_type": "markdown",
      "metadata": {
        "id": "xqUkW6RmuQEv"
      },
      "source": [
        "Ada berbagai algoritma Machine Learning seperti\n",
        "\n",
        "- Decision trees,\n",
        "- Naive Bayes,\n",
        "- Random forest\n",
        "- Support vector machine\n",
        "- K-nearest neighbor,\n",
        "- K-means clustering,\n",
        "- Gaussian mixture model,\n",
        "- Hidden Markov model etc.\n",
        "\n",
        "Untuk saat ini, pahamilah bahwa dalam machine learning kita menggunakan salah satu algoritma seperti yang disebutkan di atas yang memberi komputer kemampuan untuk belajar dan memahami secara otomatis tanpa diprogram berkali-kali."
      ]
    },
    {
      "cell_type": "markdown",
      "metadata": {
        "id": "CBdZslykusPn"
      },
      "source": [
        "**Sekarang pertanyaannya adalah bagaimana komputer akan belajar secara otomatis ??**\n",
        "\n",
        "\n",
        "Nah, jawabannya adalah data. Kita memasukkan data yang memiliki atribut atau fitur berbeda yang harus dipahami oleh algoritma dan memberi kita batasan keputusan berdasarkan data yang kita berikan. Setelah algoritma mempelajari dan menafsirkan data, yang berarti telah melatih dirinya sendiri, kita kemudian dapat menempatkan algoritma kita dalam fase pengujian dan tanpa memprogramnya secara eksplisit, masukkan titik data pengujian dan diharapkan memberi kita beberapa hasil.\n",
        "\n",
        "Contoh: \n",
        "\n",
        "Misalkan kita  harus memprediksi harga rumah, dengan kumpulan data yang terdiri dari biaya rumah dan jumlah kamar di rumah, serta 1000 rumah dengan atribut serupa. \n",
        "\n",
        "Baik harga dan jumlah kamar adalah fitur. \n",
        "\n",
        "Sekarang tujuan kita adalah memasukkan kedua fitur ini ke dalam algoritma. Input kita, dalam hal ini, adalah jumlah kamar, dan algoritma harus memprediksi harga rumah. \n",
        "\n",
        "Algoritma akan mencoba mempelajari hubungan antara jumlah kamar dan biaya rumah.\n",
        "\n",
        "\n",
        "Sekarang, pada saat tes, kita akan memberikan algoritma katakanlah tiga (jumlah kamar) sebagai input, dan ML akan dapat memprediksi harga rumah secara akurat.\n",
        "\n"
      ]
    },
    {
      "cell_type": "markdown",
      "metadata": {
        "id": "IiTeFZokzdXd"
      },
      "source": [
        "### **Terminology**\n",
        "\n",
        "- Dataset: Kumpulan contoh data, yang berisi fitur-fitur penting untuk memecahkan masalah.\n",
        "\n",
        "- Fitur: Data penting yang membantu kami memahami suatu masalah. Ini dimasukkan ke dalam algoritme Pembelajaran Mesin untuk membantunya belajar.\n",
        "\n",
        "- Model: Representasi (model internal) dari sebuah fenomena yang telah dipelajari oleh algoritma Machine Learning. Ia mempelajari ini dari data yang ditampilkan selama pelatihan. Model adalah output yang Anda dapatkan setelah melatih suatu algoritma. Misalnya, algoritma pohon keputusan akan dilatih dan menghasilkan model pohon keputusan.\n"
      ]
    },
    {
      "cell_type": "markdown",
      "metadata": {
        "id": "0uECUZMtCZ06"
      },
      "source": [
        "### **Process**\n",
        "\n",
        "1. **Data Collection** : Kumpulkan data yang akan dipelajari oleh algoritme.\n",
        "2. **Data Prepation** : Memformat dan merekayasa data ke dalam format yang optimal, mengekstraksi fitur penting dan melakukan pengurangan dimensi.\n",
        "3. **Traning** : Juga dikenal sebagai tahap pemasangan, di sinilah algoritma Machine Learning benar-benar belajar dengan menunjukkan data yang telah dikumpulkan dan disiapkan.\n",
        "4. **Evaluation** : Uji model untuk melihat seberapa baik kinerjanya.\n",
        "5. **Tuning** : Sempurnakan model untuk memaksimalkan kinerjanya."
      ]
    },
    {
      "cell_type": "markdown",
      "metadata": {
        "id": "4H92Ll7Czegm"
      },
      "source": [
        "## Tradional Programming Vs Machine Learning\n",
        "\n",
        "<img src=\"https://i.ibb.co/xqCn18P/tradional-ml.png\" width=\"400\" align=\"center\">"
      ]
    },
    {
      "cell_type": "markdown",
      "metadata": {
        "id": "bULpgUxpNGPc"
      },
      "source": [
        "### Case 1"
      ]
    },
    {
      "cell_type": "markdown",
      "metadata": {
        "id": "02Sp7mDRJkPn"
      },
      "source": [
        "<img src=\"https://i.ibb.co/j3vYTMX/Screen-Shot-2021-10-02-at-3-50-45-PM.png\" width=\"400\" align=\"center\">\n",
        "\n"
      ]
    },
    {
      "cell_type": "markdown",
      "metadata": {
        "id": "uMkETfVlNN-n"
      },
      "source": [
        "#### Jawaban 1 "
      ]
    },
    {
      "cell_type": "markdown",
      "metadata": {
        "id": "nJqXnrkCNRmy"
      },
      "source": [
        "<img src=\"https://i.ibb.co/Z2cJLGv/jawaban1.png\" width=\"400\" align=\"center\">\n",
        "\n"
      ]
    },
    {
      "cell_type": "markdown",
      "metadata": {
        "id": "uqcFsm8VNpuS"
      },
      "source": [
        "### Case 2 \n",
        "\n"
      ]
    },
    {
      "cell_type": "markdown",
      "metadata": {
        "id": "mOZuMjt3Tham"
      },
      "source": [
        "<img src=\"https://i.ibb.co/znzBJfn/Screen-Shot-2021-10-02-at-4-21-18-PM.png\" width=\"400\" align=\"center\">\n",
        "\n",
        "\n"
      ]
    },
    {
      "cell_type": "markdown",
      "metadata": {
        "id": "0n7IkdaqUI6l"
      },
      "source": [
        "### Jawaban "
      ]
    },
    {
      "cell_type": "markdown",
      "metadata": {
        "id": "HJOONQAHUNEH"
      },
      "source": [
        "\n",
        "<img src=\"https://i.ibb.co/xYSN2XG/Screen-Shot-2021-10-02-at-4-21-35-PM.png\" width=\"400\" align=\"center\">"
      ]
    },
    {
      "cell_type": "markdown",
      "metadata": {
        "id": "i9368jx3D_1L"
      },
      "source": [
        "## **Machine Learning Approaches**\n"
      ]
    },
    {
      "cell_type": "markdown",
      "metadata": {
        "id": "dPCSf6ZiEFa_"
      },
      "source": [
        "Ada banyak pendekatan yang dapat diambil saat melakukan Machine Learning. Mereka biasanya dikelompokkan ke dalam area yang seperti di bawah ini. Supervised dan Unsupervised adalah pendekatan mapan dan paling umum digunakan.  Reinforcement Learning lebih baru dan lebih kompleks tetapi telah menunjukkan hasil yang mengesankan.\n",
        "\n",
        "***No Free Lunch theorem** terkenal dalam Machine Learning. **No Free Lunch theorem** menyatakan bahwa tidak ada algoritma tunggal yang akan bekerja dengan baik untuk semua tugas. Setiap tugas yang kita coba selesaikan memiliki keistimewaannya sendiri. Oleh karena itu, ada banyak algoritma dan pendekatan yang sesuai dengan setiap masalah individu.\n",
        "\n"
      ]
    },
    {
      "cell_type": "markdown",
      "metadata": {
        "id": "GPSgoQd6i3nK"
      },
      "source": [
        "<img src=\"https://i.ibb.co/72RzfWh/Types-of-Machine-Learning.png\" width=\"550\" align=\"center\">\n",
        "\n",
        "\n",
        "\n",
        "sumber : edureka "
      ]
    },
    {
      "cell_type": "markdown",
      "metadata": {
        "id": "WVPo5GtIj9o_"
      },
      "source": [
        "### Supervised Learning\n"
      ]
    },
    {
      "cell_type": "markdown",
      "metadata": {
        "id": "gyjjLJYVIxF9"
      },
      "source": [
        "\n",
        "Supervised sesuai namanya, merupakan suatu teknik pembelajaran yang didalam keseluruhan proses pembelajarannya, dibimbing atau di-supervisi. Tujuan utama learning algorithms ini adalah untuk memprediksi hasil yang diberikan serangkaian training samples bersama dengan training labels, yang juga dikenal sebagai classifying data point. Karena, kita memberi tahu algoritma pada saat pelatihan, apa yang harus diprediksi, karenanya hal itu disebut supervised learning. Mari kita pahami dengan sebuah contoh.\n"
      ]
    },
    {
      "cell_type": "markdown",
      "metadata": {
        "id": "cGIN20wzG3hi"
      },
      "source": [
        "- Algoritma machine learning dengan **menggunakan data latih** untuk melakukan pembelajaran. \n",
        "- Data latihnya adalah **data yang sudah berlabel**. \n",
        "- Tujuannya agar mesin mampu mengidentifikasikan label input yang baru dengan menggunakan fitur yang ada untuk melakukan **prediksi** maupun **klasifikasi**. "
      ]
    },
    {
      "cell_type": "markdown",
      "metadata": {
        "id": "Vvaiv80LK4ZO"
      },
      "source": [
        "\n",
        "\n",
        "<img src=\"https://i.ibb.co/yNBMh90/Supervised-Learning.png\" width=\"650\" align=\"center\">\n",
        "\n",
        "\n",
        "<img src=\"https://i.ibb.co/hZ2qRKJ/Screen-Shot-2021-10-03-at-10-20-20-AM.png\" width=\"650\" align=\"center\">\n",
        "\n",
        "\n"
      ]
    },
    {
      "cell_type": "markdown",
      "metadata": {
        "id": "45iy0L9kS-nv"
      },
      "source": [
        "Supervised Learning : \n",
        " - REGRESI \n",
        "  - Fungsi model kontiu untuk meramalkan suatu nilai yang belum di ketahui \n",
        "  - Contoh : \n",
        "      - Prediksi nilai mahasiswa, dengan mengetahui waktu jam tiap belajar \n",
        "      - Prediksi harga rumah, dengan telah di ketehui tipe rumah  \n",
        "  - Metode : Linear Regression, Logistic Regression dan Multiple Regression dll     \n",
        " - KLASIFIKASI \n",
        "  - Proses pengelompokan data berdasarkan pelatihan data dan kelas labelnya dalam klasifikasi atribut, serta menggunakan  pemodelan untuk mengkalasifikasian data baru \n",
        "  Contoh : \n",
        "    - Mengklasifikasikan sebuah gambar, kategori anjing atau kucing \n",
        "    - mengkategorikan email spam atau bukan spam, promosi , updated \n",
        "  - Metode : Naive Bayes, Decision Trees, Suport Vector , K-Nearest Neighbor\n",
        "\n"
      ]
    },
    {
      "cell_type": "markdown",
      "metadata": {
        "id": "bTt-8PQ2L630"
      },
      "source": [
        "- Keuntungan \n",
        "\n",
        "  - Pembelajaran yang diawasi sangat membantu dalam memperoleh output dari pengalaman masa lalu atau pengetahuan sebelumnya.\n",
        "  - Ini mendukung optimalisasi kinerja dengan menggabungkan pengalaman masa lalu.\n",
        "  - Pembelajaran mesin yang diawasi cenderung memecahkan beberapa jenis masalah komputasi praktis.\n",
        "\n",
        "- Kekurangan \n",
        "\n",
        "  - Satu-satunya kelemahan dari model pembelajaran terawasi adalah tidak dapat menangani tugas-tugas yang rumit.\n",
        "  - Jika dataset uji bervariasi dari dataset pelatihan, algoritma pembelajaran yang diawasi akan menghadapi masalah saat memprediksi hasilnya.\n",
        "  - Pelatihan membutuhkan banyak waktu komputasi.\n",
        "  - Itu memang membutuhkan banyak pengetahuan tentang kelas objek."
      ]
    },
    {
      "cell_type": "markdown",
      "metadata": {
        "id": "F4FoPVd9Iw32"
      },
      "source": [
        "-------"
      ]
    },
    {
      "cell_type": "markdown",
      "metadata": {
        "id": "a_i-ryJMr9Sh"
      },
      "source": [
        "### Unsupervised Learning"
      ]
    },
    {
      "cell_type": "markdown",
      "metadata": {
        "id": "jlc2216PuDXa"
      },
      "source": [
        "\n",
        "\n",
        "Tidak seperti supervised learning, kita tidak memiliki label pelatihan untuk sampel pelatihan. Algoritma tersebut dirumuskan sedemikian rupa sehingga dapat menemukan struktur dan pola yang sesuai dalam data. Setelah pola yang konsisten ini menjadi jelas, titik data serupa dapat dikelompokkan bersama, dan titik data yang berbeda akan berada dalam kelompok yang berbeda. Ini sebagian besar digunakan untuk memproyeksikan data dimensi tinggi ke dalam dimensi rendah untuk tujuan visualisasi atau analisis.\n",
        "\n",
        "Goal dari unsupervised learning adalah untuk memodelkan struktur dasar atau distribusi dalam data dengan tujuan untuk mempelajari data lebih jauh lagi, dengan kata lain, adalah menyimpulkan fungsi yang mendeskripsikan atau menjelaskan data. Berbeda dengan supervised learning, di sini tidak ada jawaban yang ‘dibenarkan secara terarah’ dan tidak ada ‘guru’.\n",
        "\n"
      ]
    },
    {
      "cell_type": "markdown",
      "metadata": {
        "id": "pYVjREzrsJWc"
      },
      "source": [
        "### Reinforcement Learning"
      ]
    },
    {
      "cell_type": "markdown",
      "metadata": {
        "id": "DWnKEMM8sH5g"
      },
      "source": [
        "\n",
        "\n",
        "Reinforcement Learning adalah jenis machine learning yang memiliki agent (seperti robot) yang belajar bagaimana berperilaku di lingkungan dengan mengambil tindakan dan mengukur hasilnya. Jika agent memberikan tanggapan yang benar, ia mendapat reward point, yang meningkatkan kepercayaan diri agen untuk mengambil lebih banyak tindakan semacam itu.\n",
        "\n",
        "Jika kalian terbiasa dengan psikologi, kalian pasti pernah mendengar tentang reinforcement learning. Jika belum, kita pasti sudah mengetahui konsepnya dari cara kita belajar dalam kehidupan sehari-hari. Dalam pendekatan ini, positive and negative feedback sesekali digunakan untuk reinforce perilaku. Anggap saja seperti melatih anjing, perilaku yang baik dihargai dengan treat dan menjadi lebih umum dilakukan. Perilaku buruk dihukum dan menjadi kurang umum dilakukan. Perilaku reward-motivated ini adalah kunci dalam reinforcement learning.\n",
        "\n",
        "Beberapa aplikasi dari pembelajaran Reinforcement adalah game (Alpha Go, Chess, Mario), robotics, traffic light control system, dll.\n",
        "\n",
        "Itu semua tentang Machine Learning. Sekarang saatnya kita mengenal sedikit tentang Deep Learning."
      ]
    },
    {
      "cell_type": "markdown",
      "metadata": {
        "id": "BGMawb6tsP2y"
      },
      "source": [
        "## Deep Learning"
      ]
    },
    {
      "cell_type": "markdown",
      "metadata": {
        "id": "JIsO4dBcsO3Z"
      },
      "source": [
        "\n",
        "Deep Learning adalah subkategori machine learning. Seperti yang telah dibahas sebelumnya, ide AI terinspirasi dari otak manusia. Jadi, mari kita coba hubungkan titik-titik di sini, deep learning terinspirasi oleh artificial neural networks dan artificial neural networks biasa dikenal sebagai ANN terinspirasi oleh jaringan saraf biologis manusia."
      ]
    },
    {
      "cell_type": "markdown",
      "metadata": {
        "id": "sFtxbVq19tqa"
      },
      "source": [
        "<img src=\"https://i.ibb.co/PhXvB5S/ANN.png\" width=\"550\" align=\"center\">\n",
        "\n"
      ]
    },
    {
      "cell_type": "markdown",
      "metadata": {
        "id": "kEk4txWh9ztW"
      },
      "source": [
        "Seperti yang kita lihat dari gambar di atas, ini adalah shallow neural network yang dapat disebut sebagai *Shallow Learning Network*. Neural network akan selalu memiliki:\n",
        "\n",
        "- Input layer : Ini bisa berupa piksel gambar atau data deret waktu\n",
        "- Hidden layer :  Umumnya dikenal sebagai bobot yang dipelajari saat jaringan saraf dilatih\n",
        "- Output layer : Lapisan terakhir terutama memberi Anda prediksi input yang Anda masukkan ke jaringan Anda.\n",
        "\n",
        "Jadi, neural network adalah approximation function di mana jaringan mencoba mempelajari parameter (bobot) di hidden layers yang bila dikalikan dengan input akan memberi kita predicted output mendekati outputyang diinginkan.\n",
        "\n",
        "**Applications of Machine Learning and Deep Learning**\n",
        "\n",
        "Machine learning dan deep learning banyak digunakan di banyak domain:\n",
        "\n",
        "- Medical: Untuk deteksi sel kanker, restorasi citra MRI otak, pencetakan gen, dll.\n",
        "- Document: Penyelesaian super gambar dokumen sejarah, segmentasi teks dalam gambar dokumen.\n",
        "- Bank: Prediksi saham, keputusan keuangan.\n",
        "- Natural Language Processing: sistem rekomendasi: Netflix menggunakan sistem rekomendasi untuk menyarankan film kepada pengguna berdasarkan minat mereka, analisis sentimen, penandaan foto.\n",
        "- Information Retrieval: mesin pencari, baik pencarian teks, maupun pencarian gambar seperti yang digunakan oleh Google, Amazon, Facebook, Linkedin, dll."
      ]
    },
    {
      "cell_type": "markdown",
      "metadata": {
        "id": "WZUjHrDDNlmU"
      },
      "source": [
        ""
      ]
    },
    {
      "cell_type": "markdown",
      "metadata": {
        "id": "8uD3HAIsOGrl"
      },
      "source": [
        "# Regression"
      ]
    },
    {
      "cell_type": "markdown",
      "metadata": {
        "id": "aOvcBKsgOt-8"
      },
      "source": [
        "Regression analysis adalah salah satu bidang terpenting dalam statistik dan machine learning."
      ]
    },
    {
      "cell_type": "markdown",
      "metadata": {
        "id": "zCpBVMdcmpfD"
      },
      "source": [
        "**What Is Regression?**\n",
        "\n",
        "Teknik yang mencari hubungan antara ***variabel dependen*** dengan ***variabel indepeden***. "
      ]
    },
    {
      "cell_type": "markdown",
      "metadata": {
        "id": "iVQ7C3eomrLN"
      },
      "source": [
        "**Variabel dependen** adalah apa yang diukur dalam percobaan. Ini adalah perubahan karena adanya perubahan pada variabel independen.\n",
        "\n",
        "dependen karena “bergantung” pada variabel independen\n",
        "\n",
        "**Variabel dependen** juga disebut variabel output, kriteria, atau konsekuensial. itu adalah akibat atau pengaruh yang ditimbulkan oleh variabel bebas.\n",
        "\n",
        "\n"
      ]
    },
    {
      "cell_type": "markdown",
      "metadata": {
        "id": "og2LdNeznfTr"
      },
      "source": [
        "**Variabel independen** merupakan variabel yang memengaruhi atau menyebabkan perubahan pada faktor yang diukur atau dipilih oleh seorang peneliti dalam mengetahui hubungan antara fenomena yang diamati.\n",
        "\n",
        "**Variabel independen** adalah variabel yang menyebabkan atau mempengaruhi perubahan variabel dependen atau yang menyebabkan perubahan variabel dependen. Jika variabel independen berubah, variabel dependen juga berubah.\n",
        "\n",
        "Variabel ini diukur, dimanipulasi, atau dipilih oleh peneliti untuk menentukan hubungannya dengan gejala yang diamati."
      ]
    },
    {
      "cell_type": "markdown",
      "metadata": {
        "id": "81EAQdF6O1op"
      },
      "source": [
        "\n",
        "\n",
        "Regresi adalah proses identifikasi relasi dan pengaruh pada nilai - nilai objek. \n",
        "\n",
        "- Tujuan :  menemukan suatu fungsi yang memodelkan data dengan meminimalkan selesih antara nilai prediksi dengan nilai sebenarnya \n",
        "\n",
        "- Alat ukur :  Mengertahui adanya korelasi antara variabel dan bisa juga menentukan tingkat perubahan suatu variabel terhadap variabel lainnya. \n",
        "\n",
        "- Penggunaan (Umumnya)  : Prediksi (Prediction) dan Permalan (Forcasting). \n",
        "\n",
        "- Prediksi (Prediction) : digunakan untuk memperkirakan nilai-nilai data bertipe apa saja dan kapan saja (Masa depan , masa lalu dan sekarang). \n",
        "\n",
        "- Peramalan (Forcasting) : digunakan untuk memperkirakan nilai-nilai data time series di masa depan. \n",
        "\n"
      ]
    },
    {
      "cell_type": "markdown",
      "metadata": {
        "id": "0mt3a1OcLllO"
      },
      "source": [
        "Contoh : \n",
        " - Memprediksi *harga rumah* dari *luas tanah*. \n",
        "   - harga rumah : variabel dependen \n",
        "   - luas tanah : variabel independen\n",
        " - Memprediksi *berat badan* dari kalori yang di kosumsi\n",
        " - Memprediksi *jarah tempuh* dari *konsumsi bahan bakar, efesiensi mesin, jenis bahan bakar dan kondisi jalan*. "
      ]
    },
    {
      "cell_type": "markdown",
      "metadata": {
        "id": "GuwgN--b9Woj"
      },
      "source": [
        "\n",
        "Regression adalah bentuk lain dari supervised learning. **Perbedaan antara classification dan regression adalah bahwa regression menghasilkan angka daripada kelas**. Oleh karena itu, regression **berguna saat memprediksi masalah berbasis angka seperti harga pasar saham, suhu untuk hari tertentu, atau probabilitas suatu peristiwa**.\n",
        "\n",
        "Misalnya, kita dapat mengamati beberapa karyawan dari beberapa perusahaan dan mencoba memahami bagaimana gaji mereka bergantung pada fitur, seperti pengalaman, tingkat pendidikan, peran, kota tempat mereka bekerja, dan sebagainya.\n",
        "\n",
        "Contoh diatas adalah masalah regresi dimana data yang terkait dengan setiap karyawan merupakan satu observasi. Asumsinya, pengalaman, pendidikan, peran, dan kota adalah ciri-ciri tersendiri, sedangkan gaji bergantung padanya.\n",
        "\n",
        "Demikian pula, kita dapat mencoba membangun mathematical dependence/ketergantungan matematis dari harga rumah dengan wilayah, jumlah kamar tidur, jarak ke pusat kota, dan sebagainya.\n",
        "\n",
        "Secara umum, dalam regression analysis, kita biasanya mempertimbangkan beberapa fenomena yang menarik dan memiliki sejumlah pengamatan. Setiap observasi memiliki dua atau lebih fitur. Mengikuti asumsi bahwa (setidaknya) salah satu fitur bergantung pada yang lain, kita mencoba membangun hubungan di antara fitur tersebut.\n",
        "\n",
        "Dengan kata lain, kita perlu menemukan fungsi yang memetakan beberapa fitur atau variabel ke fitur lain dengan cukup baik.\n",
        "\n",
        "- **Fitur dependen/dependent features disebut variabel dependen/dependent variables, output, atau responses.**\n",
        "\n",
        "- **Fitur independen disebut variabel independen/independent variables, input, atau predictors.**\n",
        "\n",
        "Masalah regresi biasanya memiliki satu variabel dependen yang kontinu dan tidak terbatas. Namun, masukan dapat berupa data kontinu, diskrit, atau bahkan kategorikal seperti jenis kelamin, kebangsaan, merek, dan sebagainya.\n",
        "\n",
        "Biasanya kita melambangkan ***output dengan 𝑦*** dan ***input dengan 𝑥***. Jika ada dua atau lebih variabel independen, mereka dapat direpresentasikan sebagai vektor 𝐱 = (𝑥₁,…, 𝑥ᵣ), di mana 𝑟 adalah jumlah input."
      ]
    },
    {
      "cell_type": "markdown",
      "metadata": {
        "id": "yIvWjfVWQFPT"
      },
      "source": [
        "\n",
        "**When Do You Need Regression?** \n",
        "\n",
        "Biasanya, kita memerlukan regresi untuk menjawab apakah dan bagaimana beberapa fenomena memengaruhi yang lain atau bagaimana terkaitnya variabel yang ada. Misalnya, kita dapat menggunakannya untuk menentukan apakah dan sejauh mana pengalaman atau gender memengaruhi gaji.\n",
        "\n",
        "Regresi juga berguna saat kita ingin meramalkan respons menggunakan kumpulan prediktor baru. Misalnya, kita dapat mencoba memprediksi konsumsi listrik rumah tangga untuk satu jam ke depan dengan melihat suhu luar ruangan, waktu, dan jumlah penduduk dalam rumah tersebut.\n",
        "\n",
        "Regresi digunakan di berbagai bidang: ekonomi, ilmu komputer, ilmu sosial, dan sebagainya. Kepentingannya meningkat setiap hari dengan ketersediaan data dalam jumlah besar dan kesadaran yang meningkat tentang nilai praktis data.\n"
      ]
    },
    {
      "cell_type": "markdown",
      "metadata": {
        "id": "G59a2ttxM5W2"
      },
      "source": [
        "**Jenis Jenis Regresi :** \n",
        "  - Regresi linear sederahana (simple regression) \n",
        "  - Regresi multilinear (multiple regression) \n",
        "  - Regresi plynomial (polynomial regresion) \n",
        "  - Support vector regresion \n",
        "  - Decision tree regresion \n",
        "  - Random forest regresion"
      ]
    },
    {
      "cell_type": "markdown",
      "metadata": {
        "id": "dcA3M3wJ5lKc"
      },
      "source": [
        "## Linear Regression"
      ]
    },
    {
      "cell_type": "markdown",
      "metadata": {
        "id": "ipQEin8m5gV3"
      },
      "source": [
        "\n",
        "Linear regression mungkin salah satu teknik regresi yang paling penting dan banyak digunakan. Ini adalah salah satu metode regresi yang paling sederhana. Salah satu keuntungan utamanya adalah kemudahan interpretasi hasil.\n",
        "\n"
      ]
    },
    {
      "cell_type": "markdown",
      "metadata": {
        "id": "nUBnRRcz-xI0"
      },
      "source": [
        "## Problem Formulation\n"
      ]
    },
    {
      "cell_type": "markdown",
      "metadata": {
        "id": "0djpXk6f-0fZ"
      },
      "source": [
        "Saat menerapkan linear regression dari beberaoa variabel dependen 𝑦 pada himpunan variabel independen 𝐱 = (𝑥₁,…, 𝑥ᵣ), di mana 𝑟 adalah jumlah prediktor, kita mengasumsikan linear relationship antara 𝑦 dan 𝐱: 𝑦 = 𝛽₀ + 𝛽₁𝑥₁ + 𝛽₁𝑥₁ + 𝛽ᵣ𝑥ᵣ + 𝜀. Persamaan ini adalah persamaan regresi. 𝛽₀, 𝛽₁,…, 𝛽ᵣ adalah koefisien regresi, dan 𝜀 adalah random error.\n"
      ]
    },
    {
      "cell_type": "markdown",
      "metadata": {
        "id": "YEBjFas8-0_D"
      },
      "source": [
        "Linear regression menghitung estimators dari koefisien regresi atau predicted weights, dilambangkan dengan 𝑏₀, 𝑏₁,…, 𝑏ᵣ. Koefisien regresi mendefinisikan estimated regression function 𝑓 (𝐱) = 𝑏₀ + 𝑏₁𝑥₁ + ⋯ + 𝑏ᵣ𝑥ᵣ. Fungsi ini harus menangkap ketergantungan antara input dan output dengan cukup baik."
      ]
    },
    {
      "cell_type": "markdown",
      "metadata": {
        "id": "oTpepkPiE47L"
      },
      "source": [
        "Estimated atau predicted response, 𝑓 (𝐱ᵢ), untuk setiap pengamatan 𝑖 = 1,…, 𝑛, harus sedekat mungkin dengan actual response yang sesuai 𝑦ᵢ. Perbedaan 𝑦ᵢ - 𝑓 (𝐱ᵢ) untuk semua pengamatan 𝑖 = 1,…, 𝑛, disebut residuals. Regresi adalah tentang menentukan best predicted weights, yaitu bobot yang sesuai dengan residuals terkecil."
      ]
    },
    {
      "cell_type": "markdown",
      "metadata": {
        "id": "B4NKULeeE5Vs"
      },
      "source": [
        "Untuk mendapatkan bobot terbaik, biasanya kita meminimalkan sum of squared residuals (SSR) untuk semua pengamatan 𝑖 = 1,…, 𝑛: SSR = Σᵢ (𝑦ᵢ - 𝑓 (𝐱ᵢ)) ². Pendekatan ini disebut method of ordinary least squares."
      ]
    },
    {
      "cell_type": "markdown",
      "metadata": {
        "id": "ChdtjYr2E5tT"
      },
      "source": [
        "## Regression Performance\n"
      ]
    },
    {
      "cell_type": "markdown",
      "metadata": {
        "id": "HIk4P2AGFFn6"
      },
      "source": [
        "Variasi respon aktual 𝑦ᵢ, 𝑖 = 1,…, 𝑛, terjadi sebagian karena ketergantungan pada prediktor 𝐱ᵢ. Namun, ada juga varian tambahan yang melekat pada output.\n",
        "\n",
        "Coefficient of determination, dilambangkan sebagai 𝑅², memberi tahu kita berapa banyak variasi dalam 𝑦 yang dapat dijelaskan oleh ketergantungan pada 𝐱 menggunakan model regresi tertentu. Lebih besar 𝑅² menunjukkan kesesuaian yang lebih baik dan berarti bahwa model dapat menjelaskan variasi keluaran dengan masukan yang berbeda dengan lebih baik.\n",
        "\n",
        "Nilai 𝑅² = 1 sesuai dengan SSR = 0, yaitu perfect fit karena nilai prediksi dan respons aktual saling cocok satu sama lain.\n",
        "\n"
      ]
    },
    {
      "cell_type": "markdown",
      "metadata": {
        "id": "rdzjdtMDFRbE"
      },
      "source": [
        "## Simple Linear Regression\n"
      ]
    },
    {
      "cell_type": "markdown",
      "metadata": {
        "id": "t-Q0BL-DFVwM"
      },
      "source": [
        "Simple atau single-variate linear regression adalah kasus regresi linier yang paling sederhana dengan variabel independen tunggal, 𝐱 = 𝑥.\n",
        "\n",
        "Gambar berikut menggambarkan regresi linier sederhana:\n",
        "\n"
      ]
    },
    {
      "cell_type": "markdown",
      "metadata": {
        "id": "t_1BAwvJNh8M"
      },
      "source": [
        "<img src=\"https://i.ibb.co/bNzsy8b/simple-linear-grafik.png\" width=\"550\" align=\"center\">\n",
        "\n"
      ]
    },
    {
      "cell_type": "markdown",
      "metadata": {
        "id": "wW51xkAJNjMx"
      },
      "source": [
        "Saat menerapkan simple linear regression, kita biasanya mulai dengan kumpulan pasangan input-output (𝑥-𝑦) tertentu (lingkaran hijau). Pasangan ini adalah observasi kita. Misalnya, pengamatan paling kiri (lingkaran hijau) memiliki masukan 𝑥 = 5 dan keluaran aktual (tanggapan) 𝑦 = 5. Yang berikutnya memiliki 𝑥 = 15 dan 𝑦 = 20, dan seterusnya.\n",
        "\n",
        "\n",
        "Estimated regression function (garis hitam) memiliki persamaan 𝑓 (𝑥) = 𝑏₀ + 𝑏₁𝑥. Tujuan kita adalah menghitung nilai optimal dari bobot prediksi 𝑏₀ dan 𝑏₁ yang meminimalkan SSR (Sum of Squares Regression)  dan menentukan estimated regression function. Nilai 𝑏₀, juga disebut intercept, menunjukkan titik di mana garis regresi yang diperkirakan melintasi sumbu 𝑦. Ini adalah nilai perkiraan respon 𝑓 (𝑥) untuk 𝑥 = 0. Nilai 𝑏₁ menentukan kemiringan/slope garis regresi yang diperkirakan.\n",
        "\n",
        "\n",
        "Predicted responses (kotak merah) adalah titik-titik pada regression line yang sesuai dengan nilai input. Misalnya, untuk input 𝑥 = 5, respons yang diprediksi adalah 𝑓 (5) = 8,33 (diwakili dengan kotak merah paling kiri).\n",
        "\n",
        "Residuals (garis abu-abu putus-putus vertikal) dapat dihitung sebagai 𝑦ᵢ - 𝑓 (𝐱ᵢ) = 𝑦ᵢ - 𝑏₀ - 𝑏₁𝑥ᵢ untuk 𝑖 = 1,…, 𝑛. Itu adalah jarak antara lingkaran hijau dan kotak merah. Saat kita menerapkan regresi linier, kita sebenarnya mencoba meminimalkan jarak ini dan membuat kotak merah sedekat mungkin dengan lingkaran hijau yang telah ditentukan sebelumnya."
      ]
    },
    {
      "cell_type": "markdown",
      "metadata": {
        "id": "SRYIuhyNP7jZ"
      },
      "source": [
        "- Mencari hubungan antara 1 variabel dependen (Y) dengan 1 variabel independen (X) \n",
        "\n",
        "- Formula matematis : \n",
        "\n"
      ]
    },
    {
      "cell_type": "markdown",
      "metadata": {
        "id": "DN7dBhYAQlze"
      },
      "source": [
        "<img src=\"https://i.ibb.co/48CD6Kz/Formula.png\" width=\"550\" align=\"center\">\n"
      ]
    },
    {
      "cell_type": "markdown",
      "metadata": {
        "id": "Qb7MYs52Rt7n"
      },
      "source": [
        "𝑏₀ : Koefesion / intersecept yang bisa menentukan nilai Y \n",
        "\n",
        "𝑏₁ : Conversi dari satuan X menjadi satuan Y\n",
        "\n",
        "E₁ : Selesi perbedaan dari data aslinya \n",
        "\n"
      ]
    },
    {
      "cell_type": "markdown",
      "metadata": {
        "id": "uafT0fG2N3Bx"
      },
      "source": [
        "## Multiple Linear Regression\n"
      ]
    },
    {
      "cell_type": "markdown",
      "metadata": {
        "id": "IfultoAVWa3X"
      },
      "source": [
        " - Mencari hubungan antara 1 variabel dependen (Y) dengan banyak variabel independen (X1,X2,...,Xn) "
      ]
    },
    {
      "cell_type": "markdown",
      "metadata": {
        "id": "r-ysh13FN4vn"
      },
      "source": [
        "Multiple atau multivariate linear regression adalah kasus regresi linier dengan dua atau lebih independent variables.\n",
        "\n",
        "Jika hanya ada dua independent variables, estimated regression function-nya adalah 𝑓 (𝑥₁, 𝑥₂) = 𝑏₀ + 𝑏₁𝑥₁ + 𝑏₂𝑥₂. Ini mewakili bidang regresi dalam ruang tiga dimensi. Tujuan dari regresi adalah untuk menentukan nilai bobot 𝑏₀, 𝑏₁, dan 𝑏₂ sedemikian rupa sehingga bidang ini sedekat mungkin dengan respons aktual dan menghasilkan SSR minimal.\n",
        "\n",
        "Kasus lebih dari dua independent variables adalah serupa, tetapi lebih umum. Estimated regression function adalah 𝑓 (𝑥₁,…, 𝑥ᵣ) = 𝑏₀ + 𝑏₁𝑥₁ + ⋯ + 𝑏ᵣ𝑥ᵣ, dan ada 𝑟 + 1 bobot yang harus ditentukan jika jumlah masukan adalah 𝑟.\n",
        "\n"
      ]
    },
    {
      "cell_type": "markdown",
      "metadata": {
        "id": "B9nYk7gDN5O8"
      },
      "source": [
        "## Polynomial Regression\n"
      ]
    },
    {
      "cell_type": "markdown",
      "metadata": {
        "id": "2rOH7dcWVNfs"
      },
      "source": [
        " - Mencari hubungan antara 1 variabel dependen (Y) dengan banyak variabel independen (X1,X2,...,Xn) yang tidak linear secara 2 dimensi. \n",
        "\n",
        " Kapan menggunakan ? \n",
        "  - pada saat mencoba multilinear mengahasilkan datanya tidak fit dan dilihat visualisasikan jika garis lurus tidak mempresentasikan titik asli dari data yang dimiliki. \n",
        "  \n",
        "   "
      ]
    },
    {
      "cell_type": "markdown",
      "metadata": {
        "id": "Bevr9-CAN-Xl"
      },
      "source": [
        "Kita dapat menganggap polynomial regression sebagai kasus umum linear regression. Kita mengasumsikan polynomial dependence antara output dan inputs , dan menghasilkan, polynomial estimated regression function.\n",
        "\n",
        "Dengan kata lain, selain istilah linier seperti 𝑏₁𝑥₁, fungsi regresi kita 𝑓 dapat menyertakan istilah non-linier seperti 𝑏₂𝑥₁², 𝑏₃𝑥₁³, atau bahkan 𝑏₄𝑥₁𝑥₂, 𝑏₅𝑥₁²𝑥₂, dan seterusnya.\n",
        "\n",
        "Contoh paling sederhana dari polynomial regression memiliki satu independent variable, dan estimated regression function adalah polynomial of degree 2: 𝑓 (𝑥) = 𝑏₀ + 𝑏₁𝑥 + 𝑏₂𝑥². Sekarang, ingatlah bahwa kita ingin menghitung 𝑏₀, 𝑏₁, dan 𝑏₂, yang meminimalkan SSR.\n",
        "\n",
        "Dengan mengingat hal ini, bandingkan regression function sebelumnya dengan fungsi 𝑓 (𝑥₁, 𝑥₂) = 𝑏₀ + 𝑏₁𝑥₁ + 𝑏₂𝑥₂ yang digunakan untuk linear regression. Mereka terlihat sangat mirip dan keduanya merupakan linear functions of the unknowns 𝑏₀, 𝑏₁, dan 𝑏₂. Inilah mengapa kita dapat menyelesaikan polynomial regression problem sebagai linier problem dengan istilah 𝑥² dianggap sebagai input variable.\n",
        "\n",
        "Dalam kasus dua variabel dan polynomial of degree 2, regression function memiliki bentuk ini: 𝑓 (𝑥₁, 𝑥₂) = 𝑏₀ + 𝑏₁𝑥₁ + 𝑏₂𝑥₂ + 𝑏₃𝑥₁² + 𝑏₄𝑥₁𝑥₂ + 𝑏₅𝑥₂². Prosedur penyelesaian masalah identik dengan kasus sebelumnya. Kita menerapkan regresi linier untuk lima masukan: 𝑥₁, 𝑥₂, 𝑥₁², 𝑥₁𝑥₂, dan 𝑥₂². Hasil dari regresi adalah nilai dari enam bobot yang meminimalkan SSR: 𝑏₀, 𝑏₁, 𝑏₂, 𝑏₃, 𝑏₄, dan 𝑏₅.\n"
      ]
    },
    {
      "cell_type": "markdown",
      "metadata": {
        "id": "4PSD-f3fOMPY"
      },
      "source": [
        "## Underfitting and Overfitting\n"
      ]
    },
    {
      "cell_type": "markdown",
      "metadata": {
        "id": "_Zj_O0TfORgs"
      },
      "source": [
        "Satu pertanyaan sangat penting yang mungkin muncul saat kita menerapkan polynomial regression terkait dengan pilihan optimal degree dari polynomial regression function.\n",
        "\n",
        "Tidak ada aturan langsung untuk melakukan ini. Tergantung kasusnya. Namun, kita harus menyadari dua masalah yang mungkin mengikuti choice of the degree: **underfitting dan overfitting**.\n",
        "\n",
        "**Underfitting** terjadi jika model tidak dapat menangkap dependensi di antara data secara akurat, biasanya sebagai konsekuensi dari kesederhanaannya sendiri. Seringkali menghasilkan 𝑅² rendah dengan data yang diketahui dan kemampuan generalisasi yang buruk saat diterapkan dengan data baru.\n",
        "\n",
        "**Overfitting** terjadi saat model mempelajari dependensi di antara data dan fluktuasi acak. Dengan kata lain, model mempelajari data yang ada dengan terlalu baik. Model kompleks, yang memiliki banyak fitur atau istilah, sering kali cenderung overfitting. Ketika diterapkan pada data yang diketahui, model seperti itu biasanya menghasilkan 𝑅² yang tinggi. Namun, mereka sering tidak menggeneralisasi dengan baik dan memiliki lebih rendah secara signifikan 𝑅² saat digunakan dengan data baru.\n",
        "\n",
        "Gambar berikut mengilustrasikan model underfitted, well-fit, dan overfitted:\n",
        "\n"
      ]
    },
    {
      "cell_type": "markdown",
      "metadata": {
        "id": "3GLbzjx5OUjv"
      },
      "source": [
        "<img src=\"https://i.ibb.co/wW3Dzjs/poly-reg-5790f47603d8.png\" width=\"550\" align=\"center\">\n",
        "\n",
        "\n"
      ]
    },
    {
      "cell_type": "markdown",
      "metadata": {
        "id": "JHy5HhmiXRLN"
      },
      "source": [
        "Plot kiri atas menunjukkan garis linear regression yang memiliki 𝑅² rendah. Mungkin juga penting bahwa garis lurus tidak dapat mengambil fakta bahwa actual response meningkat saat 𝑥 menjauh dari 25 menuju nol. Ini adalah contoh underfitting.\n",
        "\n",
        "Plot kanan atas menggambarkanpolynomial regression dengan degree sama dengan 2. Dalam contoh ini, mungkin derajat optimal untuk memodelkan data tersebut. Model ini memiliki nilai 𝑅² yang memuaskan dalam banyak kasus dan menunjukkan tren dengan baik.\n",
        "\n",
        "Plot kiri bawah menampilkan polynomial regression dengan degree sama dengan 3. Nilai 𝑅² lebih tinggi dari pada kasus sebelumnya. Model ini berperilaku lebih baik dengan data yang diketahui daripada yang sebelumnya. Namun, ini menunjukkan beberapa tanda overfitting, terutama untuk nilai input yang mendekati 60 saat garis mulai menurun, meskipun data sebenarnya tidak menunjukkannya.\n",
        "\n",
        "Akhirnya, pada plot kanan bawah, kita dapat melihat kesesuaian yang sempurna: enam titik dan polynomial line dengan derajat 5 (atau lebih tinggi) menghasilkan 𝑅² = 1. Setiap respons aktual sama dengan prediksi yang sesuai.\n",
        "\n",
        "Dalam beberapa situasi, ini mungkin yang kita cari. Namun, dalam banyak kasus, ini adalah model yang terlalu pas. Ini cenderung memiliki perilaku yang buruk dengan data yang tidak terlihat, terutama dengan input yang lebih besar dari 50.\n",
        "\n",
        "Sebagai contoh, ini mengasumsikan, tanpa bukti apapun, bahwa terdapat penurunan yang signifikan dalam respon untuk 𝑥> 50 dan 𝑦 mencapai nol untuk 𝑥 mendekati 60. Perilaku tersebut merupakan konsekuensi dari usaha yang berlebihan untuk mempelajari dan menyesuaikan dengan data yang ada."
      ]
    },
    {
      "cell_type": "markdown",
      "metadata": {
        "id": "i8yLiTt2Xrhi"
      },
      "source": [
        "#Implementing Linear Regression in Python\n"
      ]
    },
    {
      "cell_type": "markdown",
      "metadata": {
        "id": "Pvt3DagRkmx6"
      },
      "source": [
        "\n",
        "\n",
        "\n",
        "<img src=\"https://i.ibb.co/MRM4jsW/linear-regresion.png\" width=\"750\" align=\"center\">\n",
        "\n",
        "or \n",
        "\n",
        "<img src=\"https://i.ibb.co/fQd1yvH/y-mx-plus-c.png\" width=\"550\" align=\"center\">\n"
      ]
    },
    {
      "cell_type": "markdown",
      "metadata": {
        "id": "0fEY7n2vlTjy"
      },
      "source": [
        "## Manual Linear Regresion \n",
        "\n",
        "\n",
        "\n",
        "\n",
        "\n",
        "\n",
        "\n"
      ]
    },
    {
      "cell_type": "markdown",
      "metadata": {
        "id": "yFq_KPuqly3s"
      },
      "source": [
        "<img src=\"https://i.ibb.co/PzVZ9TB/x-y.pnghttps://i.ibb.co/PzVZ9TB/x-y.png\" width=\"550\" align=\"center\">\n",
        "\n"
      ]
    },
    {
      "cell_type": "markdown",
      "metadata": {
        "id": "WhHDkk1DnUwW"
      },
      "source": [
        "Kita menyelesaikan persamaan y = mx + c."
      ]
    },
    {
      "cell_type": "markdown",
      "metadata": {
        "id": "mEBqfxACnnty"
      },
      "source": [
        "\n",
        "Kita akan mencari intercept dan slope dari data diatas secara manual : \n"
      ]
    },
    {
      "cell_type": "code",
      "metadata": {
        "id": "gX_5O26buUeB"
      },
      "source": [
        "import numpy as np \n",
        "x = np.array([1,3,11,17,26,35])\n",
        "y = np.array([41,60,76,110,150,190])\n",
        "\n",
        "# x = np.array([1,3,10,16,26,36])\n",
        "# y = np.array([42,50,75,100,150,200])"
      ],
      "execution_count": null,
      "outputs": []
    },
    {
      "cell_type": "markdown",
      "metadata": {
        "id": "mfEp1wjEo0hw"
      },
      "source": [
        "1. Kita mencari kemiringan  (m)\n",
        "\n",
        "Kita butuhkan adalah \n",
        "- sum x \n",
        "- sum y \n",
        "- sum x * y \n",
        "- sum (x ** 2 ) \n",
        "- (sum x) ** 2 \n",
        "  "
      ]
    },
    {
      "cell_type": "markdown",
      "metadata": {
        "id": "Yip2jtCBo4zu"
      },
      "source": [
        "Rumus kemiringan atau m \n",
        "\n",
        "<img src=\"https://i.ibb.co/mhjDV4D/m-kemiringan.png\" width=\"550\" align=\"center\">\n"
      ]
    },
    {
      "cell_type": "code",
      "metadata": {
        "colab": {
          "base_uri": "https://localhost:8080/"
        },
        "id": "fgd4jyKkqP9W",
        "outputId": "1969187d-8e5f-40fe-95be-fe47b41543cd"
      },
      "source": [
        "sum_x = np.sum(x) \n",
        "print (\"SUM_X : \",sum_x)\n",
        "sum_y = np.sum(y) \n",
        "print (\"SUM_Y : \",sum_y)\n",
        "\n",
        "x_pangkat = [(i ** 2) for i in x] \n",
        "sum_x_pangkat = np.sum(x_pangkat)\n",
        "print(\"sum_x_pangkat :\",sum_x_pangkat)\n",
        "\n",
        "sum_xy = np.sum(x*y) \n",
        "print(\"sum_xy :\",sum_xy)\n",
        "\n",
        "pangkat_x_sum = sum_x ** 2 \n",
        "print(\"pangkat_x_sum :\",pangkat_x_sum) \n",
        "\n",
        "n=6 \n",
        "print(\"n :\",n)\n"
      ],
      "execution_count": null,
      "outputs": [
        {
          "output_type": "stream",
          "name": "stdout",
          "text": [
            "SUM_X :  93\n",
            "SUM_Y :  627\n",
            "sum_x_pangkat : 2321\n",
            "sum_xy : 13477\n",
            "pangkat_x_sum : 8649\n",
            "n : 6\n"
          ]
        }
      ]
    },
    {
      "cell_type": "code",
      "metadata": {
        "colab": {
          "base_uri": "https://localhost:8080/"
        },
        "id": "o_drZP0woS2a",
        "collapsed": true,
        "outputId": "eb87477c-1920-4bf5-d8be-5fa6c2c76061"
      },
      "source": [
        "m_atas =  (n * sum_xy ) - (sum_x * sum_y) \n",
        "m_bawah = ( n * sum_x_pangkat) - (pangkat_x_sum ) \n",
        "\n",
        "m = m_atas / m_bawah \n",
        "print(\"Nilai kemiringannya : \",m)\n"
      ],
      "execution_count": null,
      "outputs": [
        {
          "output_type": "stream",
          "name": "stdout",
          "text": [
            "Nilai kemiringannya :  4.273450824332007\n"
          ]
        }
      ]
    },
    {
      "cell_type": "markdown",
      "metadata": {
        "id": "cz-jTEBK0cSG"
      },
      "source": [
        "berikutnya kita cari intercep (c) rumus adalah : \n",
        "\n",
        "<img src=\"https://i.ibb.co/6RK4jcC/Screen-Shot-2021-10-04-at-8-00-46-AM.png\" width=\"550\" align=\"center\">\n"
      ]
    },
    {
      "cell_type": "code",
      "metadata": {
        "colab": {
          "base_uri": "https://localhost:8080/"
        },
        "id": "-VaUdHn90J3y",
        "outputId": "787763b1-eed8-4b52-cf45-7c5594c1fa48"
      },
      "source": [
        "#  m = b \n",
        "b = m \n",
        "x_ = sum_x / n \n",
        "y_ = sum_y / n \n",
        "\n",
        "c = (y_ ) - (b * x_)\n",
        "print(\"Hasil Intecept (c) : \",c)"
      ],
      "execution_count": null,
      "outputs": [
        {
          "output_type": "stream",
          "name": "stdout",
          "text": [
            "Hasil Intecept (c) :  38.261512222853895\n"
          ]
        }
      ]
    },
    {
      "cell_type": "markdown",
      "metadata": {
        "id": "QcNHCscGvY54"
      },
      "source": [
        "<img src=\"https://i.ibb.co/MRM4jsW/linear-regresion.png\" width=\"550\" align=\"center\">\n",
        "\n",
        "or \n",
        "\n",
        "<img src=\"https://i.ibb.co/fQd1yvH/y-mx-plus-c.png\" width=\"550\" align=\"center\">"
      ]
    },
    {
      "cell_type": "code",
      "metadata": {
        "colab": {
          "base_uri": "https://localhost:8080/"
        },
        "id": "dYIzCTg2yOBF",
        "outputId": "e5492108-4cfe-4ede-acae-ad9d2825a02e"
      },
      "source": [
        "# y = mx + c  \n",
        "# kita akan memprediksi x = 12 maka \n",
        "x = 12 \n",
        "\n",
        "y = m*x + c \n",
        "print(y)"
      ],
      "execution_count": null,
      "outputs": [
        {
          "output_type": "stream",
          "name": "stdout",
          "text": [
            "89.54292211483798\n"
          ]
        }
      ]
    },
    {
      "cell_type": "markdown",
      "metadata": {
        "id": "SGPQHjNVnonc"
      },
      "source": [
        "## scikit-learn (Latihan dengan data manual)"
      ]
    },
    {
      "cell_type": "code",
      "metadata": {
        "id": "3d0U-1EA2Mzs"
      },
      "source": [
        "import numpy as np\n",
        "import matplotlib.pyplot as plt"
      ],
      "execution_count": null,
      "outputs": []
    },
    {
      "cell_type": "code",
      "metadata": {
        "id": "HdwtQdVe2UGI"
      },
      "source": [
        "# x = np.array([1,3,10,16,26,36])\n",
        "# y = np.array([42,50,75,100,150,200])\n",
        "x = np.array([1,3,11,17,26,35])\n",
        "y = np.array([41,60,76,110,150,190])"
      ],
      "execution_count": null,
      "outputs": []
    },
    {
      "cell_type": "code",
      "metadata": {
        "colab": {
          "base_uri": "https://localhost:8080/"
        },
        "id": "UdG_gJrE2cpR",
        "outputId": "93f1cc86-3123-4490-cc20-471e584a4571"
      },
      "source": [
        "x = x.reshape(-1,1)\n",
        "print (x)"
      ],
      "execution_count": null,
      "outputs": [
        {
          "output_type": "stream",
          "name": "stdout",
          "text": [
            "[[ 1]\n",
            " [ 3]\n",
            " [11]\n",
            " [17]\n",
            " [26]\n",
            " [35]]\n"
          ]
        }
      ]
    },
    {
      "cell_type": "code",
      "metadata": {
        "id": "zzyS4UmH2gva"
      },
      "source": [
        "from sklearn.linear_model import LinearRegression"
      ],
      "execution_count": null,
      "outputs": []
    },
    {
      "cell_type": "code",
      "metadata": {
        "id": "wAoR4iyI2jiC"
      },
      "source": [
        "lr = LinearRegression()\n",
        "model = lr.fit(x,y)"
      ],
      "execution_count": null,
      "outputs": []
    },
    {
      "cell_type": "code",
      "metadata": {
        "colab": {
          "base_uri": "https://localhost:8080/"
        },
        "id": "hCZ6tbwZ2mq1",
        "outputId": "e6bcfca8-6a1b-4808-fa48-34013325c5ec"
      },
      "source": [
        "m = lr.coef_\n",
        "c = lr.intercept_\n",
        "print ('Slope ', m)\n",
        "print ('Intercept ', c)"
      ],
      "execution_count": null,
      "outputs": [
        {
          "output_type": "stream",
          "name": "stdout",
          "text": [
            "Slope  [4.27345082]\n",
            "Intercept  38.261512222853895\n"
          ]
        }
      ]
    },
    {
      "cell_type": "code",
      "metadata": {
        "colab": {
          "base_uri": "https://localhost:8080/"
        },
        "id": "LxWps3z22qx2",
        "outputId": "98e63f6d-6c25-4e42-c1ce-a624f4da4b3b"
      },
      "source": [
        "y_pred = lr.predict([[12]])\n",
        "print(\"Predicted value when x is 12 \", y_pred)"
      ],
      "execution_count": null,
      "outputs": [
        {
          "output_type": "stream",
          "name": "stdout",
          "text": [
            "Predicted value when x is 12  [89.54292211]\n"
          ]
        }
      ]
    },
    {
      "cell_type": "code",
      "metadata": {
        "colab": {
          "base_uri": "https://localhost:8080/"
        },
        "id": "GWy1uqOS3HVz",
        "outputId": "746b2540-eab3-4175-bfab-6b80ba0195ee"
      },
      "source": [
        "y_pred1 = lr.predict(x)\n",
        "print(y_pred1)"
      ],
      "execution_count": null,
      "outputs": [
        {
          "output_type": "stream",
          "name": "stdout",
          "text": [
            "[ 42.53496305  51.0818647   85.26947129 110.91017624 149.37123366\n",
            " 187.83229107]\n"
          ]
        }
      ]
    },
    {
      "cell_type": "code",
      "metadata": {
        "colab": {
          "base_uri": "https://localhost:8080/"
        },
        "id": "nkeleMtr8hJr",
        "outputId": "ca804b29-80bc-4efe-b69a-3d7118144ef7"
      },
      "source": [
        "r_sq = model.score(x, y)\n",
        "print(r_sq)"
      ],
      "execution_count": null,
      "outputs": [
        {
          "output_type": "stream",
          "name": "stdout",
          "text": [
            "0.9892990621324781\n"
          ]
        }
      ]
    },
    {
      "cell_type": "code",
      "metadata": {
        "colab": {
          "base_uri": "https://localhost:8080/",
          "height": 278
        },
        "id": "gUPTeknA2wzY",
        "outputId": "b75c0555-0c90-4b7e-869c-5fb85d455935"
      },
      "source": [
        "plt.scatter(x, y, color = \"b\", marker = \"o\" )\n",
        "plt.plot(x, y_pred1, color = 'g')\n",
        "# putting labels \n",
        "plt.xlabel('X - Axis') \n",
        "plt.ylabel('Y - Axis') \n",
        "\n",
        "# function to show plot \n",
        "plt.show() "
      ],
      "execution_count": null,
      "outputs": [
        {
          "output_type": "display_data",
          "data": {
            "image/png": "[encoded data removed]",
            "text/plain": [
              "<Figure size 432x288 with 1 Axes>"
            ]
          },
          "metadata": {
            "needs_background": "light"
          }
        }
      ]
    },
    {
      "cell_type": "markdown",
      "metadata": {
        "id": "MtnKe1gaX31G"
      },
      "source": [
        "## Simple Linear Regression With scikit-learn\n"
      ]
    },
    {
      "cell_type": "markdown",
      "metadata": {
        "id": "Y3rTAm9MX9hU"
      },
      "source": [
        "Mari kita mulai dengan kasus paling sederhana, yaitu simple linear regression.\n",
        "\n",
        "Ada lima langkah dasar saat kita menerapkan simple linear regression:\n",
        "\n",
        "- Impor paket dan kelas yang Anda butuhkan.\n",
        "- Menyediakan data untuk dikerjakan dan akhirnya melakukan transformasi yang sesuai.\n",
        "- Buat model regresi dan sesuaikan dengan data yang ada.\n",
        "- Periksa hasil model fitting untuk mengetahui apakah model memuaskan.\n",
        "- Terapkan model untuk prediksi.\n",
        "\n",
        "\n",
        "Langkah-langkah ini kurang lebih umum untuk sebagian besar pendekatan dan penerapan regression.\n",
        "\n"
      ]
    },
    {
      "cell_type": "markdown",
      "metadata": {
        "id": "PkAJIkAdYsDO"
      },
      "source": [
        "\n",
        "### Step 1: Import packages and classes\n",
        "\n",
        "Langkah pertama adalah mengimpor package numpy dan class LinearRegression dari sklearn.linear_model:\n"
      ]
    },
    {
      "cell_type": "code",
      "metadata": {
        "id": "m2uW0N8COuct"
      },
      "source": [
        "import numpy as np\n",
        "import matplotlib.pyplot as plt\n",
        "from sklearn.linear_model import LinearRegression\n",
        "\n",
        "%matplotlib inline"
      ],
      "execution_count": null,
      "outputs": []
    },
    {
      "cell_type": "markdown",
      "metadata": {
        "id": "IRsolsFJYWly"
      },
      "source": [
        "Sekarang, kita memiliki semua fungsi yang kita butuhkan untuk menerapkan linear regression.\n",
        "\n",
        "Class `sklearn.linear_model.LinearRegression` akan digunakan untuk melakukan linear and polynomial regression serta membuat prediksi yang sesuai."
      ]
    },
    {
      "cell_type": "markdown",
      "metadata": {
        "id": "xXtFfXJVYYFz"
      },
      "source": [
        "### Step 2: Provide data\n",
        "\n",
        "Langkah kedua adalah menentukan data untuk dikerjakan. Input (regressors, 𝑥) dan output (predictor, 𝑦) harus berupa array (instance kelas numpy.ndarray) atau objek serupa. Ini adalah cara paling sederhana dalam membuat data untuk regression:"
      ]
    },
    {
      "cell_type": "code",
      "metadata": {
        "colab": {
          "base_uri": "https://localhost:8080/"
        },
        "id": "coIcOEchYu_O",
        "outputId": "59e9a975-c94b-4876-a020-a849f24f31b8"
      },
      "source": [
        "x = np.array([5, 15, 25, 35, 45, 55]).reshape((-1, 1))\n",
        "print(x)\n",
        "print(\"X Shape :\",x.shape)\n",
        "y = np.array([5, 20, 14, 32, 22, 38])\n",
        "print(y)\n",
        "print(\"y Shape :\",y.shape)"
      ],
      "execution_count": null,
      "outputs": [
        {
          "output_type": "stream",
          "name": "stdout",
          "text": [
            "[[ 5]\n",
            " [15]\n",
            " [25]\n",
            " [35]\n",
            " [45]\n",
            " [55]]\n",
            "X Shape : (6, 1)\n",
            "[ 5 20 14 32 22 38]\n",
            "y Shape : (6,)\n"
          ]
        }
      ]
    },
    {
      "cell_type": "markdown",
      "metadata": {
        "id": "DT4f_S8CZoyN"
      },
      "source": [
        "### Step 3: Create a model and fit it\n",
        "\n",
        "Langkah selanjutnya adalah membuat linear regression model dan fit dengan data yang ada.\n",
        "\n",
        "Mari buat instance class LinearRegression, yang akan mewakili regression model:\n",
        "\n",
        "\n",
        "\n"
      ]
    },
    {
      "cell_type": "code",
      "metadata": {
        "id": "Q-R6UR1vZXx3"
      },
      "source": [
        "model = LinearRegression()\n"
      ],
      "execution_count": null,
      "outputs": []
    },
    {
      "cell_type": "markdown",
      "metadata": {
        "id": "g-y1T_nUZzuY"
      },
      "source": [
        "Pernyataan ini membuat variable model sebagai instance dari LinearRegression. Kita dapat memberikan beberapa parameter opsional untuk LinearRegression:\n",
        "\n",
        "- **fit_intercept** adalah Boolean (True secara default) yang memutuskan apakah akan menghitung intersep (True) atau menganggapnya sama dengan nol (False).\n",
        "- **normalize** adalah Boolean (False secara default) yang memutuskan apakah akan menormalkan variabel input (True) atau tidak (False).\n",
        "- **copy_X** adalah Boolean (True secara default) yang memutuskan apakah akan menyalin (True) atau menimpa variabel input (False).\n",
        "- **n_jobs** adalah integer atau None (default) dan mewakili jumlah pekerjaan yang digunakan dalam komputasi paralel. None biasanya berarti satu pekerjaan dan -1 untuk menggunakan semua prosesor.\n",
        "\n",
        "Contoh ini menggunakan nilai default dari semua parameter.\n",
        "\n",
        "Saatnya mulai menggunakan model. Pertama, kita perlu memanggil .fit() pada model:"
      ]
    },
    {
      "cell_type": "code",
      "metadata": {
        "colab": {
          "base_uri": "https://localhost:8080/"
        },
        "id": "LUIjv018ZuTE",
        "outputId": "e0a7333a-7d92-4300-8e15-c37af632202e"
      },
      "source": [
        "model.fit(x, y)\n"
      ],
      "execution_count": null,
      "outputs": [
        {
          "output_type": "execute_result",
          "data": {
            "text/plain": [
              "LinearRegression(copy_X=True, fit_intercept=True, n_jobs=None, normalize=False)"
            ]
          },
          "metadata": {},
          "execution_count": 10
        }
      ]
    },
    {
      "cell_type": "markdown",
      "metadata": {
        "id": "nXIpqJYkaknc"
      },
      "source": [
        "Dengan `.fit()`, kita menghitung nilai optimal dari bobot 𝑏₀ dan 𝑏₁, menggunakan masukan dan keluaran yang ada (x dan y) sebagai argumen. `.fit()` mengembalikan self, yang merupakan variable  `model` itu sendiri. Itulah mengapa kita dapat mengganti dua pernyataan terakhir dengan yang ini:"
      ]
    },
    {
      "cell_type": "code",
      "metadata": {
        "id": "9hJ2O0OYafjn"
      },
      "source": [
        "model = LinearRegression().fit(x, y)\n"
      ],
      "execution_count": null,
      "outputs": []
    },
    {
      "cell_type": "markdown",
      "metadata": {
        "id": "NfBf_3jaa3MA"
      },
      "source": [
        "### Step 4: Get results\n",
        "\n",
        "Setelah model kita di-fit, kita bisa mendapatkan hasil untuk memeriksa apakah model bekerja dengan benar.\n",
        "\n",
        "Kita bisa mendapatkan coefficient of determination (𝑅²) dengan `.score()` pada model:"
      ]
    },
    {
      "cell_type": "code",
      "metadata": {
        "colab": {
          "base_uri": "https://localhost:8080/"
        },
        "id": "8ZgLmB5Ca4wz",
        "outputId": "2ae00e71-86be-405b-85a4-f62e470e0330"
      },
      "source": [
        "r_sq = model.score(x, y)\n",
        "print('coefficient of determination:', r_sq)"
      ],
      "execution_count": null,
      "outputs": [
        {
          "output_type": "stream",
          "name": "stdout",
          "text": [
            "coefficient of determination: 0.7158756137479542\n"
          ]
        }
      ]
    },
    {
      "cell_type": "markdown",
      "metadata": {
        "id": "tzK0agBvbL-c"
      },
      "source": [
        "Saat kita memakai `.score()`, argumennya juga merupakan predictor x dan regressor y, dan nilai kembaliannya adalah 𝑅².\n",
        "\n",
        "Atribut `model` adalah \n",
        "- `.intercept_` :  𝑏₀ \n",
        "- `.coef_`, yang mewakili 𝑏₁"
      ]
    },
    {
      "cell_type": "code",
      "metadata": {
        "colab": {
          "base_uri": "https://localhost:8080/"
        },
        "id": "ejIbviY9bTiB",
        "outputId": "64f1c6fd-82d3-4de2-f1df-58dc2299ab41"
      },
      "source": [
        "print('intercept:', model.intercept_)\n",
        "print('slope:', model.coef_)"
      ],
      "execution_count": null,
      "outputs": [
        {
          "output_type": "stream",
          "name": "stdout",
          "text": [
            "intercept: 5.633333333333329\n",
            "slope: [0.54]\n"
          ]
        }
      ]
    },
    {
      "cell_type": "markdown",
      "metadata": {
        "id": "2U5BT6uhcvzk"
      },
      "source": [
        "Kode di atas menggambarkan cara mendapatkan 𝑏₀ dan 𝑏₁. kita dapat melihat bahwa .intercept_ adalah scalar, sedangkan .coef_ adalah array.\n",
        "\n",
        "Nilai 𝑏₀ = 5,63 (kurang-lebih) menggambarkan bahwa model kita memprediksi respons 5,63 ketika 𝑥 adalah nol. Nilai 𝑏₁ = 0,54 berarti respons yang diprediksi naik 0,54 saat 𝑥 naik satu.\n",
        "\n",
        "Kita harus memperhatikan bahwa kita juga dapat memberikan y sebagai two-dimensional array. Dalam kasus ini, kita akan mendapatkan hasil yang serupa. Seperti inilah tampilannya:"
      ]
    },
    {
      "cell_type": "code",
      "metadata": {
        "colab": {
          "base_uri": "https://localhost:8080/"
        },
        "id": "F39WO8tjbV5j",
        "outputId": "2ead6459-b53f-45ae-bb18-b6663fd4c400"
      },
      "source": [
        "# secara ringkas\n",
        "new_model = LinearRegression().fit(x, y.reshape((-1, 1)))\n",
        "print('coefficient of determination:', new_model.score(x, y))\n",
        "print('intercept:', new_model.intercept_)\n",
        "print('slope:', new_model.coef_)"
      ],
      "execution_count": null,
      "outputs": [
        {
          "output_type": "stream",
          "name": "stdout",
          "text": [
            "coefficient of determination: 0.7158756137479542\n",
            "intercept: [5.63333333]\n",
            "slope: [[0.54]]\n"
          ]
        }
      ]
    },
    {
      "cell_type": "markdown",
      "metadata": {
        "id": "RkWmKHNsdXbR"
      },
      "source": [
        "Seperti yang kita lihat, contoh ini sangat mirip dengan yang sebelumnya, tetapi dalam kasus ini, .intercept_ adalah one-dimensional array dengan elemen tunggal 𝑏₀, dan .coef_ adalah two-dimensional array dengan elemen tunggal 𝑏₁."
      ]
    },
    {
      "cell_type": "markdown",
      "metadata": {
        "id": "VVn4MLehdbsS"
      },
      "source": [
        "\n",
        "### Step 5: Predict response\n",
        "\n",
        "Setelah model yang dibuat memuaskan, kita dapat menggunakannya untuk prediksi dengan data baru atau yang sudah ada.\n",
        "\n",
        "Untuk mendapatkan respons yang diprediksi, gunakan .predict():"
      ]
    },
    {
      "cell_type": "code",
      "metadata": {
        "colab": {
          "base_uri": "https://localhost:8080/"
        },
        "id": "uYoQ5HPHcWnX",
        "outputId": "0ef88d4c-b8c5-4580-ca54-0da83f1a409c"
      },
      "source": [
        "y_pred = model.predict(x)\n",
        "print('predicted response:', y_pred, sep='\\n')"
      ],
      "execution_count": null,
      "outputs": [
        {
          "output_type": "stream",
          "name": "stdout",
          "text": [
            "predicted response:\n",
            "[ 8.33333333 13.73333333 19.13333333 24.53333333 29.93333333 35.33333333]\n"
          ]
        }
      ]
    },
    {
      "cell_type": "code",
      "metadata": {
        "colab": {
          "base_uri": "https://localhost:8080/",
          "height": 295
        },
        "id": "ogai7nsjdqLH",
        "outputId": "0572cd32-2c7a-48b6-d169-42f6c4d1c4fb"
      },
      "source": [
        "plt.scatter(x, y, alpha=0.5)\n",
        "plt.plot(x, y_pred)\n",
        "\n",
        "plt.title('Scatter plot x and y')\n",
        "plt.xlabel('x')\n",
        "plt.ylabel('y')\n",
        "plt.show()"
      ],
      "execution_count": null,
      "outputs": [
        {
          "output_type": "display_data",
          "data": {
            "image/png": "[encoded data removed]",
            "text/plain": [
              "<Figure size 432x288 with 1 Axes>"
            ]
          },
          "metadata": {
            "needs_background": "light"
          }
        }
      ]
    },
    {
      "cell_type": "markdown",
      "metadata": {
        "id": "z7YwCxeTdoXb"
      },
      "source": [
        "Saat menerapkan .predict (), kita meneruskan regressor sebagai argumen dan mendapatkan prediksi respons yang sesuai.\n",
        "\n",
        "Ini adalah cara yang hampir identik untuk memprediksi respons:"
      ]
    },
    {
      "cell_type": "code",
      "metadata": {
        "colab": {
          "base_uri": "https://localhost:8080/"
        },
        "id": "eBpMTIatdxep",
        "outputId": "a679fc9d-4a9b-4c81-cc63-ad544299b588"
      },
      "source": [
        "y_pred = model.intercept_ + model.coef_ * x\n",
        "print('predicted response:', y_pred, sep='\\n')"
      ],
      "execution_count": null,
      "outputs": [
        {
          "output_type": "stream",
          "name": "stdout",
          "text": [
            "predicted response:\n",
            "[[ 8.33333333]\n",
            " [13.73333333]\n",
            " [19.13333333]\n",
            " [24.53333333]\n",
            " [29.93333333]\n",
            " [35.33333333]]\n"
          ]
        }
      ]
    },
    {
      "cell_type": "markdown",
      "metadata": {
        "id": "FzCrLen7eKCz"
      },
      "source": [
        "Dalam kasus ini, kita mengalikan setiap elemen x dengan `model.coef_` dan menambahkan `model.intercept_` ke produk.\n",
        "\n",
        "Output di sini berbeda dari contoh sebelumnya hanya dalam dimensi. Respons yang diprediksi sekarang menjadi two-dimensional array, sedangkan pada kasus sebelumnya, memiliki satu dimensi.\n",
        "\n",
        "Jika kita mengurangi jumlah dimensi x menjadi satu, kedua pendekatan ini akan menghasilkan hasil yang sama. Kita dapat melakukan ini dengan mengganti x dengan `x.reshape(-1), x.flatten()`, atau `x.ravel()` saat mengalikannya dengan model.coef_.\n",
        "\n",
        "Dalam praktiknya, model regresi sering diterapkan untuk forecasts. Ini berarti kita dapat menggunakan model yang sudah di-fit untuk menghitung output berdasarkan beberapa input baru lainnya:\n",
        "\n"
      ]
    },
    {
      "cell_type": "code",
      "metadata": {
        "colab": {
          "base_uri": "https://localhost:8080/"
        },
        "id": "_O12mc6geWv2",
        "outputId": "2ed43a18-8446-4846-8435-b5c6cb8a761a"
      },
      "source": [
        "x_new = np.arange(5).reshape((-1, 1))\n",
        "print(x_new)\n",
        "y_new = model.predict(x_new)\n",
        "print(y_new)"
      ],
      "execution_count": null,
      "outputs": [
        {
          "output_type": "stream",
          "name": "stdout",
          "text": [
            "[[0]\n",
            " [1]\n",
            " [2]\n",
            " [3]\n",
            " [4]]\n",
            "[5.63333333 6.17333333 6.71333333 7.25333333 7.79333333]\n"
          ]
        }
      ]
    },
    {
      "cell_type": "markdown",
      "metadata": {
        "id": "S2qzXWFfefr6"
      },
      "source": [
        "Di sini .predict() diterapkan ke regressor baru x_new dan menghasilkan respons y_new. Contoh ini dengan mudah menggunakan arange() dari numpy untuk menghasilkan array dengan elemen dari 0 (inklusif) hingga 5 (eksklusif), yaitu 0, 1, 2, 3, dan 4."
      ]
    },
    {
      "cell_type": "markdown",
      "metadata": {
        "id": "VQeoka9TejO3"
      },
      "source": [
        "## *Multiple* Linear Regression With scikit-learn\n"
      ]
    },
    {
      "cell_type": "markdown",
      "metadata": {
        "id": "IhPGIDpVerh5"
      },
      "source": [
        "Kita dapat menerapkan multiple linear regression dengan mengikuti langkah-langkah yang sama seperti yang kita lakukan untuk simple regression.\n",
        "\n"
      ]
    },
    {
      "cell_type": "markdown",
      "metadata": {
        "id": "lsOM3mOBgHAb"
      },
      "source": [
        "\n",
        "### Steps 1 Import packages and classes, \n",
        "\n",
        "Pertama, kita mengimpor numpy dan sklearn.linear_model.LinearRegression serta memberikan masukan dan keluaran yang diketahui:\n"
      ]
    },
    {
      "cell_type": "code",
      "metadata": {
        "id": "l2GEHhwgemB0"
      },
      "source": [
        "import numpy as np\n",
        "from sklearn.linear_model import LinearRegression\n"
      ],
      "execution_count": null,
      "outputs": []
    },
    {
      "cell_type": "markdown",
      "metadata": {
        "id": "Vwf88VFwfLne"
      },
      "source": [
        "### Steps 2 provide data\n"
      ]
    },
    {
      "cell_type": "code",
      "metadata": {
        "id": "ckvgntUmeyDH"
      },
      "source": [
        "x = [[0, 1], [5, 1], [15, 2], [25, 5], [35, 11], [45, 15], [55, 34], [60, 35]]\n",
        "y = [4, 5, 20, 14, 32, 22, 38, 43]\n",
        "x, y = np.array(x), np.array(y)"
      ],
      "execution_count": null,
      "outputs": []
    },
    {
      "cell_type": "code",
      "metadata": {
        "colab": {
          "base_uri": "https://localhost:8080/"
        },
        "id": "F2FFNsabe4rI",
        "outputId": "0417fedc-282f-4a69-b0e7-c0763aa8c563"
      },
      "source": [
        "print(x)\n",
        "print(y)"
      ],
      "execution_count": null,
      "outputs": [
        {
          "output_type": "stream",
          "name": "stdout",
          "text": [
            "[[ 0  1]\n",
            " [ 5  1]\n",
            " [15  2]\n",
            " [25  5]\n",
            " [35 11]\n",
            " [45 15]\n",
            " [55 34]\n",
            " [60 35]]\n",
            "[ 4  5 20 14 32 22 38 43]\n"
          ]
        }
      ]
    },
    {
      "cell_type": "markdown",
      "metadata": {
        "id": "ePFXqvGje9G9"
      },
      "source": [
        "Dalam multiple linear regression, x adalah two-dimensional array dengan setidaknya dua kolom, sedangkan y biasanya adalah one-dimensional array. Ini adalah contoh sederhana dari multiple linear regression, dan x memiliki tepat dua kolom."
      ]
    },
    {
      "cell_type": "markdown",
      "metadata": {
        "id": "wmbF9FuyfBq0"
      },
      "source": [
        "### Step 3: Create a model and fit it\n",
        "\n",
        "Langkah selanjutnya adalah membuat regression model sebagai instance LinearRegression dan menyesuaikannya dengan .fit():\n",
        "\n"
      ]
    },
    {
      "cell_type": "code",
      "metadata": {
        "id": "PaaDoAhdfCwx"
      },
      "source": [
        "model = LinearRegression().fit(x, y)\n"
      ],
      "execution_count": null,
      "outputs": []
    },
    {
      "cell_type": "markdown",
      "metadata": {
        "id": "NFRkSkK0fWI0"
      },
      "source": [
        "Hasil dari pernyataan ini adalah variabel model yang mengacu pada objek LinearRegression. Ini mewakili regression model yang di-fit dengan data yang ada.\n",
        "\n"
      ]
    },
    {
      "cell_type": "code",
      "metadata": {
        "id": "NRxVXL_8fWpr"
      },
      "source": [
        ""
      ],
      "execution_count": null,
      "outputs": []
    },
    {
      "cell_type": "markdown",
      "metadata": {
        "id": "nKwruN_xfYQu"
      },
      "source": [
        "### Step 4: Get results\n",
        "\n",
        "Kita dapat memperoleh properti model dengan cara yang sama seperti dalam kasus simple linear regression:\n",
        "\n"
      ]
    },
    {
      "cell_type": "code",
      "metadata": {
        "colab": {
          "base_uri": "https://localhost:8080/"
        },
        "id": "A-FJtrhRfZcN",
        "outputId": "ef57bbe0-8018-4a61-c8b4-d65c68e9acb7"
      },
      "source": [
        "r_sq = model.score(x, y)\n",
        "print('coefficient of determination:', r_sq)\n",
        "print('intercept:', model.intercept_)\n",
        "print('slope:', model.coef_)"
      ],
      "execution_count": null,
      "outputs": [
        {
          "output_type": "stream",
          "name": "stdout",
          "text": [
            "coefficient of determination: 0.8615939258756776\n",
            "intercept: 5.52257927519819\n",
            "slope: [0.44706965 0.25502548]\n"
          ]
        }
      ]
    },
    {
      "cell_type": "markdown",
      "metadata": {
        "id": "_MBEy_-jff9Q"
      },
      "source": [
        "Kita mendapatkan nilai 𝑅² menggunakan .score() dan nilai estimators dari regression coefficients dengan .intercept_ and .coef_. Sekali lagi, .intercept_ memegang bias 𝑏₀, dan sekarang .coef_ adalah array yang masing-masing berisi 𝑏₁ dan 𝑏₂.\n",
        "\n",
        "Dalam contoh ini, intercept kira-kira 5,52, dan ini adalah nilai respons yang diprediksi ketika 𝑥₁ = 𝑥₂ = 0. Peningkatan 𝑥₁ sebesar 1 menghasilkan kenaikan respons yang diprediksi sebesar 0,45. Demikian pula, saat 𝑥₂ naik sebesar 1, respons naik sebesar 0,26.\n",
        "\n",
        "Step 5: Predict response\n",
        "\n",
        "Prediksi juga bekerja dengan cara yang sama seperti dalam kasus simple linear regression:"
      ]
    },
    {
      "cell_type": "code",
      "metadata": {
        "colab": {
          "base_uri": "https://localhost:8080/"
        },
        "id": "3Nf6sTqefdJq",
        "outputId": "31e0073f-1b25-4cdc-aab4-c358c984b3e6"
      },
      "source": [
        "y_pred = model.predict(x)\n",
        "print('predicted response:', y_pred, sep='\\n')\n"
      ],
      "execution_count": null,
      "outputs": [
        {
          "output_type": "stream",
          "name": "stdout",
          "text": [
            "predicted response:\n",
            "[ 5.77760476  8.012953   12.73867497 17.9744479  23.97529728 29.4660957\n",
            " 38.78227633 41.27265006]\n"
          ]
        }
      ]
    },
    {
      "cell_type": "markdown",
      "metadata": {
        "id": "5lttR6Iifq2L"
      },
      "source": [
        "Respons yang diprediksi diperoleh dengan .predict(), yang sangat mirip dengan berikut ini:\n",
        "\n"
      ]
    },
    {
      "cell_type": "code",
      "metadata": {
        "colab": {
          "base_uri": "https://localhost:8080/"
        },
        "id": "WtisCshVfraN",
        "outputId": "7731252c-a349-4686-e95f-c60740df9f9f"
      },
      "source": [
        "y_pred = model.intercept_ + np.sum(model.coef_ * x, axis=1)\n",
        "print('predicted response:', y_pred, sep='\\n')"
      ],
      "execution_count": null,
      "outputs": [
        {
          "output_type": "stream",
          "name": "stdout",
          "text": [
            "predicted response:\n",
            "[ 5.77760476  8.012953   12.73867497 17.9744479  23.97529728 29.4660957\n",
            " 38.78227633 41.27265006]\n"
          ]
        }
      ]
    },
    {
      "cell_type": "markdown",
      "metadata": {
        "id": "ERtfedzhf1qP"
      },
      "source": [
        "Kita dapat memprediksi nilai output dengan mengalikan setiap kolom input dengan bobot yang sesuai, menjumlahkan hasilnya dan menambahkan intercept ke jumlahnya.\n",
        "\n",
        "Kita juga dapat menerapkan model ini ke data baru:"
      ]
    },
    {
      "cell_type": "code",
      "metadata": {
        "colab": {
          "base_uri": "https://localhost:8080/"
        },
        "id": "dq19uaAKf2B8",
        "outputId": "1fe9757b-e3dd-4c81-88db-56799621f5df"
      },
      "source": [
        "x_new = np.arange(10).reshape((-1, 2))\n",
        "print(x_new)\n",
        "y_new = model.predict(x_new)\n",
        "print(y_new)"
      ],
      "execution_count": null,
      "outputs": [
        {
          "output_type": "stream",
          "name": "stdout",
          "text": [
            "[[0 1]\n",
            " [2 3]\n",
            " [4 5]\n",
            " [6 7]\n",
            " [8 9]]\n",
            "[ 5.77760476  7.18179502  8.58598528  9.99017554 11.3943658 ]\n"
          ]
        }
      ]
    },
    {
      "cell_type": "markdown",
      "metadata": {
        "id": "IM99lXlsgJUk"
      },
      "source": [
        "## Polynomial Regression With scikit-learn\n"
      ]
    },
    {
      "cell_type": "markdown",
      "metadata": {
        "id": "_9VUDXMugkyR"
      },
      "source": [
        "Menerapkan polynomial regression dengan scikit-learn sangat mirip dengan linear regression. Hanya ada satu langkah tambahan: kita perlu mengubah array input untuk menyertakan non-linear terms seperti 𝑥².\n"
      ]
    },
    {
      "cell_type": "markdown",
      "metadata": {
        "id": "7J0XfWtjgr1d"
      },
      "source": [
        "\n",
        "### Step 1: Import packages and classes\n",
        "\n",
        "Selain numpy dan sklearn.linear_model.LinearRegression, kita juga harus mengimpor class PolynomialFeatures dari sklearn.preprocessing:"
      ]
    },
    {
      "cell_type": "code",
      "metadata": {
        "id": "aYJ7jx2yglYR"
      },
      "source": [
        "\n",
        "import numpy as np\n",
        "from sklearn.linear_model import LinearRegression\n",
        "from sklearn.preprocessing import PolynomialFeatures"
      ],
      "execution_count": null,
      "outputs": []
    },
    {
      "cell_type": "markdown",
      "metadata": {
        "id": "vlF8xr59gurk"
      },
      "source": [
        "### Step 2a: Provide data\n",
        "\n",
        "Langkah ini menentukan masukan dan keluaran dan sama seperti dalam kasus linear regression:"
      ]
    },
    {
      "cell_type": "code",
      "metadata": {
        "colab": {
          "base_uri": "https://localhost:8080/"
        },
        "id": "YIKnL-UigpPE",
        "outputId": "c33a6d84-9b20-4756-affb-fbb86a904ef1"
      },
      "source": [
        "x = np.array([5, 15, 25, 35, 45, 55]).reshape((-1, 1))\n",
        "y = np.array([15, 11, 2, 8, 25, 32])\n",
        "print(x)\n",
        "print(y)"
      ],
      "execution_count": null,
      "outputs": [
        {
          "output_type": "stream",
          "name": "stdout",
          "text": [
            "[[ 5]\n",
            " [15]\n",
            " [25]\n",
            " [35]\n",
            " [45]\n",
            " [55]]\n",
            "[15 11  2  8 25 32]\n"
          ]
        }
      ]
    },
    {
      "cell_type": "code",
      "metadata": {
        "colab": {
          "base_uri": "https://localhost:8080/",
          "height": 282
        },
        "id": "3Yjt6hneg2LN",
        "outputId": "158f92e0-0062-445b-dfaf-f2dfd621d6b6"
      },
      "source": [
        "plt.scatter(x, y, alpha=0.5)\n"
      ],
      "execution_count": null,
      "outputs": [
        {
          "output_type": "execute_result",
          "data": {
            "text/plain": [
              "<matplotlib.collections.PathCollection at 0x7f41117ee550>"
            ]
          },
          "metadata": {},
          "execution_count": 18
        },
        {
          "output_type": "display_data",
          "data": {
            "image/png": "[encoded data removed]",
            "text/plain": [
              "<Figure size 432x288 with 1 Axes>"
            ]
          },
          "metadata": {
            "needs_background": "light"
          }
        }
      ]
    },
    {
      "cell_type": "markdown",
      "metadata": {
        "id": "KIFnvrGyg0rV"
      },
      "source": [
        "Sekarang kita memiliki masukan dan keluaran dalam format yang sesuai. Perlu diingat bahwa kita memerlukan input berupa two-dimensional array. Itulah mengapa .reshape() digunakan.\n",
        "\n"
      ]
    },
    {
      "cell_type": "markdown",
      "metadata": {
        "id": "_vKZeg4mg-FV"
      },
      "source": [
        "### Step 2b: Transform input data\n",
        "\n",
        "Ini adalah langkah baru yang perlu kita terapkan untuk polynomial regression!\n"
      ]
    },
    {
      "cell_type": "markdown",
      "metadata": {
        "id": "1IVjtc4shBXw"
      },
      "source": [
        "Seperti yang telah kita lihat sebelumnya, kita perlu menyertakan 𝑥² (dan mungkin istilah lain) sebagai fitur tambahan saat menerapkan polynomial regression. Oleh karena itu, kita  harus mengubah input array x agar berisi kolom tambahan dengan nilai 𝑥² (dan pada akhirnya lebih banyak fitur).\n",
        "\n",
        "Dimungkinkan untuk mengubah input array dengan beberapa cara (seperti menggunakan insert() dari numpy), tetapi kelas PolynomialFeatures sangat nyaman untuk tujuan ini. Mari buat instance dari classini:"
      ]
    },
    {
      "cell_type": "code",
      "metadata": {
        "id": "gRbJseW6hDW9"
      },
      "source": [
        "transformer = PolynomialFeatures(degree=2, include_bias=False)\n"
      ],
      "execution_count": null,
      "outputs": []
    },
    {
      "cell_type": "markdown",
      "metadata": {
        "id": "j7t7-10dhIOI"
      },
      "source": [
        "Variable transformer mengacu pada instance PolynomialFeatures yang dapat kita gunakan untuk transform input x.\n",
        "\n",
        "Kita dapat memberikan beberapa parameter opsional ke PolynomialFeatures:\n",
        "\n",
        "- **degree** adalah integer (2 secara default) yang mewakili derajat fungsi regresi polinomial.\n",
        "- **interaction_only** adalah Boolean (False secara default) yang memutuskan apakah hanya menyertakan fitur interaksi (Benar) atau semua fitur (Salah).\n",
        "- **include_bias** adalah Boolean (True secara default) yang memutuskan apakah akan menyertakan kolom bias (intercept) satu (True) atau tidak (False).\n",
        "\n",
        "Contoh ini menggunakan nilai default dari semua parameter, tetapi terkadang kita ingin bereksperimen dengan degree dari function.\n",
        "\n",
        "Sebelum mengaplikasikan transformer, kita harus menyesuaikannya dengan .fit():"
      ]
    },
    {
      "cell_type": "code",
      "metadata": {
        "colab": {
          "base_uri": "https://localhost:8080/"
        },
        "id": "YXBET_EHhaVz",
        "outputId": "4c415a8b-c9fb-4819-c658-6000bf7b38ce"
      },
      "source": [
        "transformer.fit(x)\n"
      ],
      "execution_count": null,
      "outputs": [
        {
          "output_type": "execute_result",
          "data": {
            "text/plain": [
              "PolynomialFeatures(degree=2, include_bias=False, interaction_only=False,\n",
              "                   order='C')"
            ]
          },
          "metadata": {},
          "execution_count": 21
        }
      ]
    },
    {
      "cell_type": "markdown",
      "metadata": {
        "id": "Jc-qExPthdgt"
      },
      "source": [
        "Setelah transformer di-fit, ia siap untuk membuat masukan baru, input yang dimodifikasi. Kita  menerapkan .transform() untuk melakukan itu:"
      ]
    },
    {
      "cell_type": "code",
      "metadata": {
        "id": "7j0J8qxdhfcm"
      },
      "source": [
        "x_ = transformer.transform(x)\n"
      ],
      "execution_count": null,
      "outputs": []
    },
    {
      "cell_type": "code",
      "metadata": {
        "colab": {
          "base_uri": "https://localhost:8080/"
        },
        "id": "9ZPOoiiGzC6V",
        "outputId": "87cbe272-fae0-40f5-d432-1aba25425924"
      },
      "source": [
        "x_"
      ],
      "execution_count": null,
      "outputs": [
        {
          "output_type": "execute_result",
          "data": {
            "text/plain": [
              "array([[   5.,   25.],\n",
              "       [  15.,  225.],\n",
              "       [  25.,  625.],\n",
              "       [  35., 1225.],\n",
              "       [  45., 2025.],\n",
              "       [  55., 3025.]])"
            ]
          },
          "metadata": {},
          "execution_count": 23
        }
      ]
    },
    {
      "cell_type": "markdown",
      "metadata": {
        "id": "IXAilsVfheu9"
      },
      "source": [
        "Itulah cara transformasi input array dengan .transform(). Transform mengambil array input sebagai argumen dan mengembalikan array yang dimodifikasi.\n",
        "\n",
        "Kita juga bisa menggunakan .fit_transform() untuk mengganti tiga pernyataan sebelumnya hanya dengan satu:"
      ]
    },
    {
      "cell_type": "code",
      "metadata": {
        "id": "6FLS8TlShjLJ"
      },
      "source": [
        "x_ = PolynomialFeatures(degree=2, include_bias=False).fit_transform(x)\n"
      ],
      "execution_count": null,
      "outputs": []
    },
    {
      "cell_type": "markdown",
      "metadata": {
        "id": "BUjW1nldhmsg"
      },
      "source": [
        "Itulah cara untuk fitting dan transforming input array dalam satu pernyataan dengan .fit_transform().  .fit_transform() juga mengambil input array dan secara efektif melakukan hal yang sama seperti .fit() dan .transform() yang dipanggil dalam urutan.  .fit_transform() juga mengembalikan array yang dimodifikasi. Beginilah tampilan array input baru:"
      ]
    },
    {
      "cell_type": "code",
      "metadata": {
        "colab": {
          "base_uri": "https://localhost:8080/"
        },
        "id": "NRaWqtjKhnOv",
        "outputId": "01da761e-80d7-4407-e8c0-988592ea788b"
      },
      "source": [
        "print(x_)\n"
      ],
      "execution_count": null,
      "outputs": [
        {
          "output_type": "stream",
          "name": "stdout",
          "text": [
            "[[   5.   25.]\n",
            " [  15.  225.]\n",
            " [  25.  625.]\n",
            " [  35. 1225.]\n",
            " [  45. 2025.]\n",
            " [  55. 3025.]]\n"
          ]
        }
      ]
    },
    {
      "cell_type": "markdown",
      "metadata": {
        "id": "VoGOv-oahudD"
      },
      "source": [
        "Array input yang dimodifikasi berisi dua kolom: satu masukan asli dan yang lainnya dengan pangkat duanya."
      ]
    },
    {
      "cell_type": "markdown",
      "metadata": {
        "id": "EnSObSKEhvKF"
      },
      "source": [
        "### Step 3: Create a model and fit it\n",
        "\n",
        "Langkah ini juga sama dengan kasus linear regression. Kita membuat dan fit model:"
      ]
    },
    {
      "cell_type": "code",
      "metadata": {
        "id": "SF45pBtuhxL1"
      },
      "source": [
        "model = LinearRegression().fit(x_, y)\n"
      ],
      "execution_count": null,
      "outputs": []
    },
    {
      "cell_type": "markdown",
      "metadata": {
        "id": "NhNuYT5JhyUp"
      },
      "source": [
        "Kita harus ingat bahwa argumen pertama dari .fit() adalah array masukan x_ yang dimodifikasi dan bukan x asli."
      ]
    },
    {
      "cell_type": "markdown",
      "metadata": {
        "id": "mPKb79GZh3z-"
      },
      "source": [
        "### Step 4: Get results\n",
        "\n",
        "Kita bisa mendapatkan properti model dengan cara yang sama seperti dalam kasus linear regression:"
      ]
    },
    {
      "cell_type": "code",
      "metadata": {
        "colab": {
          "base_uri": "https://localhost:8080/"
        },
        "id": "41ajsrgMh17b",
        "outputId": "98c6c6f9-506b-43ee-a4e3-e29bea1a9089"
      },
      "source": [
        "r_sq = model.score(x_, y)\n",
        "print('coefficient of determination:', r_sq)\n",
        "print('intercept:', model.intercept_)\n",
        "print('coefficients:', model.coef_)"
      ],
      "execution_count": null,
      "outputs": [
        {
          "output_type": "stream",
          "name": "stdout",
          "text": [
            "coefficient of determination: 0.8908516262498564\n",
            "intercept: 21.372321428571436\n",
            "coefficients: [-1.32357143  0.02839286]\n"
          ]
        }
      ]
    },
    {
      "cell_type": "markdown",
      "metadata": {
        "id": "irTTYbAJiBtj"
      },
      "source": [
        "Sekali lagi,.score() mengembalikan 𝑅². Argumen pertamanya juga merupakan input x_ yang dimodifikasi, bukan x. Nilai bobot terkait dengan .intercept_ dan.coef_: .intercept_ mewakili 𝑏₀, sedangkan .coef_ mereferensikan array yang masing-masing berisi 𝑏₁ dan 𝑏₂.\n",
        "\n",
        "Kita bisa mendapatkan hasil yang sangat mirip dengan argumen transformation dan regression yang berbeda:"
      ]
    },
    {
      "cell_type": "code",
      "metadata": {
        "id": "ZQuTkt7viCbA"
      },
      "source": [
        "x_ = PolynomialFeatures(degree=2, include_bias=True).fit_transform(x)"
      ],
      "execution_count": null,
      "outputs": []
    },
    {
      "cell_type": "markdown",
      "metadata": {
        "id": "e1jykjy5iGFT"
      },
      "source": [
        "Jika kita memanggil PolynomialFeatures dengan parameter default include_bias=True, kita akan mendapatkan array input baru x_ dengan kolom paling kiri tambahan yang hanya berisi satu. Kolom ini sesuai dengan intercept. Beginilah tampilan array input yang dimodifikasi dalam kasus ini:"
      ]
    },
    {
      "cell_type": "code",
      "metadata": {
        "colab": {
          "base_uri": "https://localhost:8080/"
        },
        "id": "l6X-JHJOiGgd",
        "outputId": "eb878d13-60b7-46a6-d6a7-eba6a281c31f"
      },
      "source": [
        "print(x_)\n"
      ],
      "execution_count": null,
      "outputs": [
        {
          "output_type": "stream",
          "name": "stdout",
          "text": [
            "[[1.000e+00 5.000e+00 2.500e+01]\n",
            " [1.000e+00 1.500e+01 2.250e+02]\n",
            " [1.000e+00 2.500e+01 6.250e+02]\n",
            " [1.000e+00 3.500e+01 1.225e+03]\n",
            " [1.000e+00 4.500e+01 2.025e+03]\n",
            " [1.000e+00 5.500e+01 3.025e+03]]\n"
          ]
        }
      ]
    },
    {
      "cell_type": "markdown",
      "metadata": {
        "id": "Hj-jE6I5iOSk"
      },
      "source": [
        "Kolom pertama x_ berisi satu, kolom kedua bernilai x, sedangkan kolom ketiga berisi kuadrat x.\n",
        "\n",
        "intercept sudah disertakan dengan kolom paling kiri dari satu, dan kita tidak perlu menyertakannya lagi saat membuat instance LinearRegression. Jadi, kita bisa memberikan fit_intercept=False. Beginilah tampilan pernyataan berikutnya:"
      ]
    },
    {
      "cell_type": "code",
      "metadata": {
        "id": "TYz12i5qiPc5"
      },
      "source": [
        "model = LinearRegression(fit_intercept=False).fit(x_, y)\n"
      ],
      "execution_count": null,
      "outputs": []
    },
    {
      "cell_type": "markdown",
      "metadata": {
        "id": "bImgH7eiiSta"
      },
      "source": [
        "Variabel model sekali lagi sesuai dengan array input baru x_. Oleh karena itu x_ harus di-pass sebagai argumen pertama, bukan x.\n",
        "\n",
        "Pendekatan ini memberikan hasil berikut, yang mirip dengan kasus sebelumnya:"
      ]
    },
    {
      "cell_type": "code",
      "metadata": {
        "colab": {
          "base_uri": "https://localhost:8080/"
        },
        "id": "Gr8sbxdBiTwl",
        "outputId": "1e9fe30f-a380-495c-9707-534c9c4982db"
      },
      "source": [
        "r_sq = model.score(x_, y)\n",
        "print('coefficient of determination:', r_sq)\n",
        "print('intercept:', model.intercept_)\n",
        "print('coefficients:', model.coef_)"
      ],
      "execution_count": null,
      "outputs": [
        {
          "output_type": "stream",
          "name": "stdout",
          "text": [
            "coefficient of determination: 0.8908516262498564\n",
            "intercept: 0.0\n",
            "coefficients: [21.37232143 -1.32357143  0.02839286]\n"
          ]
        }
      ]
    },
    {
      "cell_type": "markdown",
      "metadata": {
        "id": "Q3ei5aIjiZ2k"
      },
      "source": [
        "Kita melihat bahwa sekarang .intercept_ adalah nol, tetapi .coef_ sebenarnya berisi 𝑏₀ sebagai elemen pertamanya. Yang lainnya sama."
      ]
    },
    {
      "cell_type": "markdown",
      "metadata": {
        "id": "qSnywBq6ia0Z"
      },
      "source": [
        "### Step 5: Predict response\n",
        "\n",
        "Jika kita ingin mendapatkan predicted response, cukup gunakan .predict(), tetapi ingat bahwa argumennya harus berupa input x_ yang dimodifikasi, bukan x yang lama:"
      ]
    },
    {
      "cell_type": "code",
      "metadata": {
        "colab": {
          "base_uri": "https://localhost:8080/"
        },
        "id": "1Z6vgwfZidAm",
        "outputId": "9e48f70a-33e6-4888-b63d-b300516860ee"
      },
      "source": [
        "y_pred = model.predict(x_)\n",
        "print('predicted response:', y_pred, sep='\\n')"
      ],
      "execution_count": null,
      "outputs": [
        {
          "output_type": "stream",
          "name": "stdout",
          "text": [
            "predicted response:\n",
            "[15.46428571  7.90714286  6.02857143  9.82857143 19.30714286 34.46428571]\n"
          ]
        }
      ]
    },
    {
      "cell_type": "markdown",
      "metadata": {
        "id": "r9YomHmyijS8"
      },
      "source": [
        "Seperti yang kita lihat, prediksi bekerja dengan cara yang hampir sama seperti dalam kasus linear regression. Ini hanya membutuhkan masukan yang dimodifikasi, bukan yang asli.\n",
        "\n",
        "Kita dapat menerapkan prosedur yang sama jika kita memiliki beberapa variabel masukan. Kita akan membuat array masukan dengan lebih dari satu kolom, tetapi yang lainnya sama. Berikut ini contohnya:"
      ]
    },
    {
      "cell_type": "code",
      "metadata": {
        "id": "2qW_enMvij5e"
      },
      "source": [
        "# Step 1: Import packages\n",
        "import numpy as np\n",
        "from sklearn.linear_model import LinearRegression\n",
        "from sklearn.preprocessing import PolynomialFeatures\n",
        "\n",
        "# Step 2a: Provide data\n",
        "x = [[0, 1], [5, 1], [15, 2], [25, 5], [35, 11], [45, 15], [55, 34], [60, 35]]\n",
        "y = [4, 5, 20, 14, 32, 22, 38, 43]\n",
        "x, y = np.array(x), np.array(y)\n",
        "\n",
        "# Step 2b: Transform input data\n",
        "x_ = PolynomialFeatures(degree=2, include_bias=False).fit_transform(x)\n",
        "\n",
        "# Step 3: Create a model and fit it\n",
        "model = LinearRegression().fit(x_, y)\n",
        "\n",
        "# Step 4: Get results\n",
        "r_sq = model.score(x_, y)\n",
        "intercept, coefficients = model.intercept_, model.coef_\n",
        "\n",
        "# Step 5: Predict\n",
        "y_pred = model.predict(x_)"
      ],
      "execution_count": null,
      "outputs": []
    },
    {
      "cell_type": "markdown",
      "metadata": {
        "id": "qiBRTuDWipD3"
      },
      "source": [
        "Contoh regresi ini memberikan hasil dan prediksi berikut:\n",
        "\n"
      ]
    },
    {
      "cell_type": "code",
      "metadata": {
        "colab": {
          "base_uri": "https://localhost:8080/"
        },
        "id": "9_OfyBFKiqDK",
        "outputId": "200b8d87-348e-421d-98b0-06f44ab5aabe"
      },
      "source": [
        "print('coefficient of determination:', r_sq)\n",
        "print('intercept:', intercept)\n",
        "print('coefficients:', coefficients, sep='\\n')\n",
        "print('predicted response:', y_pred, sep='\\n')"
      ],
      "execution_count": null,
      "outputs": [
        {
          "output_type": "stream",
          "name": "stdout",
          "text": [
            "coefficient of determination: 0.9453701449127822\n",
            "intercept: 0.843055645239577\n",
            "coefficients:\n",
            "[ 2.44828275  0.16160353 -0.15259677  0.47928683 -0.4641851 ]\n",
            "predicted response:\n",
            "[ 0.54047408 11.36340283 16.07809622 15.79139    29.73858619 23.50834636\n",
            " 39.05631386 41.92339046]\n"
          ]
        }
      ]
    },
    {
      "cell_type": "markdown",
      "metadata": {
        "id": "5A92xkfji3YA"
      },
      "source": [
        "Dalam hal ini, ada enam regression coefficients (termasuk intercept), seperti yang ditunjukkan dalam estimated regression function 𝑓(𝑥₁, 𝑥₂) = 𝑏₀ + 𝑏₁𝑥₁ + 𝑏₂𝑥₂ + 𝑏₃𝑥₁² + 𝑏₄𝑥₁𝑥₂ + 𝑏₅𝑥₂².\n",
        "\n",
        "Kita juga dapat melihat bahwa regresi polinomial menghasilkan coefficient of determination yang lebih tinggi daripada multiple linear regression untuk masalah yang sama. Pada awalnya, kita mungkin mengira bahwa mendapatkan 𝑅² sebesar itu adalah hasil yang sangat baik. Mungkin.\n",
        "\n",
        "Namun, dalam situasi dunia nyata, memiliki model yang kompleks dan 𝑅² sangat dekat dengan 1 mungkin juga merupakan tanda overfitting. Untuk mengecek performansi suatu model sebaiknya dilakukan pengujian dengan data baru yaitu dengan observasi yang tidak digunakan untuk fit (train) model."
      ]
    },
    {
      "cell_type": "markdown",
      "metadata": {
        "id": "clZ8RHpRi5ft"
      },
      "source": [
        "## Advanced Linear Regression With statsmodels\n"
      ]
    },
    {
      "cell_type": "markdown",
      "metadata": {
        "id": "l8wDrEOxjAov"
      },
      "source": [
        "Kita dapat mengimplementasikan linear regression dengan Python relatif mudah dengan menggunakan statsmodels juga. Biasanya, statsmodels diinginkan ketika dibutuhkan hasil yang lebih rinci.\n",
        "\n",
        "Prosedurnya mirip dengan scikit-learn."
      ]
    },
    {
      "cell_type": "markdown",
      "metadata": {
        "id": "x8CbamQ4jGnD"
      },
      "source": [
        "### Step 1: Import packages\n",
        "\n",
        "Pertama, kita perlu melakukan beberapa impor. Selain numpy, kita perlu mengimpor statsmodels.api:"
      ]
    },
    {
      "cell_type": "code",
      "metadata": {
        "colab": {
          "base_uri": "https://localhost:8080/"
        },
        "id": "tRwMaXl8i32T",
        "outputId": "a8c81ed3-2ce3-4ae0-f3bd-7c7c06d28972"
      },
      "source": [
        "import numpy as np\n",
        "import statsmodels.api as sm"
      ],
      "execution_count": null,
      "outputs": [
        {
          "output_type": "stream",
          "name": "stderr",
          "text": [
            "/usr/local/lib/python3.7/dist-packages/statsmodels/tools/_testing.py:19: FutureWarning: pandas.util.testing is deprecated. Use the functions in the public API at pandas.testing instead.\n",
            "  import pandas.util.testing as tm\n"
          ]
        }
      ]
    },
    {
      "cell_type": "markdown",
      "metadata": {
        "id": "TSBqOmKIjJ5V"
      },
      "source": [
        "### Step 2: Provide data and transform inputs\n",
        "\n",
        "Kita dapat memberikan input dan output dengan cara yang sama seperti yang kita lakukan saat menggunakan scikit-learn:"
      ]
    },
    {
      "cell_type": "code",
      "metadata": {
        "colab": {
          "base_uri": "https://localhost:8080/"
        },
        "id": "C0F0xnZDjDCb",
        "outputId": "5ab93189-7040-4855-aaa2-59bb7e79a7b3"
      },
      "source": [
        "x = [[0, 1], [5, 1], [15, 2], [25, 5], [35, 11], [45, 15], [55, 34], [60, 35]]\n",
        "y = [4, 5, 20, 14, 32, 22, 38, 43]\n",
        "x, y = np.array(x), np.array(y)\n",
        "print(x)"
      ],
      "execution_count": null,
      "outputs": [
        {
          "output_type": "stream",
          "name": "stdout",
          "text": [
            "[[ 0  1]\n",
            " [ 5  1]\n",
            " [15  2]\n",
            " [25  5]\n",
            " [35 11]\n",
            " [45 15]\n",
            " [55 34]\n",
            " [60 35]]\n"
          ]
        }
      ]
    },
    {
      "cell_type": "markdown",
      "metadata": {
        "id": "x9uoxL52jOZz"
      },
      "source": [
        "Array input dan output dibuat, tetapi pekerjaan belum selesai.\n",
        "\n",
        "Kita perlu menambahkan kolom satu ke input jika kita ingin statsmodels menghitung intercept 𝑏₀. Hal ni tidak memperhitungkan 𝑏₀ secara default."
      ]
    },
    {
      "cell_type": "code",
      "metadata": {
        "id": "-EY-fGJkjMT4"
      },
      "source": [
        "x = sm.add_constant(x)\n"
      ],
      "execution_count": null,
      "outputs": []
    },
    {
      "cell_type": "markdown",
      "metadata": {
        "id": "6XQFggsIjVbO"
      },
      "source": [
        "Begitulah cara kita menambahkan kolom satu ke x dengan add_constant(). add_constant mengambil array input x sebagai argumen dan mengembalikan array baru dengan kolom yang disisipkan di awal. Beginilah tampilan x dan y sekarang:"
      ]
    },
    {
      "cell_type": "code",
      "metadata": {
        "colab": {
          "base_uri": "https://localhost:8080/"
        },
        "id": "22uJZJOGjWRH",
        "outputId": "ab3f6c48-0bc3-4d4d-edae-391d45a050e7"
      },
      "source": [
        "print(x)\n",
        "print(y)"
      ],
      "execution_count": null,
      "outputs": [
        {
          "output_type": "stream",
          "name": "stdout",
          "text": [
            "[[ 1.  0.  1.]\n",
            " [ 1.  5.  1.]\n",
            " [ 1. 15.  2.]\n",
            " [ 1. 25.  5.]\n",
            " [ 1. 35. 11.]\n",
            " [ 1. 45. 15.]\n",
            " [ 1. 55. 34.]\n",
            " [ 1. 60. 35.]]\n",
            "[ 4  5 20 14 32 22 38 43]\n"
          ]
        }
      ]
    },
    {
      "cell_type": "markdown",
      "metadata": {
        "id": "ys5P4NV4jex6"
      },
      "source": [
        "Kita dapat melihat bahwa x yang dimodifikasi memiliki tiga kolom: kolom pertama dari satu (sesuai dengan 𝑏₀ dan mengganti intercept) serta dua kolom fitur asli."
      ]
    },
    {
      "cell_type": "markdown",
      "metadata": {
        "id": "Biir4cT2jgg3"
      },
      "source": [
        "### Step 3: Create a model and fit it\n",
        "\n",
        "Regression model didasarkan pada *ordinary least squares* adalah turunan dari statsmodels.regression.linear_model.OLS."
      ]
    },
    {
      "cell_type": "code",
      "metadata": {
        "id": "ioMODWrKjXWT"
      },
      "source": [
        "model = sm.OLS(y, x)\n"
      ],
      "execution_count": null,
      "outputs": []
    },
    {
      "cell_type": "markdown",
      "metadata": {
        "id": "c2ywp9OVjkeQ"
      },
      "source": [
        "Kita harus berhati-hati di sini! Harap perhatikan bahwa argumen pertama adalah output, diikuti dengan input. Ada beberapa parameter opsional.\n",
        "\n",
        "Setelah model kita dibuat, kita dapat menerapkan .fit() pada model tersebut:"
      ]
    },
    {
      "cell_type": "code",
      "metadata": {
        "id": "jE_oJhFqjk_C"
      },
      "source": [
        "results = model.fit()\n"
      ],
      "execution_count": null,
      "outputs": []
    },
    {
      "cell_type": "markdown",
      "metadata": {
        "id": "3BK-OJj3joDm"
      },
      "source": [
        "Dengan memanggil .fit(), kita mendapatkan variable results, yang merupakan instance dari kelas statsmodels.regression.linear_model.RegressionResultsWrapper. Objek ini menyimpan banyak informasi tentang regression model.\n",
        "\n",
        "Step 4: Get results\n",
        "\n",
        "Variabel results mengacu pada objek yang memuat informasi rinci tentang hasil linear regression.\n",
        "\n",
        "Kita bisa memanggil .summary() untuk mendapatkan tabel dengan hasil regresi linier:"
      ]
    },
    {
      "cell_type": "code",
      "metadata": {
        "colab": {
          "base_uri": "https://localhost:8080/"
        },
        "id": "kzovw4OwjpJ_",
        "outputId": "fe40b348-bd1c-4db2-b933-72a7c0f9aceb"
      },
      "source": [
        "print(results.summary())\n"
      ],
      "execution_count": null,
      "outputs": [
        {
          "output_type": "stream",
          "name": "stdout",
          "text": [
            "                            OLS Regression Results                            \n",
            "==============================================================================\n",
            "Dep. Variable:                      y   R-squared:                       0.862\n",
            "Model:                            OLS   Adj. R-squared:                  0.806\n",
            "Method:                 Least Squares   F-statistic:                     15.56\n",
            "Date:                Tue, 05 Oct 2021   Prob (F-statistic):            0.00713\n",
            "Time:                        00:23:35   Log-Likelihood:                -24.316\n",
            "No. Observations:                   8   AIC:                             54.63\n",
            "Df Residuals:                       5   BIC:                             54.87\n",
            "Df Model:                           2                                         \n",
            "Covariance Type:            nonrobust                                         \n",
            "==============================================================================\n",
            "                 coef    std err          t      P>|t|      [0.025      0.975]\n",
            "------------------------------------------------------------------------------\n",
            "const          5.5226      4.431      1.246      0.268      -5.867      16.912\n",
            "x1             0.4471      0.285      1.567      0.178      -0.286       1.180\n",
            "x2             0.2550      0.453      0.563      0.598      -0.910       1.420\n",
            "==============================================================================\n",
            "Omnibus:                        0.561   Durbin-Watson:                   3.268\n",
            "Prob(Omnibus):                  0.755   Jarque-Bera (JB):                0.534\n",
            "Skew:                           0.380   Prob(JB):                        0.766\n",
            "Kurtosis:                       1.987   Cond. No.                         80.1\n",
            "==============================================================================\n",
            "\n",
            "Warnings:\n",
            "[1] Standard Errors assume that the covariance matrix of the errors is correctly specified.\n"
          ]
        },
        {
          "output_type": "stream",
          "name": "stderr",
          "text": [
            "/usr/local/lib/python3.7/dist-packages/scipy/stats/stats.py:1535: UserWarning: kurtosistest only valid for n>=20 ... continuing anyway, n=8\n",
            "  \"anyway, n=%i\" % int(n))\n"
          ]
        }
      ]
    },
    {
      "cell_type": "markdown",
      "metadata": {
        "id": "VseDPa9Kj1Ol"
      },
      "source": [
        "Tabel ini sangat lengkap. Kita dapat menemukan banyak nilai statistik yang terkait dengan linear regression termasuk 𝑅², 𝑏₀, 𝑏₁, dan 𝑏₂.\n",
        "\n",
        "Dalam kasus khusus ini, kita mungkin mendapatkan peringatan terkait kurtosistest. Hal ini disebabkan sedikitnya jumlah observasi yang diberikan.\n",
        "\n",
        "Kita dapat mengekstrak salah satu nilai dari tabel di atas. Berikut contohnya:"
      ]
    },
    {
      "cell_type": "code",
      "metadata": {
        "colab": {
          "base_uri": "https://localhost:8080/"
        },
        "id": "klq-uq7lj15F",
        "outputId": "7eca0b1b-25b5-4a6e-aa8b-9a98baf50149"
      },
      "source": [
        "print('coefficient of determination:', results.rsquared)\n",
        "print('adjusted coefficient of determination:', results.rsquared_adj)\n",
        "print('regression coefficients:', results.params)"
      ],
      "execution_count": null,
      "outputs": [
        {
          "output_type": "stream",
          "name": "stdout",
          "text": [
            "coefficient of determination: 0.8615939258756776\n",
            "adjusted coefficient of determination: 0.8062314962259487\n",
            "regression coefficients: [5.52257928 0.44706965 0.25502548]\n"
          ]
        }
      ]
    },
    {
      "cell_type": "markdown",
      "metadata": {
        "id": "IPL8usfMkJrZ"
      },
      "source": [
        "Begitulah cara kita mendapatkan beberapa hasil linear regression:\n",
        "\n",
        ".rsquared menampung 𝑅². .rsquared_adj mewakili disesuaikan 𝑅² (𝑅² dikoreksi sesuai dengan jumlah fitur masukan). .params merujuk array dengan 𝑏₀, 𝑏₁, dan 𝑏₂ masing-masing. Kita juga dapat melihat bahwa hasil ini identik dengan yang diperoleh dengan scikit-learn untuk masalah yang sama."
      ]
    },
    {
      "cell_type": "markdown",
      "metadata": {
        "id": "-nvGKNGkkK0l"
      },
      "source": [
        "### Step 5: Predict response\n",
        "\n",
        "Kita bisa mendapatkan predicted response pada nilai input yang digunakan untuk membuat model menggunakan .fittedvalues atau .predict() dengan array input sebagai argumen:"
      ]
    },
    {
      "cell_type": "code",
      "metadata": {
        "colab": {
          "base_uri": "https://localhost:8080/"
        },
        "id": "Ns0CNyaKkJVM",
        "outputId": "c8b8ed5f-2aa5-4d39-8b85-ff3e136a4a29"
      },
      "source": [
        "print('predicted response:', results.fittedvalues, sep='\\n')\n",
        "print('predicted response:', results.predict(x), sep='\\n')"
      ],
      "execution_count": null,
      "outputs": [
        {
          "output_type": "stream",
          "name": "stdout",
          "text": [
            "predicted response:\n",
            "[ 5.77760476  8.012953   12.73867497 17.9744479  23.97529728 29.4660957\n",
            " 38.78227633 41.27265006]\n",
            "predicted response:\n",
            "[ 5.77760476  8.012953   12.73867497 17.9744479  23.97529728 29.4660957\n",
            " 38.78227633 41.27265006]\n"
          ]
        }
      ]
    },
    {
      "cell_type": "markdown",
      "metadata": {
        "id": "YP3wddbxkUin"
      },
      "source": [
        "Ini adalah predicted response untuk input yang diketahui. Jika kita menginginkan prediksi dengan regressor baru, kita juga bisa menerapkan .predict() dengan data baru sebagai argumen:"
      ]
    },
    {
      "cell_type": "code",
      "metadata": {
        "colab": {
          "base_uri": "https://localhost:8080/"
        },
        "id": "c-3Et3xBj3ql",
        "outputId": "4dbe04c0-5fdf-4d24-8fcf-81539bb47f35"
      },
      "source": [
        "x_new = sm.add_constant(np.arange(10).reshape((-1, 2)))\n",
        "print(x_new)\n",
        "y_new = results.predict(x_new)\n",
        "print(y_new)"
      ],
      "execution_count": null,
      "outputs": [
        {
          "output_type": "stream",
          "name": "stdout",
          "text": [
            "[[1. 0. 1.]\n",
            " [1. 2. 3.]\n",
            " [1. 4. 5.]\n",
            " [1. 6. 7.]\n",
            " [1. 8. 9.]]\n",
            "[ 5.77760476  7.18179502  8.58598528  9.99017554 11.3943658 ]\n"
          ]
        }
      ]
    },
    {
      "cell_type": "markdown",
      "metadata": {
        "id": "Cr1mqEVhkosl"
      },
      "source": [
        "Kita  dapat melihat bahwa hasil prediksi sama dengan yang diperoleh dengan scikit-learn untuk masalah yang sama."
      ]
    },
    {
      "cell_type": "code",
      "metadata": {
        "id": "W9NXrHry3bWH"
      },
      "source": [
        "# nsample = 8\n",
        "# sig = 0.5\n",
        "# x = np.linspace(0, 20, nsample)\n",
        "# X = np.column_stack((x, np.sin(x), (x - 5) ** 2, np.ones(nsample)))\n",
        "# beta = [0.5, 0.5, -0.02, 5.0]\n",
        "\n",
        "# y_true = np.dot(X, beta)\n",
        "# y = y_true + sig * np.random.normal(size=nsample)"
      ],
      "execution_count": null,
      "outputs": []
    },
    {
      "cell_type": "code",
      "metadata": {
        "id": "HcbyI0r5kXiX"
      },
      "source": [
        "# print(\"Parameters: \", results.params)\n",
        "# print(\"Standard errors: \", results.bse)\n",
        "# print(\"Predicted values: \", results.predict())"
      ],
      "execution_count": null,
      "outputs": []
    },
    {
      "cell_type": "code",
      "metadata": {
        "id": "PK6ihYnY28MD"
      },
      "source": [
        "# pred_ols = results.get_prediction()\n",
        "# iv_l = pred_ols.summary_frame()[\"obs_ci_lower\"]\n",
        "# iv_u = pred_ols.summary_frame()[\"obs_ci_upper\"]\n",
        "\n",
        "# fig, ax = plt.subplots(figsize=(8, 6))\n",
        "\n",
        "# ax.plot(x, y, \"o\", label=\"data\")\n",
        "# ax.plot(x, y_true, \"b-\", label=\"True\")\n",
        "# ax.plot(x, results.fittedvalues, \"r--.\", label=\"OLS\")\n",
        "# ax.plot(x, iv_u, \"r--\")\n",
        "# ax.plot(x, iv_l, \"r--\")\n",
        "# ax.legend(loc=\"best\")"
      ],
      "execution_count": null,
      "outputs": []
    },
    {
      "cell_type": "markdown",
      "metadata": {
        "id": "INvcPHvAk7st"
      },
      "source": [
        "## Implementing Linear Regression on Real Dataset\n"
      ]
    },
    {
      "cell_type": "markdown",
      "metadata": {
        "id": "taFi8RAq2s73"
      },
      "source": [
        "### Using Statsmodels\n"
      ]
    },
    {
      "cell_type": "code",
      "metadata": {
        "id": "_xJtROjDk9O-"
      },
      "source": [
        "import statsmodels.api as sm\n",
        "from sklearn import datasets ## imports datasets from scikit-learn\n",
        "\n",
        "data = datasets.load_boston() ## loads Boston dataset from datasets library "
      ],
      "execution_count": null,
      "outputs": []
    },
    {
      "cell_type": "code",
      "metadata": {
        "colab": {
          "base_uri": "https://localhost:8080/"
        },
        "id": "i4RAToH52zor",
        "outputId": "96b043b4-ae53-4add-dec6-5933e290aabf"
      },
      "source": [
        "print(data.DESCR)\n"
      ],
      "execution_count": null,
      "outputs": [
        {
          "output_type": "stream",
          "name": "stdout",
          "text": [
            ".. _boston_dataset:\n",
            "\n",
            "Boston house prices dataset\n",
            "---------------------------\n",
            "\n",
            "**Data Set Characteristics:**  \n",
            "\n",
            "    :Number of Instances: 506 \n",
            "\n",
            "    :Number of Attributes: 13 numeric/categorical predictive. Median Value (attribute 14) is usually the target.\n",
            "\n",
            "    :Attribute Information (in order):\n",
            "        - CRIM     per capita crime rate by town\n",
            "        - ZN       proportion of residential land zoned for lots over 25,000 sq.ft.\n",
            "        - INDUS    proportion of non-retail business acres per town\n",
            "        - CHAS     Charles River dummy variable (= 1 if tract bounds river; 0 otherwise)\n",
            "        - NOX      nitric oxides concentration (parts per 10 million)\n",
            "        - RM       average number of rooms per dwelling\n",
            "        - AGE      proportion of owner-occupied units built prior to 1940\n",
            "        - DIS      weighted distances to five Boston employment centres\n",
            "        - RAD      index of accessibility to radial highways\n",
            "        - TAX      full-value property-tax rate per $10,000\n",
            "        - PTRATIO  pupil-teacher ratio by town\n",
            "        - B        1000(Bk - 0.63)^2 where Bk is the proportion of blacks by town\n",
            "        - LSTAT    % lower status of the population\n",
            "        - MEDV     Median value of owner-occupied homes in $1000's\n",
            "\n",
            "    :Missing Attribute Values: None\n",
            "\n",
            "    :Creator: Harrison, D. and Rubinfeld, D.L.\n",
            "\n",
            "This is a copy of UCI ML housing dataset.\n",
            "https://archive.ics.uci.edu/ml/machine-learning-databases/housing/\n",
            "\n",
            "\n",
            "This dataset was taken from the StatLib library which is maintained at Carnegie Mellon University.\n",
            "\n",
            "The Boston house-price data of Harrison, D. and Rubinfeld, D.L. 'Hedonic\n",
            "prices and the demand for clean air', J. Environ. Economics & Management,\n",
            "vol.5, 81-102, 1978.   Used in Belsley, Kuh & Welsch, 'Regression diagnostics\n",
            "...', Wiley, 1980.   N.B. Various transformations are used in the table on\n",
            "pages 244-261 of the latter.\n",
            "\n",
            "The Boston house-price data has been used in many machine learning papers that address regression\n",
            "problems.   \n",
            "     \n",
            ".. topic:: References\n",
            "\n",
            "   - Belsley, Kuh & Welsch, 'Regression diagnostics: Identifying Influential Data and Sources of Collinearity', Wiley, 1980. 244-261.\n",
            "   - Quinlan,R. (1993). Combining Instance-Based and Model-Based Learning. In Proceedings on the Tenth International Conference of Machine Learning, 236-243, University of Massachusetts, Amherst. Morgan Kaufmann.\n",
            "\n"
          ]
        }
      ]
    },
    {
      "cell_type": "code",
      "metadata": {
        "id": "IfqD_basIGMu"
      },
      "source": [
        "import numpy as np\n",
        "import pandas as pd\n",
        "\n",
        "# define the data/predictors as the pre-set feature names  \n",
        "df = pd.DataFrame(data.data, columns=data.feature_names)\n",
        "\n",
        "# Put the target (housing value -- MEDV) in another DataFrame\n",
        "target = pd.DataFrame(data.target, columns=[\"MEDV\"])\n"
      ],
      "execution_count": null,
      "outputs": []
    },
    {
      "cell_type": "code",
      "metadata": {
        "colab": {
          "base_uri": "https://localhost:8080/",
          "height": 206
        },
        "id": "IV6zFL29II0k",
        "outputId": "b268f5e3-ac4d-43ce-d250-fa0dc644d766"
      },
      "source": [
        "df.head()"
      ],
      "execution_count": null,
      "outputs": [
        {
          "output_type": "execute_result",
          "data": {
            "text/html": [
              "<div>\n",
              "<style scoped>\n",
              "    .dataframe tbody tr th:only-of-type {\n",
              "        vertical-align: middle;\n",
              "    }\n",
              "\n",
              "    .dataframe tbody tr th {\n",
              "        vertical-align: top;\n",
              "    }\n",
              "\n",
              "    .dataframe thead th {\n",
              "        text-align: right;\n",
              "    }\n",
              "</style>\n",
              "<table border=\"1\" class=\"dataframe\">\n",
              "  <thead>\n",
              "    <tr style=\"text-align: right;\">\n",
              "      <th></th>\n",
              "      <th>CRIM</th>\n",
              "      <th>ZN</th>\n",
              "      <th>INDUS</th>\n",
              "      <th>CHAS</th>\n",
              "      <th>NOX</th>\n",
              "      <th>RM</th>\n",
              "      <th>AGE</th>\n",
              "      <th>DIS</th>\n",
              "      <th>RAD</th>\n",
              "      <th>TAX</th>\n",
              "      <th>PTRATIO</th>\n",
              "      <th>B</th>\n",
              "      <th>LSTAT</th>\n",
              "    </tr>\n",
              "  </thead>\n",
              "  <tbody>\n",
              "    <tr>\n",
              "      <th>0</th>\n",
              "      <td>0.00632</td>\n",
              "      <td>18.0</td>\n",
              "      <td>2.31</td>\n",
              "      <td>0.0</td>\n",
              "      <td>0.538</td>\n",
              "      <td>6.575</td>\n",
              "      <td>65.2</td>\n",
              "      <td>4.0900</td>\n",
              "      <td>1.0</td>\n",
              "      <td>296.0</td>\n",
              "      <td>15.3</td>\n",
              "      <td>396.90</td>\n",
              "      <td>4.98</td>\n",
              "    </tr>\n",
              "    <tr>\n",
              "      <th>1</th>\n",
              "      <td>0.02731</td>\n",
              "      <td>0.0</td>\n",
              "      <td>7.07</td>\n",
              "      <td>0.0</td>\n",
              "      <td>0.469</td>\n",
              "      <td>6.421</td>\n",
              "      <td>78.9</td>\n",
              "      <td>4.9671</td>\n",
              "      <td>2.0</td>\n",
              "      <td>242.0</td>\n",
              "      <td>17.8</td>\n",
              "      <td>396.90</td>\n",
              "      <td>9.14</td>\n",
              "    </tr>\n",
              "    <tr>\n",
              "      <th>2</th>\n",
              "      <td>0.02729</td>\n",
              "      <td>0.0</td>\n",
              "      <td>7.07</td>\n",
              "      <td>0.0</td>\n",
              "      <td>0.469</td>\n",
              "      <td>7.185</td>\n",
              "      <td>61.1</td>\n",
              "      <td>4.9671</td>\n",
              "      <td>2.0</td>\n",
              "      <td>242.0</td>\n",
              "      <td>17.8</td>\n",
              "      <td>392.83</td>\n",
              "      <td>4.03</td>\n",
              "    </tr>\n",
              "    <tr>\n",
              "      <th>3</th>\n",
              "      <td>0.03237</td>\n",
              "      <td>0.0</td>\n",
              "      <td>2.18</td>\n",
              "      <td>0.0</td>\n",
              "      <td>0.458</td>\n",
              "      <td>6.998</td>\n",
              "      <td>45.8</td>\n",
              "      <td>6.0622</td>\n",
              "      <td>3.0</td>\n",
              "      <td>222.0</td>\n",
              "      <td>18.7</td>\n",
              "      <td>394.63</td>\n",
              "      <td>2.94</td>\n",
              "    </tr>\n",
              "    <tr>\n",
              "      <th>4</th>\n",
              "      <td>0.06905</td>\n",
              "      <td>0.0</td>\n",
              "      <td>2.18</td>\n",
              "      <td>0.0</td>\n",
              "      <td>0.458</td>\n",
              "      <td>7.147</td>\n",
              "      <td>54.2</td>\n",
              "      <td>6.0622</td>\n",
              "      <td>3.0</td>\n",
              "      <td>222.0</td>\n",
              "      <td>18.7</td>\n",
              "      <td>396.90</td>\n",
              "      <td>5.33</td>\n",
              "    </tr>\n",
              "  </tbody>\n",
              "</table>\n",
              "</div>"
            ],
            "text/plain": [
              "      CRIM    ZN  INDUS  CHAS    NOX  ...  RAD    TAX  PTRATIO       B  LSTAT\n",
              "0  0.00632  18.0   2.31   0.0  0.538  ...  1.0  296.0     15.3  396.90   4.98\n",
              "1  0.02731   0.0   7.07   0.0  0.469  ...  2.0  242.0     17.8  396.90   9.14\n",
              "2  0.02729   0.0   7.07   0.0  0.469  ...  2.0  242.0     17.8  392.83   4.03\n",
              "3  0.03237   0.0   2.18   0.0  0.458  ...  3.0  222.0     18.7  394.63   2.94\n",
              "4  0.06905   0.0   2.18   0.0  0.458  ...  3.0  222.0     18.7  396.90   5.33\n",
              "\n",
              "[5 rows x 13 columns]"
            ]
          },
          "metadata": {},
          "execution_count": 58
        }
      ]
    },
    {
      "cell_type": "code",
      "metadata": {
        "colab": {
          "base_uri": "https://localhost:8080/",
          "height": 206
        },
        "id": "CaGVCDcdIQIT",
        "outputId": "89ba7bab-67c6-4194-99bd-173b49b38308"
      },
      "source": [
        "target.head()"
      ],
      "execution_count": null,
      "outputs": [
        {
          "output_type": "execute_result",
          "data": {
            "text/html": [
              "<div>\n",
              "<style scoped>\n",
              "    .dataframe tbody tr th:only-of-type {\n",
              "        vertical-align: middle;\n",
              "    }\n",
              "\n",
              "    .dataframe tbody tr th {\n",
              "        vertical-align: top;\n",
              "    }\n",
              "\n",
              "    .dataframe thead th {\n",
              "        text-align: right;\n",
              "    }\n",
              "</style>\n",
              "<table border=\"1\" class=\"dataframe\">\n",
              "  <thead>\n",
              "    <tr style=\"text-align: right;\">\n",
              "      <th></th>\n",
              "      <th>MEDV</th>\n",
              "    </tr>\n",
              "  </thead>\n",
              "  <tbody>\n",
              "    <tr>\n",
              "      <th>0</th>\n",
              "      <td>24.0</td>\n",
              "    </tr>\n",
              "    <tr>\n",
              "      <th>1</th>\n",
              "      <td>21.6</td>\n",
              "    </tr>\n",
              "    <tr>\n",
              "      <th>2</th>\n",
              "      <td>34.7</td>\n",
              "    </tr>\n",
              "    <tr>\n",
              "      <th>3</th>\n",
              "      <td>33.4</td>\n",
              "    </tr>\n",
              "    <tr>\n",
              "      <th>4</th>\n",
              "      <td>36.2</td>\n",
              "    </tr>\n",
              "  </tbody>\n",
              "</table>\n",
              "</div>"
            ],
            "text/plain": [
              "   MEDV\n",
              "0  24.0\n",
              "1  21.6\n",
              "2  34.7\n",
              "3  33.4\n",
              "4  36.2"
            ]
          },
          "metadata": {},
          "execution_count": 59
        }
      ]
    },
    {
      "cell_type": "code",
      "metadata": {
        "colab": {
          "base_uri": "https://localhost:8080/",
          "height": 416
        },
        "id": "t6s7iZsJIg9b",
        "outputId": "3dc9918a-7695-45af-f8fb-9a8b03d37028"
      },
      "source": [
        "X = df[\"RM\"]\n",
        "y = target[\"MEDV\"]\n",
        "\n",
        "model = sm.OLS(y, X).fit()\n",
        "predictions = model.predict(X)\n",
        "\n",
        "model.summary()"
      ],
      "execution_count": null,
      "outputs": [
        {
          "output_type": "execute_result",
          "data": {
            "text/html": [
              "<table class=\"simpletable\">\n",
              "<caption>OLS Regression Results</caption>\n",
              "<tr>\n",
              "  <th>Dep. Variable:</th>          <td>MEDV</td>       <th>  R-squared (uncentered):</th>      <td>   0.901</td> \n",
              "</tr>\n",
              "<tr>\n",
              "  <th>Model:</th>                   <td>OLS</td>       <th>  Adj. R-squared (uncentered):</th> <td>   0.901</td> \n",
              "</tr>\n",
              "<tr>\n",
              "  <th>Method:</th>             <td>Least Squares</td>  <th>  F-statistic:       </th>          <td>   4615.</td> \n",
              "</tr>\n",
              "<tr>\n",
              "  <th>Date:</th>             <td>Sun, 03 Oct 2021</td> <th>  Prob (F-statistic):</th>          <td>3.74e-256</td>\n",
              "</tr>\n",
              "<tr>\n",
              "  <th>Time:</th>                 <td>12:30:17</td>     <th>  Log-Likelihood:    </th>          <td> -1747.1</td> \n",
              "</tr>\n",
              "<tr>\n",
              "  <th>No. Observations:</th>      <td>   506</td>      <th>  AIC:               </th>          <td>   3496.</td> \n",
              "</tr>\n",
              "<tr>\n",
              "  <th>Df Residuals:</th>          <td>   505</td>      <th>  BIC:               </th>          <td>   3500.</td> \n",
              "</tr>\n",
              "<tr>\n",
              "  <th>Df Model:</th>              <td>     1</td>      <th>                     </th>              <td> </td>    \n",
              "</tr>\n",
              "<tr>\n",
              "  <th>Covariance Type:</th>      <td>nonrobust</td>    <th>                     </th>              <td> </td>    \n",
              "</tr>\n",
              "</table>\n",
              "<table class=\"simpletable\">\n",
              "<tr>\n",
              "   <td></td>     <th>coef</th>     <th>std err</th>      <th>t</th>      <th>P>|t|</th>  <th>[0.025</th>    <th>0.975]</th>  \n",
              "</tr>\n",
              "<tr>\n",
              "  <th>RM</th> <td>    3.6534</td> <td>    0.054</td> <td>   67.930</td> <td> 0.000</td> <td>    3.548</td> <td>    3.759</td>\n",
              "</tr>\n",
              "</table>\n",
              "<table class=\"simpletable\">\n",
              "<tr>\n",
              "  <th>Omnibus:</th>       <td>83.295</td> <th>  Durbin-Watson:     </th> <td>   0.493</td>\n",
              "</tr>\n",
              "<tr>\n",
              "  <th>Prob(Omnibus):</th> <td> 0.000</td> <th>  Jarque-Bera (JB):  </th> <td> 152.507</td>\n",
              "</tr>\n",
              "<tr>\n",
              "  <th>Skew:</th>          <td> 0.955</td> <th>  Prob(JB):          </th> <td>7.65e-34</td>\n",
              "</tr>\n",
              "<tr>\n",
              "  <th>Kurtosis:</th>      <td> 4.894</td> <th>  Cond. No.          </th> <td>    1.00</td>\n",
              "</tr>\n",
              "</table><br/><br/>Warnings:<br/>[1] Standard Errors assume that the covariance matrix of the errors is correctly specified."
            ],
            "text/plain": [
              "<class 'statsmodels.iolib.summary.Summary'>\n",
              "\"\"\"\n",
              "                                 OLS Regression Results                                \n",
              "=======================================================================================\n",
              "Dep. Variable:                   MEDV   R-squared (uncentered):                   0.901\n",
              "Model:                            OLS   Adj. R-squared (uncentered):              0.901\n",
              "Method:                 Least Squares   F-statistic:                              4615.\n",
              "Date:                Sun, 03 Oct 2021   Prob (F-statistic):                   3.74e-256\n",
              "Time:                        12:30:17   Log-Likelihood:                         -1747.1\n",
              "No. Observations:                 506   AIC:                                      3496.\n",
              "Df Residuals:                     505   BIC:                                      3500.\n",
              "Df Model:                           1                                                  \n",
              "Covariance Type:            nonrobust                                                  \n",
              "==============================================================================\n",
              "                 coef    std err          t      P>|t|      [0.025      0.975]\n",
              "------------------------------------------------------------------------------\n",
              "RM             3.6534      0.054     67.930      0.000       3.548       3.759\n",
              "==============================================================================\n",
              "Omnibus:                       83.295   Durbin-Watson:                   0.493\n",
              "Prob(Omnibus):                  0.000   Jarque-Bera (JB):              152.507\n",
              "Skew:                           0.955   Prob(JB):                     7.65e-34\n",
              "Kurtosis:                       4.894   Cond. No.                         1.00\n",
              "==============================================================================\n",
              "\n",
              "Warnings:\n",
              "[1] Standard Errors assume that the covariance matrix of the errors is correctly specified.\n",
              "\"\"\""
            ]
          },
          "metadata": {},
          "execution_count": 60
        }
      ]
    },
    {
      "cell_type": "code",
      "metadata": {
        "colab": {
          "base_uri": "https://localhost:8080/",
          "height": 295
        },
        "id": "4yJ57gRGIywd",
        "outputId": "adc55706-ac05-438a-c61c-7e834fbdd72f"
      },
      "source": [
        "plt.scatter(X, y, alpha=0.5)\n",
        "plt.plot(X, predictions)\n",
        "plt.title('Scatter plot x and y')\n",
        "plt.xlabel('x')\n",
        "plt.ylabel('y')\n",
        "plt.show()"
      ],
      "execution_count": null,
      "outputs": [
        {
          "output_type": "display_data",
          "data": {
            "image/png": "[encoded data removed]",
            "text/plain": [
              "<Figure size 432x288 with 1 Axes>"
            ]
          },
          "metadata": {
            "needs_background": "light"
          }
        }
      ]
    },
    {
      "cell_type": "markdown",
      "metadata": {
        "id": "NA-INT-8I2TV"
      },
      "source": [
        "### Using SKlearn\n"
      ]
    },
    {
      "cell_type": "code",
      "metadata": {
        "id": "RN78TJ92I5jm"
      },
      "source": [
        "from sklearn import linear_model\n"
      ],
      "execution_count": null,
      "outputs": []
    },
    {
      "cell_type": "code",
      "metadata": {
        "id": "ULgzVeaKI-gk"
      },
      "source": [
        "from sklearn import datasets ## imports datasets from scikit-learn\n",
        "data = datasets.load_boston() ## loads Boston dataset from datasets library"
      ],
      "execution_count": null,
      "outputs": []
    },
    {
      "cell_type": "code",
      "metadata": {
        "id": "keOZkELHJBnh"
      },
      "source": [
        "# define the data/predictors as the pre-set feature names  \n",
        "df = pd.DataFrame(data.data, columns=data.feature_names)\n",
        "\n",
        "# Put the target (housing value -- MEDV) in another DataFrame\n",
        "target = pd.DataFrame(data.target, columns=['MEDV'])"
      ],
      "execution_count": null,
      "outputs": []
    },
    {
      "cell_type": "code",
      "metadata": {
        "id": "4ozFo3TNJELD"
      },
      "source": [
        "X = df\n",
        "y = target['MEDV']"
      ],
      "execution_count": null,
      "outputs": []
    },
    {
      "cell_type": "code",
      "metadata": {
        "id": "XHtDIYNJJGp_"
      },
      "source": [
        "lm = linear_model.LinearRegression()\n",
        "model = lm.fit(X,y)"
      ],
      "execution_count": null,
      "outputs": []
    },
    {
      "cell_type": "code",
      "metadata": {
        "colab": {
          "base_uri": "https://localhost:8080/"
        },
        "id": "-I_v22tQJIXY",
        "outputId": "bcb57bbc-82e7-4fb7-fc98-bfac94e77b6e"
      },
      "source": [
        "predictions = lm.predict(X)\n",
        "print(predictions)\n"
      ],
      "execution_count": null,
      "outputs": [
        {
          "output_type": "stream",
          "name": "stdout",
          "text": [
            "[30.00384338 25.02556238 30.56759672 28.60703649 27.94352423 25.25628446\n",
            " 23.00180827 19.53598843 11.52363685 18.92026211 18.99949651 21.58679568\n",
            " 20.90652153 19.55290281 19.28348205 19.29748321 20.52750979 16.91140135\n",
            " 16.17801106 18.40613603 12.52385753 17.67103669 15.83288129 13.80628535\n",
            " 15.67833832 13.38668561 15.46397655 14.70847428 19.54737285 20.8764282\n",
            " 11.45511759 18.05923295  8.81105736 14.28275814 13.70675891 23.81463526\n",
            " 22.34193708 23.10891142 22.91502612 31.35762569 34.21510225 28.02056414\n",
            " 25.20386628 24.60979273 22.94149176 22.09669817 20.42320032 18.03655088\n",
            "  9.10655377 17.20607751 21.28152535 23.97222285 27.6558508  24.04901809\n",
            " 15.3618477  31.15264947 24.85686978 33.10919806 21.77537987 21.08493555\n",
            " 17.8725804  18.51110208 23.98742856 22.55408869 23.37308644 30.36148358\n",
            " 25.53056512 21.11338564 17.42153786 20.78483633 25.20148859 21.7426577\n",
            " 24.55744957 24.04295712 25.50499716 23.9669302  22.94545403 23.35699818\n",
            " 21.26198266 22.42817373 28.40576968 26.99486086 26.03576297 25.05873482\n",
            " 24.78456674 27.79049195 22.16853423 25.89276415 30.67461827 30.83110623\n",
            " 27.1190194  27.41266734 28.94122762 29.08105546 27.03977365 28.62459949\n",
            " 24.72744978 35.78159518 35.11454587 32.25102801 24.58022019 25.59413475\n",
            " 19.79013684 20.31167129 21.43482591 18.53994008 17.18755992 20.75049026\n",
            " 22.64829115 19.7720367  20.64965864 26.52586744 20.77323638 20.71548315\n",
            " 25.17208881 20.43025591 23.37724626 23.69043261 20.33578364 20.79180873\n",
            " 21.91632071 22.47107777 20.55738556 16.36661977 20.56099819 22.48178446\n",
            " 14.61706633 15.17876684 18.93868592 14.05573285 20.03527399 19.41013402\n",
            " 20.06191566 15.75807673 13.25645238 17.26277735 15.87841883 19.36163954\n",
            " 13.81483897 16.44881475 13.57141932  3.98885508 14.59495478 12.1488148\n",
            "  8.72822362 12.03585343 15.82082058  8.5149902   9.71844139 14.80451374\n",
            " 20.83858153 18.30101169 20.12282558 17.28601894 22.36600228 20.10375923\n",
            " 13.62125891 33.25982697 29.03017268 25.56752769 32.70827666 36.77467015\n",
            " 40.55765844 41.84728168 24.78867379 25.37889238 37.20347455 23.08748747\n",
            " 26.40273955 26.65382114 22.5551466  24.29082812 22.97657219 29.07194308\n",
            " 26.5219434  30.72209056 25.61669307 29.13740979 31.43571968 32.92231568\n",
            " 34.72440464 27.76552111 33.88787321 30.99238036 22.71820008 24.7664781\n",
            " 35.88497226 33.42476722 32.41199147 34.51509949 30.76109485 30.28934141\n",
            " 32.91918714 32.11260771 31.55871004 40.84555721 36.12770079 32.6692081\n",
            " 34.70469116 30.09345162 30.64393906 29.28719501 37.07148392 42.03193124\n",
            " 43.18949844 22.69034796 23.68284712 17.85447214 23.49428992 17.00587718\n",
            " 22.39251096 17.06042754 22.73892921 25.21942554 11.11916737 24.51049148\n",
            " 26.60334775 28.35518713 24.91525464 29.68652768 33.18419746 23.77456656\n",
            " 32.14051958 29.7458199  38.37102453 39.81461867 37.58605755 32.3995325\n",
            " 35.45665242 31.23411512 24.48449227 33.28837292 38.0481048  37.16328631\n",
            " 31.71383523 25.26705571 30.10010745 32.71987156 28.42717057 28.42940678\n",
            " 27.29375938 23.74262478 24.12007891 27.40208414 16.3285756  13.39891261\n",
            " 20.01638775 19.86184428 21.2883131  24.0798915  24.20633547 25.04215821\n",
            " 24.91964007 29.94563374 23.97228316 21.69580887 37.51109239 43.30239043\n",
            " 36.48361421 34.98988594 34.81211508 37.16631331 40.98928501 34.44634089\n",
            " 35.83397547 28.245743   31.22673593 40.8395575  39.31792393 25.70817905\n",
            " 22.30295533 27.20340972 28.51169472 35.47676598 36.10639164 33.79668274\n",
            " 35.61085858 34.83993382 30.35192656 35.30980701 38.79756966 34.33123186\n",
            " 40.33963075 44.67308339 31.59689086 27.3565923  20.10174154 27.04206674\n",
            " 27.2136458  26.91395839 33.43563311 34.40349633 31.8333982  25.81783237\n",
            " 24.42982348 28.45764337 27.36266999 19.53928758 29.11309844 31.91054611\n",
            " 30.77159449 28.94275871 28.88191022 32.79887232 33.20905456 30.76831792\n",
            " 35.56226857 32.70905124 28.64244237 23.58965827 18.54266897 26.87889843\n",
            " 23.28133979 25.54580246 25.48120057 20.53909901 17.61572573 18.37581686\n",
            " 24.29070277 21.32529039 24.88682244 24.86937282 22.86952447 19.45123791\n",
            " 25.11783401 24.66786913 23.68076177 19.34089616 21.17418105 24.25249073\n",
            " 21.59260894 19.98446605 23.33888    22.14060692 21.55509929 20.61872907\n",
            " 20.16097176 19.28490387 22.1667232  21.24965774 21.42939305 30.32788796\n",
            " 22.04734975 27.70647912 28.54794117 16.54501121 14.78359641 25.27380082\n",
            " 27.54205117 22.14837562 20.45944095 20.54605423 16.88063827 25.40253506\n",
            " 14.32486632 16.59488462 19.63704691 22.71806607 22.20218887 19.20548057\n",
            " 22.66616105 18.93192618 18.22846804 20.23150811 37.4944739  14.28190734\n",
            " 15.54286248 10.83162324 23.80072902 32.6440736  34.60684042 24.94331333\n",
            " 25.9998091   6.126325    0.77779806 25.30713064 17.74061065 20.23274414\n",
            " 15.83331301 16.83512587 14.36994825 18.47682833 13.4276828  13.06177512\n",
            "  3.27918116  8.06022171  6.12842196  5.6186481   6.4519857  14.20764735\n",
            " 17.21225183 17.29887265  9.89116643 20.22124193 17.94181175 20.30445783\n",
            " 19.29559075 16.33632779  6.55162319 10.89016778 11.88145871 17.81174507\n",
            " 18.26126587 12.97948781  7.37816361  8.21115861  8.06626193 19.98294786\n",
            " 13.70756369 19.85268454 15.22308298 16.96071981  1.71851807 11.80578387\n",
            " -4.28131071  9.58376737 13.36660811  6.89562363  6.14779852 14.60661794\n",
            " 19.6000267  18.12427476 18.52177132 13.1752861  14.62617624  9.92374976\n",
            " 16.34590647 14.07519426 14.25756243 13.04234787 18.15955693 18.69554354\n",
            " 21.527283   17.03141861 15.96090435 13.36141611 14.52079384  8.81976005\n",
            "  4.86751102 13.06591313 12.70609699 17.29558059 18.740485   18.05901029\n",
            " 11.51474683 11.97400359 17.68344618 18.12695239 17.5183465  17.22742507\n",
            " 16.52271631 19.41291095 18.58215236 22.48944791 15.28000133 15.82089335\n",
            " 12.68725581 12.8763379  17.18668531 18.51247609 19.04860533 20.17208927\n",
            " 19.7740732  22.42940768 20.31911854 17.88616253 14.37478523 16.94776851\n",
            " 16.98405762 18.58838397 20.16719441 22.97718032 22.45580726 25.57824627\n",
            " 16.39147632 16.1114628  20.534816   11.54272738 19.20496304 21.86276391\n",
            " 23.46878866 27.09887315 28.56994302 21.08398783 19.45516196 22.22225914\n",
            " 19.65591961 21.32536104 11.85583717  8.22386687  3.66399672 13.75908538\n",
            " 15.93118545 20.62662054 20.61249414 16.88541964 14.01320787 19.10854144\n",
            " 21.29805174 18.45498841 20.46870847 23.53334055 22.37571892 27.6274261\n",
            " 26.12796681 22.34421229]\n"
          ]
        }
      ]
    },
    {
      "cell_type": "code",
      "metadata": {
        "colab": {
          "base_uri": "https://localhost:8080/"
        },
        "id": "0Gnu7KU4JLAL",
        "outputId": "82402a18-0280-4004-cb06-373d3813fdb8"
      },
      "source": [
        "lm.score(X,y)\n"
      ],
      "execution_count": null,
      "outputs": [
        {
          "output_type": "execute_result",
          "data": {
            "text/plain": [
              "0.7406426641094095"
            ]
          },
          "metadata": {},
          "execution_count": 68
        }
      ]
    },
    {
      "cell_type": "markdown",
      "metadata": {
        "id": "rmLwJDPaJO9t"
      },
      "source": [
        "### Using SKlearn Example 2\n"
      ]
    },
    {
      "cell_type": "code",
      "metadata": {
        "colab": {
          "base_uri": "https://localhost:8080/",
          "height": 206
        },
        "id": "Cywg4ZimJQRQ",
        "outputId": "99abe15a-ea21-4be6-fc30-765adf7fd108"
      },
      "source": [
        "import pandas as pd\n",
        "import matplotlib.pyplot as plt\n",
        "from sklearn.linear_model import LinearRegression\n",
        "from sklearn.model_selection import train_test_split\n",
        "\n",
        "df = pd.read_csv('https://raw.githubusercontent.com/ardhiraka/PFDS_sources/master/CarPrice_Assignment.csv', usecols=['horsepower', 'price'])\n",
        "df.head()"
      ],
      "execution_count": null,
      "outputs": [
        {
          "output_type": "execute_result",
          "data": {
            "text/html": [
              "<div>\n",
              "<style scoped>\n",
              "    .dataframe tbody tr th:only-of-type {\n",
              "        vertical-align: middle;\n",
              "    }\n",
              "\n",
              "    .dataframe tbody tr th {\n",
              "        vertical-align: top;\n",
              "    }\n",
              "\n",
              "    .dataframe thead th {\n",
              "        text-align: right;\n",
              "    }\n",
              "</style>\n",
              "<table border=\"1\" class=\"dataframe\">\n",
              "  <thead>\n",
              "    <tr style=\"text-align: right;\">\n",
              "      <th></th>\n",
              "      <th>horsepower</th>\n",
              "      <th>price</th>\n",
              "    </tr>\n",
              "  </thead>\n",
              "  <tbody>\n",
              "    <tr>\n",
              "      <th>0</th>\n",
              "      <td>111</td>\n",
              "      <td>13495.0</td>\n",
              "    </tr>\n",
              "    <tr>\n",
              "      <th>1</th>\n",
              "      <td>111</td>\n",
              "      <td>16500.0</td>\n",
              "    </tr>\n",
              "    <tr>\n",
              "      <th>2</th>\n",
              "      <td>154</td>\n",
              "      <td>16500.0</td>\n",
              "    </tr>\n",
              "    <tr>\n",
              "      <th>3</th>\n",
              "      <td>102</td>\n",
              "      <td>13950.0</td>\n",
              "    </tr>\n",
              "    <tr>\n",
              "      <th>4</th>\n",
              "      <td>115</td>\n",
              "      <td>17450.0</td>\n",
              "    </tr>\n",
              "  </tbody>\n",
              "</table>\n",
              "</div>"
            ],
            "text/plain": [
              "   horsepower    price\n",
              "0         111  13495.0\n",
              "1         111  16500.0\n",
              "2         154  16500.0\n",
              "3         102  13950.0\n",
              "4         115  17450.0"
            ]
          },
          "metadata": {},
          "execution_count": 69
        }
      ]
    },
    {
      "cell_type": "code",
      "metadata": {
        "colab": {
          "base_uri": "https://localhost:8080/"
        },
        "id": "Xpa6A0prJVVB",
        "outputId": "261cf878-13c2-4a23-a240-6f5cc49f6543"
      },
      "source": [
        "df.shape\n"
      ],
      "execution_count": null,
      "outputs": [
        {
          "output_type": "execute_result",
          "data": {
            "text/plain": [
              "(205, 2)"
            ]
          },
          "metadata": {},
          "execution_count": 70
        }
      ]
    },
    {
      "cell_type": "code",
      "metadata": {
        "colab": {
          "base_uri": "https://localhost:8080/",
          "height": 268
        },
        "collapsed": true,
        "id": "txZ3RUpbJYid",
        "outputId": "b4d8ef1c-d483-4cfb-ebae-f7055744f1cb"
      },
      "source": [
        "f = plt.figure(figsize=(12,4))\n",
        "\n",
        "f.add_subplot(1,2,1)\n",
        "df['horsepower'].plot(kind='kde')\n",
        "\n",
        "f.add_subplot(1,2,2)\n",
        "plt.boxplot(df['horsepower'])\n",
        "plt.show()"
      ],
      "execution_count": null,
      "outputs": [
        {
          "output_type": "display_data",
          "data": {
            "image/png": "[encoded data removed]",
            "text/plain": [
              "<Figure size 864x288 with 2 Axes>"
            ]
          },
          "metadata": {
            "needs_background": "light"
          }
        }
      ]
    },
    {
      "cell_type": "code",
      "metadata": {
        "colab": {
          "base_uri": "https://localhost:8080/",
          "height": 295
        },
        "id": "XzYSoWUZJc7J",
        "outputId": "33370fd2-7ea9-45df-a886-96ca31402e51"
      },
      "source": [
        "plt.scatter(df['horsepower'], df['price'])\n",
        "\n",
        "plt.xlabel('Horsepower')\n",
        "plt.ylabel('Price')\n",
        "plt.title('Scatter Plot Horsepower vs Price')\n",
        "plt.show()"
      ],
      "execution_count": null,
      "outputs": [
        {
          "output_type": "display_data",
          "data": {
            "image/png": "[encoded data removed]",
            "text/plain": [
              "<Figure size 432x288 with 1 Axes>"
            ]
          },
          "metadata": {
            "needs_background": "light"
          }
        }
      ]
    },
    {
      "cell_type": "code",
      "metadata": {
        "colab": {
          "base_uri": "https://localhost:8080/",
          "height": 112
        },
        "id": "6edqxZ-SJgHG",
        "outputId": "5616e452-f466-40c6-a84f-b00d4a8561ea"
      },
      "source": [
        "df.corr()\n"
      ],
      "execution_count": null,
      "outputs": [
        {
          "output_type": "execute_result",
          "data": {
            "text/html": [
              "<div>\n",
              "<style scoped>\n",
              "    .dataframe tbody tr th:only-of-type {\n",
              "        vertical-align: middle;\n",
              "    }\n",
              "\n",
              "    .dataframe tbody tr th {\n",
              "        vertical-align: top;\n",
              "    }\n",
              "\n",
              "    .dataframe thead th {\n",
              "        text-align: right;\n",
              "    }\n",
              "</style>\n",
              "<table border=\"1\" class=\"dataframe\">\n",
              "  <thead>\n",
              "    <tr style=\"text-align: right;\">\n",
              "      <th></th>\n",
              "      <th>horsepower</th>\n",
              "      <th>price</th>\n",
              "    </tr>\n",
              "  </thead>\n",
              "  <tbody>\n",
              "    <tr>\n",
              "      <th>horsepower</th>\n",
              "      <td>1.000000</td>\n",
              "      <td>0.808139</td>\n",
              "    </tr>\n",
              "    <tr>\n",
              "      <th>price</th>\n",
              "      <td>0.808139</td>\n",
              "      <td>1.000000</td>\n",
              "    </tr>\n",
              "  </tbody>\n",
              "</table>\n",
              "</div>"
            ],
            "text/plain": [
              "            horsepower     price\n",
              "horsepower    1.000000  0.808139\n",
              "price         0.808139  1.000000"
            ]
          },
          "metadata": {},
          "execution_count": 73
        }
      ]
    },
    {
      "cell_type": "code",
      "metadata": {
        "id": "EQcDYfhmJmR8"
      },
      "source": [
        "x = df['horsepower'].values.reshape(-1,1)\n",
        "y = df['price'].values.reshape(-1,1)"
      ],
      "execution_count": null,
      "outputs": []
    },
    {
      "cell_type": "code",
      "metadata": {
        "colab": {
          "base_uri": "https://localhost:8080/"
        },
        "id": "dmRgs4LbJnu3",
        "outputId": "605dcd42-a4f8-450a-80f9-3d7d66c6f97e"
      },
      "source": [
        "print(x)\n",
        "print(y)"
      ],
      "execution_count": null,
      "outputs": [
        {
          "output_type": "stream",
          "name": "stdout",
          "text": [
            "[[111]\n",
            " [111]\n",
            " [154]\n",
            " [102]\n",
            " [115]\n",
            " [110]\n",
            " [110]\n",
            " [110]\n",
            " [140]\n",
            " [160]\n",
            " [101]\n",
            " [101]\n",
            " [121]\n",
            " [121]\n",
            " [121]\n",
            " [182]\n",
            " [182]\n",
            " [182]\n",
            " [ 48]\n",
            " [ 70]\n",
            " [ 70]\n",
            " [ 68]\n",
            " [ 68]\n",
            " [102]\n",
            " [ 68]\n",
            " [ 68]\n",
            " [ 68]\n",
            " [102]\n",
            " [ 88]\n",
            " [145]\n",
            " [ 58]\n",
            " [ 76]\n",
            " [ 60]\n",
            " [ 76]\n",
            " [ 76]\n",
            " [ 76]\n",
            " [ 76]\n",
            " [ 86]\n",
            " [ 86]\n",
            " [ 86]\n",
            " [ 86]\n",
            " [101]\n",
            " [100]\n",
            " [ 78]\n",
            " [ 70]\n",
            " [ 70]\n",
            " [ 90]\n",
            " [176]\n",
            " [176]\n",
            " [262]\n",
            " [ 68]\n",
            " [ 68]\n",
            " [ 68]\n",
            " [ 68]\n",
            " [ 68]\n",
            " [101]\n",
            " [101]\n",
            " [101]\n",
            " [135]\n",
            " [ 84]\n",
            " [ 84]\n",
            " [ 84]\n",
            " [ 84]\n",
            " [ 64]\n",
            " [ 84]\n",
            " [120]\n",
            " [ 72]\n",
            " [123]\n",
            " [123]\n",
            " [123]\n",
            " [123]\n",
            " [155]\n",
            " [155]\n",
            " [184]\n",
            " [184]\n",
            " [175]\n",
            " [ 68]\n",
            " [ 68]\n",
            " [ 68]\n",
            " [102]\n",
            " [116]\n",
            " [ 88]\n",
            " [145]\n",
            " [145]\n",
            " [145]\n",
            " [ 88]\n",
            " [ 88]\n",
            " [116]\n",
            " [116]\n",
            " [ 69]\n",
            " [ 55]\n",
            " [ 69]\n",
            " [ 69]\n",
            " [ 69]\n",
            " [ 69]\n",
            " [ 69]\n",
            " [ 69]\n",
            " [ 69]\n",
            " [ 69]\n",
            " [ 97]\n",
            " [ 97]\n",
            " [152]\n",
            " [152]\n",
            " [152]\n",
            " [160]\n",
            " [200]\n",
            " [160]\n",
            " [ 97]\n",
            " [ 95]\n",
            " [ 97]\n",
            " [ 95]\n",
            " [ 95]\n",
            " [ 95]\n",
            " [ 95]\n",
            " [ 95]\n",
            " [ 97]\n",
            " [ 95]\n",
            " [142]\n",
            " [ 68]\n",
            " [102]\n",
            " [ 68]\n",
            " [ 68]\n",
            " [ 68]\n",
            " [ 88]\n",
            " [145]\n",
            " [143]\n",
            " [207]\n",
            " [207]\n",
            " [207]\n",
            " [288]\n",
            " [ 90]\n",
            " [ 90]\n",
            " [110]\n",
            " [110]\n",
            " [110]\n",
            " [110]\n",
            " [160]\n",
            " [160]\n",
            " [ 69]\n",
            " [ 73]\n",
            " [ 73]\n",
            " [ 82]\n",
            " [ 82]\n",
            " [ 94]\n",
            " [ 82]\n",
            " [111]\n",
            " [ 82]\n",
            " [ 94]\n",
            " [ 82]\n",
            " [111]\n",
            " [ 62]\n",
            " [ 62]\n",
            " [ 62]\n",
            " [ 62]\n",
            " [ 62]\n",
            " [ 62]\n",
            " [ 70]\n",
            " [ 70]\n",
            " [ 56]\n",
            " [ 56]\n",
            " [ 70]\n",
            " [ 70]\n",
            " [ 70]\n",
            " [ 70]\n",
            " [ 70]\n",
            " [112]\n",
            " [112]\n",
            " [116]\n",
            " [116]\n",
            " [116]\n",
            " [116]\n",
            " [116]\n",
            " [116]\n",
            " [ 92]\n",
            " [ 73]\n",
            " [ 92]\n",
            " [ 92]\n",
            " [ 92]\n",
            " [161]\n",
            " [161]\n",
            " [156]\n",
            " [156]\n",
            " [ 52]\n",
            " [ 85]\n",
            " [ 52]\n",
            " [ 85]\n",
            " [ 85]\n",
            " [ 68]\n",
            " [100]\n",
            " [ 90]\n",
            " [ 90]\n",
            " [110]\n",
            " [ 68]\n",
            " [ 88]\n",
            " [114]\n",
            " [114]\n",
            " [114]\n",
            " [114]\n",
            " [162]\n",
            " [162]\n",
            " [114]\n",
            " [160]\n",
            " [134]\n",
            " [106]\n",
            " [114]]\n",
            "[[13495.   ]\n",
            " [16500.   ]\n",
            " [16500.   ]\n",
            " [13950.   ]\n",
            " [17450.   ]\n",
            " [15250.   ]\n",
            " [17710.   ]\n",
            " [18920.   ]\n",
            " [23875.   ]\n",
            " [17859.167]\n",
            " [16430.   ]\n",
            " [16925.   ]\n",
            " [20970.   ]\n",
            " [21105.   ]\n",
            " [24565.   ]\n",
            " [30760.   ]\n",
            " [41315.   ]\n",
            " [36880.   ]\n",
            " [ 5151.   ]\n",
            " [ 6295.   ]\n",
            " [ 6575.   ]\n",
            " [ 5572.   ]\n",
            " [ 6377.   ]\n",
            " [ 7957.   ]\n",
            " [ 6229.   ]\n",
            " [ 6692.   ]\n",
            " [ 7609.   ]\n",
            " [ 8558.   ]\n",
            " [ 8921.   ]\n",
            " [12964.   ]\n",
            " [ 6479.   ]\n",
            " [ 6855.   ]\n",
            " [ 5399.   ]\n",
            " [ 6529.   ]\n",
            " [ 7129.   ]\n",
            " [ 7295.   ]\n",
            " [ 7295.   ]\n",
            " [ 7895.   ]\n",
            " [ 9095.   ]\n",
            " [ 8845.   ]\n",
            " [10295.   ]\n",
            " [12945.   ]\n",
            " [10345.   ]\n",
            " [ 6785.   ]\n",
            " [ 8916.5  ]\n",
            " [ 8916.5  ]\n",
            " [11048.   ]\n",
            " [32250.   ]\n",
            " [35550.   ]\n",
            " [36000.   ]\n",
            " [ 5195.   ]\n",
            " [ 6095.   ]\n",
            " [ 6795.   ]\n",
            " [ 6695.   ]\n",
            " [ 7395.   ]\n",
            " [10945.   ]\n",
            " [11845.   ]\n",
            " [13645.   ]\n",
            " [15645.   ]\n",
            " [ 8845.   ]\n",
            " [ 8495.   ]\n",
            " [10595.   ]\n",
            " [10245.   ]\n",
            " [10795.   ]\n",
            " [11245.   ]\n",
            " [18280.   ]\n",
            " [18344.   ]\n",
            " [25552.   ]\n",
            " [28248.   ]\n",
            " [28176.   ]\n",
            " [31600.   ]\n",
            " [34184.   ]\n",
            " [35056.   ]\n",
            " [40960.   ]\n",
            " [45400.   ]\n",
            " [16503.   ]\n",
            " [ 5389.   ]\n",
            " [ 6189.   ]\n",
            " [ 6669.   ]\n",
            " [ 7689.   ]\n",
            " [ 9959.   ]\n",
            " [ 8499.   ]\n",
            " [12629.   ]\n",
            " [14869.   ]\n",
            " [14489.   ]\n",
            " [ 6989.   ]\n",
            " [ 8189.   ]\n",
            " [ 9279.   ]\n",
            " [ 9279.   ]\n",
            " [ 5499.   ]\n",
            " [ 7099.   ]\n",
            " [ 6649.   ]\n",
            " [ 6849.   ]\n",
            " [ 7349.   ]\n",
            " [ 7299.   ]\n",
            " [ 7799.   ]\n",
            " [ 7499.   ]\n",
            " [ 7999.   ]\n",
            " [ 8249.   ]\n",
            " [ 8949.   ]\n",
            " [ 9549.   ]\n",
            " [13499.   ]\n",
            " [14399.   ]\n",
            " [13499.   ]\n",
            " [17199.   ]\n",
            " [19699.   ]\n",
            " [18399.   ]\n",
            " [11900.   ]\n",
            " [13200.   ]\n",
            " [12440.   ]\n",
            " [13860.   ]\n",
            " [15580.   ]\n",
            " [16900.   ]\n",
            " [16695.   ]\n",
            " [17075.   ]\n",
            " [16630.   ]\n",
            " [17950.   ]\n",
            " [18150.   ]\n",
            " [ 5572.   ]\n",
            " [ 7957.   ]\n",
            " [ 6229.   ]\n",
            " [ 6692.   ]\n",
            " [ 7609.   ]\n",
            " [ 8921.   ]\n",
            " [12764.   ]\n",
            " [22018.   ]\n",
            " [32528.   ]\n",
            " [34028.   ]\n",
            " [37028.   ]\n",
            " [31400.5  ]\n",
            " [ 9295.   ]\n",
            " [ 9895.   ]\n",
            " [11850.   ]\n",
            " [12170.   ]\n",
            " [15040.   ]\n",
            " [15510.   ]\n",
            " [18150.   ]\n",
            " [18620.   ]\n",
            " [ 5118.   ]\n",
            " [ 7053.   ]\n",
            " [ 7603.   ]\n",
            " [ 7126.   ]\n",
            " [ 7775.   ]\n",
            " [ 9960.   ]\n",
            " [ 9233.   ]\n",
            " [11259.   ]\n",
            " [ 7463.   ]\n",
            " [10198.   ]\n",
            " [ 8013.   ]\n",
            " [11694.   ]\n",
            " [ 5348.   ]\n",
            " [ 6338.   ]\n",
            " [ 6488.   ]\n",
            " [ 6918.   ]\n",
            " [ 7898.   ]\n",
            " [ 8778.   ]\n",
            " [ 6938.   ]\n",
            " [ 7198.   ]\n",
            " [ 7898.   ]\n",
            " [ 7788.   ]\n",
            " [ 7738.   ]\n",
            " [ 8358.   ]\n",
            " [ 9258.   ]\n",
            " [ 8058.   ]\n",
            " [ 8238.   ]\n",
            " [ 9298.   ]\n",
            " [ 9538.   ]\n",
            " [ 8449.   ]\n",
            " [ 9639.   ]\n",
            " [ 9989.   ]\n",
            " [11199.   ]\n",
            " [11549.   ]\n",
            " [17669.   ]\n",
            " [ 8948.   ]\n",
            " [10698.   ]\n",
            " [ 9988.   ]\n",
            " [10898.   ]\n",
            " [11248.   ]\n",
            " [16558.   ]\n",
            " [15998.   ]\n",
            " [15690.   ]\n",
            " [15750.   ]\n",
            " [ 7775.   ]\n",
            " [ 7975.   ]\n",
            " [ 7995.   ]\n",
            " [ 8195.   ]\n",
            " [ 8495.   ]\n",
            " [ 9495.   ]\n",
            " [ 9995.   ]\n",
            " [11595.   ]\n",
            " [ 9980.   ]\n",
            " [13295.   ]\n",
            " [13845.   ]\n",
            " [12290.   ]\n",
            " [12940.   ]\n",
            " [13415.   ]\n",
            " [15985.   ]\n",
            " [16515.   ]\n",
            " [18420.   ]\n",
            " [18950.   ]\n",
            " [16845.   ]\n",
            " [19045.   ]\n",
            " [21485.   ]\n",
            " [22470.   ]\n",
            " [22625.   ]]\n"
          ]
        }
      ]
    },
    {
      "cell_type": "code",
      "metadata": {
        "id": "yecY7EObJyWS"
      },
      "source": [
        "x_train, x_test, y_train, y_test = train_test_split(x, y, test_size=0.2)"
      ],
      "execution_count": null,
      "outputs": []
    },
    {
      "cell_type": "code",
      "metadata": {
        "colab": {
          "base_uri": "https://localhost:8080/"
        },
        "id": "1ZDf8abUJz6U",
        "outputId": "f888526b-9b9f-4a89-a671-00b6233533ed"
      },
      "source": [
        "x_train.shape\n"
      ],
      "execution_count": null,
      "outputs": [
        {
          "output_type": "execute_result",
          "data": {
            "text/plain": [
              "(164, 1)"
            ]
          },
          "metadata": {},
          "execution_count": 77
        }
      ]
    },
    {
      "cell_type": "code",
      "metadata": {
        "colab": {
          "base_uri": "https://localhost:8080/"
        },
        "id": "Pd7j3uusJ25r",
        "outputId": "af27bb19-94e1-466b-c08e-659246c6cdc4"
      },
      "source": [
        "lin_reg = LinearRegression()\n",
        "lin_reg.fit(x_train, y_train)"
      ],
      "execution_count": null,
      "outputs": [
        {
          "output_type": "execute_result",
          "data": {
            "text/plain": [
              "LinearRegression(copy_X=True, fit_intercept=True, n_jobs=None, normalize=False)"
            ]
          },
          "metadata": {},
          "execution_count": 78
        }
      ]
    },
    {
      "cell_type": "code",
      "metadata": {
        "colab": {
          "base_uri": "https://localhost:8080/"
        },
        "id": "Oyvikai6J57j",
        "outputId": "4d7a11d4-89f3-47ec-c07e-2c518266ec5e"
      },
      "source": [
        "print(lin_reg.coef_)\n",
        "print(lin_reg.intercept_)"
      ],
      "execution_count": null,
      "outputs": [
        {
          "output_type": "stream",
          "name": "stdout",
          "text": [
            "[[165.91297381]]\n",
            "[-4159.1544532]\n"
          ]
        }
      ]
    },
    {
      "cell_type": "code",
      "metadata": {
        "collapsed": true,
        "colab": {
          "base_uri": "https://localhost:8080/"
        },
        "id": "0oKil4VUKAB9",
        "outputId": "6568f2f2-f91e-4ba9-839b-c134df0ecabf"
      },
      "source": [
        "lin_reg.score(x_test, y_test)\n"
      ],
      "execution_count": null,
      "outputs": [
        {
          "output_type": "execute_result",
          "data": {
            "text/plain": [
              "0.5922824536734853"
            ]
          },
          "metadata": {},
          "execution_count": 81
        }
      ]
    },
    {
      "cell_type": "code",
      "metadata": {
        "colab": {
          "base_uri": "https://localhost:8080/",
          "height": 312
        },
        "id": "uNdNKNsOKDGA",
        "outputId": "d1328593-12a5-40a2-b294-c3b43c1e126b"
      },
      "source": [
        "y_prediction = lin_reg.predict(x_test)\n",
        "\n",
        "plt.scatter(x_test, y_test)\n",
        "plt.plot(x_test, y_prediction, c='r')\n",
        "plt.xlabel('Horsepower')\n",
        "plt.ylabel('Price')\n",
        "plt.title('Plot Horsepower vs Price')"
      ],
      "execution_count": null,
      "outputs": [
        {
          "output_type": "execute_result",
          "data": {
            "text/plain": [
              "Text(0.5, 1.0, 'Plot Horsepower vs Price')"
            ]
          },
          "metadata": {},
          "execution_count": 82
        },
        {
          "output_type": "display_data",
          "data": {
            "image/png": "[encoded data removed]",
            "text/plain": [
              "<Figure size 432x288 with 1 Axes>"
            ]
          },
          "metadata": {
            "needs_background": "light"
          }
        }
      ]
    },
    {
      "cell_type": "code",
      "metadata": {
        "colab": {
          "base_uri": "https://localhost:8080/"
        },
        "id": "C-pdULp-KIWx",
        "outputId": "34702da1-cfb4-4f51-ab28-d53350e6ac7c"
      },
      "source": [
        "lin_reg.predict([[100]])\n"
      ],
      "execution_count": null,
      "outputs": [
        {
          "output_type": "execute_result",
          "data": {
            "text/plain": [
              "array([[12432.14292813]])"
            ]
          },
          "metadata": {},
          "execution_count": 83
        }
      ]
    },
    {
      "cell_type": "code",
      "metadata": {
        "colab": {
          "base_uri": "https://localhost:8080/"
        },
        "id": "KpzQru5yKPAR",
        "outputId": "3998ce87-2ede-45eb-b10f-9948a33c7741"
      },
      "source": [
        "lin_reg.predict([[150]])\n"
      ],
      "execution_count": null,
      "outputs": [
        {
          "output_type": "execute_result",
          "data": {
            "text/plain": [
              "array([[20727.79161879]])"
            ]
          },
          "metadata": {},
          "execution_count": 84
        }
      ]
    },
    {
      "cell_type": "markdown",
      "metadata": {
        "id": "j1zzlB7NNnro"
      },
      "source": [
        ""
      ]
    },
    {
      "cell_type": "code",
      "metadata": {
        "colab": {
          "base_uri": "https://localhost:8080/"
        },
        "id": "e3uj-IquKSar",
        "outputId": "2c5724a5-92ce-4a7e-8233-f7516ff4dbec"
      },
      "source": [
        "lin_reg.predict([[200]])\n"
      ],
      "execution_count": null,
      "outputs": [
        {
          "output_type": "execute_result",
          "data": {
            "text/plain": [
              "array([[29023.44030945]])"
            ]
          },
          "metadata": {},
          "execution_count": 85
        }
      ]
    },
    {
      "cell_type": "markdown",
      "metadata": {
        "id": "HGvZY6fFNUt1"
      },
      "source": [
        "## Latihan Linier Regression Multiple Variabels "
      ]
    },
    {
      "cell_type": "markdown",
      "metadata": {
        "id": "rbsD1oX9Ni51"
      },
      "source": [
        "<img src=\"https://i.ibb.co/cLj8Bhs/csv.png\" width=\"650\" align=\"center\">\n",
        "\n",
        "\n"
      ]
    },
    {
      "cell_type": "code",
      "metadata": {
        "colab": {
          "base_uri": "https://localhost:8080/",
          "height": 237
        },
        "id": "lB633LyuERVA",
        "outputId": "681bf670-306b-4b8a-ecf3-b180a8068405"
      },
      "source": [
        "url = \"https://raw.githubusercontent.com/iketutg/my_example_ds/main/data/hargarumah.csv\"\n",
        "df = pd.read_csv(url) \n",
        "df "
      ],
      "execution_count": null,
      "outputs": [
        {
          "output_type": "execute_result",
          "data": {
            "text/html": [
              "<div>\n",
              "<style scoped>\n",
              "    .dataframe tbody tr th:only-of-type {\n",
              "        vertical-align: middle;\n",
              "    }\n",
              "\n",
              "    .dataframe tbody tr th {\n",
              "        vertical-align: top;\n",
              "    }\n",
              "\n",
              "    .dataframe thead th {\n",
              "        text-align: right;\n",
              "    }\n",
              "</style>\n",
              "<table border=\"1\" class=\"dataframe\">\n",
              "  <thead>\n",
              "    <tr style=\"text-align: right;\">\n",
              "      <th></th>\n",
              "      <th>area</th>\n",
              "      <th>bedrooms</th>\n",
              "      <th>age</th>\n",
              "      <th>price</th>\n",
              "    </tr>\n",
              "  </thead>\n",
              "  <tbody>\n",
              "    <tr>\n",
              "      <th>0</th>\n",
              "      <td>2600</td>\n",
              "      <td>3.0</td>\n",
              "      <td>20</td>\n",
              "      <td>550000</td>\n",
              "    </tr>\n",
              "    <tr>\n",
              "      <th>1</th>\n",
              "      <td>3000</td>\n",
              "      <td>4.0</td>\n",
              "      <td>15</td>\n",
              "      <td>565000</td>\n",
              "    </tr>\n",
              "    <tr>\n",
              "      <th>2</th>\n",
              "      <td>3200</td>\n",
              "      <td>NaN</td>\n",
              "      <td>18</td>\n",
              "      <td>610000</td>\n",
              "    </tr>\n",
              "    <tr>\n",
              "      <th>3</th>\n",
              "      <td>3600</td>\n",
              "      <td>3.0</td>\n",
              "      <td>30</td>\n",
              "      <td>595000</td>\n",
              "    </tr>\n",
              "    <tr>\n",
              "      <th>4</th>\n",
              "      <td>4000</td>\n",
              "      <td>5.0</td>\n",
              "      <td>8</td>\n",
              "      <td>760000</td>\n",
              "    </tr>\n",
              "    <tr>\n",
              "      <th>5</th>\n",
              "      <td>4100</td>\n",
              "      <td>6.0</td>\n",
              "      <td>8</td>\n",
              "      <td>810000</td>\n",
              "    </tr>\n",
              "  </tbody>\n",
              "</table>\n",
              "</div>"
            ],
            "text/plain": [
              "   area  bedrooms  age   price\n",
              "0  2600       3.0   20  550000\n",
              "1  3000       4.0   15  565000\n",
              "2  3200       NaN   18  610000\n",
              "3  3600       3.0   30  595000\n",
              "4  4000       5.0    8  760000\n",
              "5  4100       6.0    8  810000"
            ]
          },
          "metadata": {},
          "execution_count": 87
        }
      ]
    },
    {
      "cell_type": "markdown",
      "metadata": {
        "id": "ZIcgcjVhN0-m"
      },
      "source": [
        "- Area : square feet \n",
        "- bed rooms , \n",
        "- Age : age of the home in years \n",
        "- price "
      ]
    },
    {
      "cell_type": "markdown",
      "metadata": {
        "id": "HgexkV27OJmT"
      },
      "source": [
        "- 3000 area , 3 bedrooms , 40 year old ? \n",
        "- 2500 sqr ft area, 4 bedrooms, 5 year old "
      ]
    },
    {
      "cell_type": "markdown",
      "metadata": {
        "id": "7OfrxIavNYSy"
      },
      "source": [
        "<img src=\"https://i.ibb.co/wRWW2DK/rumus.jpg\" width=\"650\" align=\"center\">\n"
      ]
    },
    {
      "cell_type": "markdown",
      "metadata": {
        "id": "CtholztTx1Cr"
      },
      "source": [
        "### Jawaban"
      ]
    },
    {
      "cell_type": "code",
      "metadata": {
        "id": "TsjVr1-HNXl9"
      },
      "source": [
        "import pandas as pd\n",
        "import numpy as np\n",
        "from sklearn import linear_model"
      ],
      "execution_count": null,
      "outputs": []
    },
    {
      "cell_type": "code",
      "metadata": {
        "colab": {
          "base_uri": "https://localhost:8080/",
          "height": 237
        },
        "id": "y75iKIQnO9R0",
        "outputId": "681bf670-306b-4b8a-ecf3-b180a8068405"
      },
      "source": [
        "url = \"https://raw.githubusercontent.com/iketutg/my_example_ds/main/data/hargarumah.csv\"\n",
        "df = pd.read_csv(url) \n",
        "df "
      ],
      "execution_count": null,
      "outputs": [
        {
          "output_type": "execute_result",
          "data": {
            "text/html": [
              "<div>\n",
              "<style scoped>\n",
              "    .dataframe tbody tr th:only-of-type {\n",
              "        vertical-align: middle;\n",
              "    }\n",
              "\n",
              "    .dataframe tbody tr th {\n",
              "        vertical-align: top;\n",
              "    }\n",
              "\n",
              "    .dataframe thead th {\n",
              "        text-align: right;\n",
              "    }\n",
              "</style>\n",
              "<table border=\"1\" class=\"dataframe\">\n",
              "  <thead>\n",
              "    <tr style=\"text-align: right;\">\n",
              "      <th></th>\n",
              "      <th>area</th>\n",
              "      <th>bedrooms</th>\n",
              "      <th>age</th>\n",
              "      <th>price</th>\n",
              "    </tr>\n",
              "  </thead>\n",
              "  <tbody>\n",
              "    <tr>\n",
              "      <th>0</th>\n",
              "      <td>2600</td>\n",
              "      <td>3.0</td>\n",
              "      <td>20</td>\n",
              "      <td>550000</td>\n",
              "    </tr>\n",
              "    <tr>\n",
              "      <th>1</th>\n",
              "      <td>3000</td>\n",
              "      <td>4.0</td>\n",
              "      <td>15</td>\n",
              "      <td>565000</td>\n",
              "    </tr>\n",
              "    <tr>\n",
              "      <th>2</th>\n",
              "      <td>3200</td>\n",
              "      <td>NaN</td>\n",
              "      <td>18</td>\n",
              "      <td>610000</td>\n",
              "    </tr>\n",
              "    <tr>\n",
              "      <th>3</th>\n",
              "      <td>3600</td>\n",
              "      <td>3.0</td>\n",
              "      <td>30</td>\n",
              "      <td>595000</td>\n",
              "    </tr>\n",
              "    <tr>\n",
              "      <th>4</th>\n",
              "      <td>4000</td>\n",
              "      <td>5.0</td>\n",
              "      <td>8</td>\n",
              "      <td>760000</td>\n",
              "    </tr>\n",
              "    <tr>\n",
              "      <th>5</th>\n",
              "      <td>4100</td>\n",
              "      <td>6.0</td>\n",
              "      <td>8</td>\n",
              "      <td>810000</td>\n",
              "    </tr>\n",
              "  </tbody>\n",
              "</table>\n",
              "</div>"
            ],
            "text/plain": [
              "   area  bedrooms  age   price\n",
              "0  2600       3.0   20  550000\n",
              "1  3000       4.0   15  565000\n",
              "2  3200       NaN   18  610000\n",
              "3  3600       3.0   30  595000\n",
              "4  4000       5.0    8  760000\n",
              "5  4100       6.0    8  810000"
            ]
          },
          "metadata": {},
          "execution_count": 87
        }
      ]
    },
    {
      "cell_type": "markdown",
      "metadata": {
        "id": "55Y0qo1UPL4g"
      },
      "source": [
        "Data Preprocessing: Fill NA values with median value of a column\n",
        "\n"
      ]
    },
    {
      "cell_type": "code",
      "metadata": {
        "colab": {
          "base_uri": "https://localhost:8080/"
        },
        "id": "vBMIYJpfPHbH",
        "outputId": "6dfe4b69-5681-480e-9332-80213c7ae40a"
      },
      "source": [
        "df.bedrooms.median()"
      ],
      "execution_count": null,
      "outputs": [
        {
          "output_type": "execute_result",
          "data": {
            "text/plain": [
              "4.0"
            ]
          },
          "metadata": {},
          "execution_count": 88
        }
      ]
    },
    {
      "cell_type": "code",
      "metadata": {
        "colab": {
          "base_uri": "https://localhost:8080/",
          "height": 237
        },
        "id": "FJV1EZbSPOb6",
        "outputId": "7414ea2a-c4d4-4ee2-8dc8-291647228c3f"
      },
      "source": [
        "df.bedrooms = df.bedrooms.fillna(df.bedrooms.median())\n",
        "df"
      ],
      "execution_count": null,
      "outputs": [
        {
          "output_type": "execute_result",
          "data": {
            "text/html": [
              "<div>\n",
              "<style scoped>\n",
              "    .dataframe tbody tr th:only-of-type {\n",
              "        vertical-align: middle;\n",
              "    }\n",
              "\n",
              "    .dataframe tbody tr th {\n",
              "        vertical-align: top;\n",
              "    }\n",
              "\n",
              "    .dataframe thead th {\n",
              "        text-align: right;\n",
              "    }\n",
              "</style>\n",
              "<table border=\"1\" class=\"dataframe\">\n",
              "  <thead>\n",
              "    <tr style=\"text-align: right;\">\n",
              "      <th></th>\n",
              "      <th>area</th>\n",
              "      <th>bedrooms</th>\n",
              "      <th>age</th>\n",
              "      <th>price</th>\n",
              "    </tr>\n",
              "  </thead>\n",
              "  <tbody>\n",
              "    <tr>\n",
              "      <th>0</th>\n",
              "      <td>2600</td>\n",
              "      <td>3.0</td>\n",
              "      <td>20</td>\n",
              "      <td>550000</td>\n",
              "    </tr>\n",
              "    <tr>\n",
              "      <th>1</th>\n",
              "      <td>3000</td>\n",
              "      <td>4.0</td>\n",
              "      <td>15</td>\n",
              "      <td>565000</td>\n",
              "    </tr>\n",
              "    <tr>\n",
              "      <th>2</th>\n",
              "      <td>3200</td>\n",
              "      <td>4.0</td>\n",
              "      <td>18</td>\n",
              "      <td>610000</td>\n",
              "    </tr>\n",
              "    <tr>\n",
              "      <th>3</th>\n",
              "      <td>3600</td>\n",
              "      <td>3.0</td>\n",
              "      <td>30</td>\n",
              "      <td>595000</td>\n",
              "    </tr>\n",
              "    <tr>\n",
              "      <th>4</th>\n",
              "      <td>4000</td>\n",
              "      <td>5.0</td>\n",
              "      <td>8</td>\n",
              "      <td>760000</td>\n",
              "    </tr>\n",
              "    <tr>\n",
              "      <th>5</th>\n",
              "      <td>4100</td>\n",
              "      <td>6.0</td>\n",
              "      <td>8</td>\n",
              "      <td>810000</td>\n",
              "    </tr>\n",
              "  </tbody>\n",
              "</table>\n",
              "</div>"
            ],
            "text/plain": [
              "   area  bedrooms  age   price\n",
              "0  2600       3.0   20  550000\n",
              "1  3000       4.0   15  565000\n",
              "2  3200       4.0   18  610000\n",
              "3  3600       3.0   30  595000\n",
              "4  4000       5.0    8  760000\n",
              "5  4100       6.0    8  810000"
            ]
          },
          "metadata": {},
          "execution_count": 89
        }
      ]
    },
    {
      "cell_type": "code",
      "metadata": {
        "colab": {
          "base_uri": "https://localhost:8080/"
        },
        "id": "6ElLJHGsPZUI",
        "outputId": "2b6e385d-5fe7-43f5-ed12-0890e6f1818a"
      },
      "source": [
        "reg = linear_model.LinearRegression()\n",
        "x = df.drop('price',axis='columns')\n",
        "y = df.price\n",
        "reg.fit(x,y)\n"
      ],
      "execution_count": null,
      "outputs": [
        {
          "output_type": "execute_result",
          "data": {
            "text/plain": [
              "LinearRegression(copy_X=True, fit_intercept=True, n_jobs=None, normalize=False)"
            ]
          },
          "metadata": {},
          "execution_count": 93
        }
      ]
    },
    {
      "cell_type": "code",
      "metadata": {
        "colab": {
          "base_uri": "https://localhost:8080/"
        },
        "id": "8wEPaOyHPio2",
        "outputId": "7aa999b4-120f-4391-cc3f-0f278967b5b4"
      },
      "source": [
        "reg.coef_"
      ],
      "execution_count": null,
      "outputs": [
        {
          "output_type": "execute_result",
          "data": {
            "text/plain": [
              "array([  112.06244194, 23388.88007794, -3231.71790863])"
            ]
          },
          "metadata": {},
          "execution_count": 94
        }
      ]
    },
    {
      "cell_type": "code",
      "metadata": {
        "colab": {
          "base_uri": "https://localhost:8080/"
        },
        "id": "YVXoLz_1PlfG",
        "outputId": "3ef608be-f992-4666-f065-1c356f5944d1"
      },
      "source": [
        "reg.intercept_\n"
      ],
      "execution_count": null,
      "outputs": [
        {
          "output_type": "execute_result",
          "data": {
            "text/plain": [
              "221323.00186540396"
            ]
          },
          "metadata": {},
          "execution_count": 95
        }
      ]
    },
    {
      "cell_type": "markdown",
      "metadata": {
        "id": "n2fSkdoIP9Zd"
      },
      "source": [
        "**Mencari rumah dengan 3000 sqr ft area, 3 bedrooms , 40 year old ? .**\n",
        "\n"
      ]
    },
    {
      "cell_type": "code",
      "metadata": {
        "colab": {
          "base_uri": "https://localhost:8080/"
        },
        "id": "Ds4KU-AZQbY6",
        "outputId": "871a0ba0-79bb-469e-c67c-4bc96caf6fb4"
      },
      "source": [
        "area = 3000 \n",
        "bedroom = 3 \n",
        "age = 40 \n",
        "reg.predict([[area, bedroom, age]])\n"
      ],
      "execution_count": null,
      "outputs": [
        {
          "output_type": "execute_result",
          "data": {
            "text/plain": [
              "array([498408.25158031])"
            ]
          },
          "metadata": {},
          "execution_count": 104
        }
      ]
    },
    {
      "cell_type": "markdown",
      "metadata": {
        "id": "26nfaFUYQp73"
      },
      "source": [
        "<img src=\"https://i.ibb.co/wRWW2DK/rumus.jpg\" width=\"650\" align=\"center\">"
      ]
    },
    {
      "cell_type": "code",
      "metadata": {
        "colab": {
          "base_uri": "https://localhost:8080/"
        },
        "collapsed": true,
        "id": "l5V3zO-hQqXN",
        "outputId": "790ae067-4112-4184-a063-03e6932698cd"
      },
      "source": [
        "reg.coef_"
      ],
      "execution_count": null,
      "outputs": [
        {
          "output_type": "execute_result",
          "data": {
            "text/plain": [
              "array([  112.06244194, 23388.88007794, -3231.71790863])"
            ]
          },
          "metadata": {},
          "execution_count": 101
        }
      ]
    },
    {
      "cell_type": "code",
      "metadata": {
        "colab": {
          "base_uri": "https://localhost:8080/"
        },
        "collapsed": true,
        "id": "8b4S9yieQ0lZ",
        "outputId": "9d2435dd-1f58-4848-caa5-5ea10c72e0ba"
      },
      "source": [
        "m1 = reg.coef_[0]\n",
        "m2 = reg.coef_[1] \n",
        "m3 = reg.coef_[2] \n",
        "\n",
        "price = m1 * area + m2 * bedroom + m3 * age  + reg.intercept_\n",
        "print(price)"
      ],
      "execution_count": null,
      "outputs": [
        {
          "output_type": "stream",
          "name": "stdout",
          "text": [
            "498408.2515803067\n"
          ]
        }
      ]
    },
    {
      "cell_type": "code",
      "metadata": {
        "id": "pPOtctUPRyMy"
      },
      "source": [
        ""
      ],
      "execution_count": null,
      "outputs": []
    }
  ]
}