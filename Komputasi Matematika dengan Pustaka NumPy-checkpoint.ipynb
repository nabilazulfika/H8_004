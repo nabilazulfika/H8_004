{
 "cells": [
  {
   "cell_type": "markdown",
   "id": "74861281",
   "metadata": {},
   "source": [
    "# NumPy Workshop"
   ]
  },
  {
   "cell_type": "code",
   "execution_count": 1,
   "id": "198207ea",
   "metadata": {},
   "outputs": [
    {
     "data": {
      "text/plain": [
       "'1.20.3'"
      ]
     },
     "execution_count": 1,
     "metadata": {},
     "output_type": "execute_result"
    }
   ],
   "source": [
    "import numpy as np\n",
    "np.__version__"
   ]
  },
  {
   "cell_type": "markdown",
   "id": "397d3a34",
   "metadata": {},
   "source": [
    "## Python List"
   ]
  },
  {
   "cell_type": "code",
   "execution_count": 2,
   "id": "5d592723",
   "metadata": {},
   "outputs": [],
   "source": [
    "gpas_as_list = [4.0, 3.2, 3.5]"
   ]
  },
  {
   "cell_type": "code",
   "execution_count": 3,
   "id": "ec4dc1a2",
   "metadata": {},
   "outputs": [
    {
     "data": {
      "text/plain": [
       "[4.0, 3.2, 3.5, 4.0]"
      ]
     },
     "execution_count": 3,
     "metadata": {},
     "output_type": "execute_result"
    }
   ],
   "source": [
    "gpas_as_list.append(4.0)\n",
    "gpas_as_list"
   ]
  },
  {
   "cell_type": "code",
   "execution_count": 4,
   "id": "f04d7526",
   "metadata": {},
   "outputs": [
    {
     "data": {
      "text/plain": [
       "[4.0, 'belum ada', 3.2, 3.5, 4.0]"
      ]
     },
     "execution_count": 4,
     "metadata": {},
     "output_type": "execute_result"
    }
   ],
   "source": [
    "gpas_as_list.insert(1, \"belum ada\")\n",
    "gpas_as_list"
   ]
  },
  {
   "cell_type": "code",
   "execution_count": 5,
   "id": "036457aa",
   "metadata": {},
   "outputs": [
    {
     "data": {
      "text/plain": [
       "'belum ada'"
      ]
     },
     "execution_count": 5,
     "metadata": {},
     "output_type": "execute_result"
    }
   ],
   "source": [
    "gpas_as_list.pop(1)"
   ]
  },
  {
   "cell_type": "code",
   "execution_count": 6,
   "id": "4be12211",
   "metadata": {},
   "outputs": [
    {
     "data": {
      "text/plain": [
       "[4.0, 3.2, 3.5, 4.0]"
      ]
     },
     "execution_count": 6,
     "metadata": {},
     "output_type": "execute_result"
    }
   ],
   "source": [
    "gpas_as_list"
   ]
  },
  {
   "cell_type": "markdown",
   "id": "6a95cc8c",
   "metadata": {},
   "source": [
    "## NumPy Array"
   ]
  },
  {
   "cell_type": "code",
   "execution_count": 7,
   "id": "53de2164",
   "metadata": {},
   "outputs": [],
   "source": [
    "gpas = np.array(gpas_as_list)"
   ]
  },
  {
   "cell_type": "code",
   "execution_count": 8,
   "id": "61175051",
   "metadata": {},
   "outputs": [
    {
     "data": {
      "text/plain": [
       "dtype('float64')"
      ]
     },
     "execution_count": 8,
     "metadata": {},
     "output_type": "execute_result"
    }
   ],
   "source": [
    "gpas.dtype"
   ]
  },
  {
   "cell_type": "code",
   "execution_count": 9,
   "id": "5e349704",
   "metadata": {},
   "outputs": [
    {
     "data": {
      "text/plain": [
       "4"
      ]
     },
     "execution_count": 9,
     "metadata": {},
     "output_type": "execute_result"
    }
   ],
   "source": [
    "gpas.size"
   ]
  },
  {
   "cell_type": "markdown",
   "id": "1f1338b4",
   "metadata": {},
   "source": [
    "## Study Log"
   ]
  },
  {
   "cell_type": "code",
   "execution_count": 15,
   "id": "3c4f843c",
   "metadata": {},
   "outputs": [],
   "source": [
    "study_minutes = np.zeros(100, np.uint16)"
   ]
  },
  {
   "cell_type": "code",
   "execution_count": 16,
   "id": "2975ede0",
   "metadata": {},
   "outputs": [
    {
     "data": {
      "text/plain": [
       "array([0, 0, 0, 0, 0, 0, 0, 0, 0, 0, 0, 0, 0, 0, 0, 0, 0, 0, 0, 0, 0, 0,\n",
       "       0, 0, 0, 0, 0, 0, 0, 0, 0, 0, 0, 0, 0, 0, 0, 0, 0, 0, 0, 0, 0, 0,\n",
       "       0, 0, 0, 0, 0, 0, 0, 0, 0, 0, 0, 0, 0, 0, 0, 0, 0, 0, 0, 0, 0, 0,\n",
       "       0, 0, 0, 0, 0, 0, 0, 0, 0, 0, 0, 0, 0, 0, 0, 0, 0, 0, 0, 0, 0, 0,\n",
       "       0, 0, 0, 0, 0, 0, 0, 0, 0, 0, 0, 0], dtype=uint16)"
      ]
     },
     "execution_count": 16,
     "metadata": {},
     "output_type": "execute_result"
    }
   ],
   "source": [
    "study_minutes"
   ]
  },
  {
   "cell_type": "code",
   "execution_count": 17,
   "id": "6910fe02",
   "metadata": {},
   "outputs": [
    {
     "name": "stdout",
     "output_type": "stream",
     "text": [
      "Variable        Type       Data/Info\n",
      "------------------------------------\n",
      "autopep8        module     <module 'autopep8' from '<...>e-packages\\\\autopep8.py'>\n",
      "gpas            ndarray    4: 4 elems, type `float64`, 32 bytes\n",
      "gpas_as_list    list       n=4\n",
      "json            module     <module 'json' from 'C:\\\\<...>\\lib\\\\json\\\\__init__.py'>\n",
      "np              module     <module 'numpy' from 'C:\\<...>ges\\\\numpy\\\\__init__.py'>\n",
      "study_minutes   ndarray    100: 100 elems, type `uint16`, 200 bytes\n"
     ]
    }
   ],
   "source": [
    "%whos"
   ]
  },
  {
   "cell_type": "markdown",
   "id": "9b0ad686",
   "metadata": {},
   "source": [
    "## Array Multidimensi"
   ]
  },
  {
   "cell_type": "code",
   "execution_count": 19,
   "id": "7b02e0c2",
   "metadata": {},
   "outputs": [
    {
     "data": {
      "text/plain": [
       "array([[4.  , 3.3 , 3.5 , 4.  ],\n",
       "       [3.96, 3.92, 4.  , 4.  ],\n",
       "       [3.2 , 3.8 , 4.  , 4.  ]], dtype=float16)"
      ]
     },
     "execution_count": 19,
     "metadata": {},
     "output_type": "execute_result"
    }
   ],
   "source": [
    "students_gpas = np.array([\n",
    "    [4.0, 3.3, 3.5, 4.0],\n",
    "    [3.96, 3.92, 4.0, 4.0],\n",
    "    [3.2, 3.8, 4.0, 4.0]\n",
    "], np.float16)\n",
    "students_gpas"
   ]
  },
  {
   "cell_type": "code",
   "execution_count": 20,
   "id": "f0e799d6",
   "metadata": {},
   "outputs": [
    {
     "data": {
      "text/plain": [
       "2"
      ]
     },
     "execution_count": 20,
     "metadata": {},
     "output_type": "execute_result"
    }
   ],
   "source": [
    "students_gpas.ndim"
   ]
  },
  {
   "cell_type": "code",
   "execution_count": 22,
   "id": "b6c29842",
   "metadata": {},
   "outputs": [
    {
     "data": {
      "text/plain": [
       "(3, 4)"
      ]
     },
     "execution_count": 22,
     "metadata": {},
     "output_type": "execute_result"
    }
   ],
   "source": [
    "students_gpas.shape #3 student 4 elemen"
   ]
  },
  {
   "cell_type": "code",
   "execution_count": 23,
   "id": "14804900",
   "metadata": {},
   "outputs": [
    {
     "data": {
      "text/plain": [
       "array([3.2, 3.8, 4. , 4. ], dtype=float16)"
      ]
     },
     "execution_count": 23,
     "metadata": {},
     "output_type": "execute_result"
    }
   ],
   "source": [
    "students_gpas[2]"
   ]
  },
  {
   "cell_type": "code",
   "execution_count": 24,
   "id": "4e6a552e",
   "metadata": {},
   "outputs": [
    {
     "data": {
      "text/plain": [
       "4.0"
      ]
     },
     "execution_count": 24,
     "metadata": {},
     "output_type": "execute_result"
    }
   ],
   "source": [
    "students_gpas[2][3]"
   ]
  },
  {
   "cell_type": "markdown",
   "id": "4b4bd679",
   "metadata": {},
   "source": [
    "## Study Log MultiDimensi"
   ]
  },
  {
   "cell_type": "code",
   "execution_count": 25,
   "id": "f6694f7c",
   "metadata": {},
   "outputs": [
    {
     "data": {
      "text/plain": [
       "(2, 100)"
      ]
     },
     "execution_count": 25,
     "metadata": {},
     "output_type": "execute_result"
    }
   ],
   "source": [
    "study_minutes = np.array([\n",
    "    study_minutes,\n",
    "    np.zeros(100, np.uint16)\n",
    "])\n",
    "study_minutes.shape"
   ]
  },
  {
   "cell_type": "code",
   "execution_count": 26,
   "id": "a17b5063",
   "metadata": {},
   "outputs": [
    {
     "data": {
      "text/plain": [
       "array([[ 0,  0,  0,  0,  0,  0,  0,  0,  0,  0,  0,  0,  0,  0,  0,  0,\n",
       "         0,  0,  0,  0,  0,  0,  0,  0,  0,  0,  0,  0,  0,  0,  0,  0,\n",
       "         0,  0,  0,  0,  0,  0,  0,  0,  0,  0,  0,  0,  0,  0,  0,  0,\n",
       "         0,  0,  0,  0,  0,  0,  0,  0,  0,  0,  0,  0,  0,  0,  0,  0,\n",
       "         0,  0,  0,  0,  0,  0,  0,  0,  0,  0,  0,  0,  0,  0,  0,  0,\n",
       "         0,  0,  0,  0,  0,  0,  0,  0,  0,  0,  0,  0,  0,  0,  0,  0,\n",
       "         0,  0,  0,  0],\n",
       "       [60,  0,  0,  0,  0,  0,  0,  0,  0,  0,  0,  0,  0,  0,  0,  0,\n",
       "         0,  0,  0,  0,  0,  0,  0,  0,  0,  0,  0,  0,  0,  0,  0,  0,\n",
       "         0,  0,  0,  0,  0,  0,  0,  0,  0,  0,  0,  0,  0,  0,  0,  0,\n",
       "         0,  0,  0,  0,  0,  0,  0,  0,  0,  0,  0,  0,  0,  0,  0,  0,\n",
       "         0,  0,  0,  0,  0,  0,  0,  0,  0,  0,  0,  0,  0,  0,  0,  0,\n",
       "         0,  0,  0,  0,  0,  0,  0,  0,  0,  0,  0,  0,  0,  0,  0,  0,\n",
       "         0,  0,  0,  0]], dtype=uint16)"
      ]
     },
     "execution_count": 26,
     "metadata": {},
     "output_type": "execute_result"
    }
   ],
   "source": [
    "study_minutes[1][0] = 60\n",
    "study_minutes"
   ]
  },
  {
   "cell_type": "code",
   "execution_count": 27,
   "id": "3ace1528",
   "metadata": {},
   "outputs": [
    {
     "data": {
      "text/plain": [
       "array([132, 122, 128,  44, 136, 129, 101,  95,  50, 132, 151,  64, 104,\n",
       "       175, 117, 146, 139, 129, 133, 176,  98, 160, 179,  99,  82, 142,\n",
       "        31, 106, 117,  56,  98,  67, 121, 159,  81, 170,  31,  50,  49,\n",
       "        87, 179,  51, 116, 177, 118,  78, 171, 117,  88, 123, 102,  44,\n",
       "        79,  31, 108,  80,  59, 137,  84,  93, 155, 160,  67,  80, 166,\n",
       "       164,  70,  50, 102, 113,  47, 131, 161, 118,  82,  89,  81,  43,\n",
       "        81,  38, 119,  52,  82,  31, 159,  57, 113,  71, 121, 140,  91,\n",
       "        70,  37, 106,  64, 127, 110,  58,  93,  79], dtype=uint16)"
      ]
     },
     "execution_count": 27,
     "metadata": {},
     "output_type": "execute_result"
    }
   ],
   "source": [
    "rand = np.random.RandomState(42)\n",
    "fake_log = rand.randint(30, 180, size = 100, dtype=np.uint16)\n",
    "fake_log"
   ]
  },
  {
   "cell_type": "code",
   "execution_count": 30,
   "id": "7e5a9a10",
   "metadata": {},
   "outputs": [
    {
     "data": {
      "text/plain": [
       "[44, 50]"
      ]
     },
     "execution_count": 30,
     "metadata": {},
     "output_type": "execute_result"
    }
   ],
   "source": [
    "[fake_log[3], fake_log[8]] #list"
   ]
  },
  {
   "cell_type": "code",
   "execution_count": 31,
   "id": "32b3b254",
   "metadata": {},
   "outputs": [
    {
     "data": {
      "text/plain": [
       "array([44, 50], dtype=uint16)"
      ]
     },
     "execution_count": 31,
     "metadata": {},
     "output_type": "execute_result"
    }
   ],
   "source": [
    "fake_log[[3, 8]] #array"
   ]
  },
  {
   "cell_type": "code",
   "execution_count": 32,
   "id": "344d908e",
   "metadata": {},
   "outputs": [
    {
     "data": {
      "text/plain": [
       "array([[ 44,  50],\n",
       "       [122, 128]], dtype=uint16)"
      ]
     },
     "execution_count": 32,
     "metadata": {},
     "output_type": "execute_result"
    }
   ],
   "source": [
    "index = np.array([\n",
    "    [3, 8],\n",
    "    [1, 2]\n",
    "])\n",
    "fake_log[index]"
   ]
  },
  {
   "cell_type": "code",
   "execution_count": 33,
   "id": "1a591fbf",
   "metadata": {},
   "outputs": [
    {
     "data": {
      "text/plain": [
       "array([  0,   0,   0,   0,   0,   0,   0,   0,   0,   0,   0,   0,   0,\n",
       "         0,   0,   0,   0,   0,   0,   0,   0,   0,   0,   0,   0,   0,\n",
       "         0,   0,   0,   0,   0,   0,   0,   0,   0,   0,   0,   0,   0,\n",
       "         0,   0,   0,   0,   0,   0,   0,   0,   0,   0,   0,   0,   0,\n",
       "         0,   0,   0,   0,   0,   0,   0,   0,   0,   0,   0,   0,   0,\n",
       "         0,   0,   0,   0,   0,   0,   0,   0,   0,   0,   0,   0,   0,\n",
       "         0,   0,   0,   0,   0,   0,   0,   0,   0,   0,   0,   0,   0,\n",
       "         0,   0,   0,   0,   0,   0,   0,   0,   0,  60,   0,   0,   0,\n",
       "         0,   0,   0,   0,   0,   0,   0,   0,   0,   0,   0,   0,   0,\n",
       "         0,   0,   0,   0,   0,   0,   0,   0,   0,   0,   0,   0,   0,\n",
       "         0,   0,   0,   0,   0,   0,   0,   0,   0,   0,   0,   0,   0,\n",
       "         0,   0,   0,   0,   0,   0,   0,   0,   0,   0,   0,   0,   0,\n",
       "         0,   0,   0,   0,   0,   0,   0,   0,   0,   0,   0,   0,   0,\n",
       "         0,   0,   0,   0,   0,   0,   0,   0,   0,   0,   0,   0,   0,\n",
       "         0,   0,   0,   0,   0,   0,   0,   0,   0,   0,   0,   0,   0,\n",
       "         0,   0,   0,   0,   0, 132, 122, 128,  44, 136, 129, 101,  95,\n",
       "        50, 132, 151,  64, 104, 175, 117, 146, 139, 129, 133, 176,  98,\n",
       "       160, 179,  99,  82, 142,  31, 106, 117,  56,  98,  67, 121, 159,\n",
       "        81, 170,  31,  50,  49,  87, 179,  51, 116, 177, 118,  78, 171,\n",
       "       117,  88, 123, 102,  44,  79,  31, 108,  80,  59, 137,  84,  93,\n",
       "       155, 160,  67,  80, 166, 164,  70,  50, 102, 113,  47, 131, 161,\n",
       "       118,  82,  89,  81,  43,  81,  38, 119,  52,  82,  31, 159,  57,\n",
       "       113,  71, 121, 140,  91,  70,  37, 106,  64, 127, 110,  58,  93,\n",
       "        79], dtype=uint16)"
      ]
     },
     "execution_count": 33,
     "metadata": {},
     "output_type": "execute_result"
    }
   ],
   "source": [
    "study_minutes = np.append(study_minutes, [fake_log])\n",
    "study_minutes"
   ]
  },
  {
   "cell_type": "code",
   "execution_count": 34,
   "id": "40650b92",
   "metadata": {},
   "outputs": [
    {
     "data": {
      "text/plain": [
       "array([[ 0,  1,  2,  3,  4,  5],\n",
       "       [ 6,  7,  8,  9, 10, 11],\n",
       "       [12, 13, 14, 15, 16, 17],\n",
       "       [18, 19, 20, 21, 22, 23],\n",
       "       [24, 25, 26, 27, 28, 29],\n",
       "       [30, 31, 32, 33, 34, 35],\n",
       "       [36, 37, 38, 39, 40, 41]])"
      ]
     },
     "execution_count": 34,
     "metadata": {},
     "output_type": "execute_result"
    }
   ],
   "source": [
    "practice = np.arange(42)\n",
    "practice.shape = (7,6) #7 index 6 elemen\n",
    "practice"
   ]
  },
  {
   "cell_type": "code",
   "execution_count": 35,
   "id": "c6efcf28",
   "metadata": {},
   "outputs": [
    {
     "data": {
      "text/plain": [
       "13"
      ]
     },
     "execution_count": 35,
     "metadata": {},
     "output_type": "execute_result"
    }
   ],
   "source": [
    "practice[2, 1]"
   ]
  },
  {
   "cell_type": "code",
   "execution_count": 36,
   "id": "242a5a67",
   "metadata": {},
   "outputs": [
    {
     "data": {
      "text/plain": [
       "13"
      ]
     },
     "execution_count": 36,
     "metadata": {},
     "output_type": "execute_result"
    }
   ],
   "source": [
    "practice[2][1]"
   ]
  },
  {
   "cell_type": "code",
   "execution_count": 37,
   "id": "9f59fbe1",
   "metadata": {},
   "outputs": [
    {
     "data": {
      "text/plain": [
       "array([[12, 13, 14, 15, 16, 17],\n",
       "       [18, 19, 20, 21, 22, 23],\n",
       "       [24, 25, 26, 27, 28, 29]])"
      ]
     },
     "execution_count": 37,
     "metadata": {},
     "output_type": "execute_result"
    }
   ],
   "source": [
    "practice[2:5] #index 2-4"
   ]
  },
  {
   "cell_type": "code",
   "execution_count": 38,
   "id": "e9b3f83e",
   "metadata": {},
   "outputs": [
    {
     "data": {
      "text/plain": [
       "array([15, 21, 27])"
      ]
     },
     "execution_count": 38,
     "metadata": {},
     "output_type": "execute_result"
    }
   ],
   "source": [
    "practice[2:5, 3] #index 2-4 elemen ke 3 saja"
   ]
  },
  {
   "cell_type": "code",
   "execution_count": 39,
   "id": "aa7aed52",
   "metadata": {},
   "outputs": [
    {
     "data": {
      "text/plain": [
       "array([[15, 16, 17],\n",
       "       [21, 22, 23],\n",
       "       [27, 28, 29]])"
      ]
     },
     "execution_count": 39,
     "metadata": {},
     "output_type": "execute_result"
    }
   ],
   "source": [
    "practice[2:5, 3:] #index 2-4 elemen ke 3 sampai seterusnya"
   ]
  },
  {
   "cell_type": "code",
   "execution_count": 40,
   "id": "8458468d",
   "metadata": {},
   "outputs": [
    {
     "data": {
      "text/plain": [
       "([1, 2, 3], [1, 2, 3])"
      ]
     },
     "execution_count": 40,
     "metadata": {},
     "output_type": "execute_result"
    }
   ],
   "source": [
    "practice_list = [1, 2, 3]\n",
    "practice_list_copy = practice_list[:]\n",
    "practice_list, practice_list_copy"
   ]
  },
  {
   "cell_type": "code",
   "execution_count": 41,
   "id": "1ba15f59",
   "metadata": {},
   "outputs": [
    {
     "data": {
      "text/plain": [
       "([1, 2, 3], [12345, 2, 3])"
      ]
     },
     "execution_count": 41,
     "metadata": {},
     "output_type": "execute_result"
    }
   ],
   "source": [
    "practice_list_copy[0] = 12345\n",
    "practice_list, practice_list_copy"
   ]
  },
  {
   "cell_type": "code",
   "execution_count": 42,
   "id": "09a3a2b6",
   "metadata": {},
   "outputs": [
    {
     "data": {
      "text/plain": [
       "(array([[12345,     1,     2,     3,     4,     5],\n",
       "        [    6,     7,     8,     9,    10,    11],\n",
       "        [   12,    13,    14,    15,    16,    17],\n",
       "        [   18,    19,    20,    21,    22,    23],\n",
       "        [   24,    25,    26,    27,    28,    29],\n",
       "        [   30,    31,    32,    33,    34,    35],\n",
       "        [   36,    37,    38,    39,    40,    41]]),\n",
       " array([[12345,     1,     2,     3,     4,     5],\n",
       "        [    6,     7,     8,     9,    10,    11],\n",
       "        [   12,    13,    14,    15,    16,    17],\n",
       "        [   18,    19,    20,    21,    22,    23],\n",
       "        [   24,    25,    26,    27,    28,    29],\n",
       "        [   30,    31,    32,    33,    34,    35],\n",
       "        [   36,    37,    38,    39,    40,    41]]))"
      ]
     },
     "execution_count": 42,
     "metadata": {},
     "output_type": "execute_result"
    }
   ],
   "source": [
    "not_copied = practice[:]\n",
    "not_copied[0, 0] = 12345\n",
    "practice, not_copied"
   ]
  },
  {
   "cell_type": "code",
   "execution_count": 43,
   "id": "4438a629",
   "metadata": {},
   "outputs": [
    {
     "name": "stdout",
     "output_type": "stream",
     "text": [
      "None\n"
     ]
    }
   ],
   "source": [
    "print(practice.base)"
   ]
  },
  {
   "cell_type": "code",
   "execution_count": 44,
   "id": "881f52a7",
   "metadata": {},
   "outputs": [
    {
     "name": "stdout",
     "output_type": "stream",
     "text": [
      "[[12345     1     2     3     4     5]\n",
      " [    6     7     8     9    10    11]\n",
      " [   12    13    14    15    16    17]\n",
      " [   18    19    20    21    22    23]\n",
      " [   24    25    26    27    28    29]\n",
      " [   30    31    32    33    34    35]\n",
      " [   36    37    38    39    40    41]]\n"
     ]
    }
   ],
   "source": [
    "print(not_copied.base)"
   ]
  },
  {
   "cell_type": "code",
   "execution_count": 45,
   "id": "69d29eb8",
   "metadata": {},
   "outputs": [
    {
     "data": {
      "text/plain": [
       "True"
      ]
     },
     "execution_count": 45,
     "metadata": {},
     "output_type": "execute_result"
    }
   ],
   "source": [
    "not_copied.base is practice"
   ]
  },
  {
   "cell_type": "code",
   "execution_count": 46,
   "id": "7574661e",
   "metadata": {},
   "outputs": [
    {
     "data": {
      "text/plain": [
       "False"
      ]
     },
     "execution_count": 46,
     "metadata": {},
     "output_type": "execute_result"
    }
   ],
   "source": [
    "not_copied.base is practice_list"
   ]
  },
  {
   "cell_type": "markdown",
   "id": "5c32fe91",
   "metadata": {},
   "source": [
    "## Aljabar Linear"
   ]
  },
  {
   "cell_type": "code",
   "execution_count": 48,
   "id": "ee99c0f3",
   "metadata": {},
   "outputs": [
    {
     "data": {
      "text/plain": [
       "array([10000.,  2500.,  5000.,  3000.])"
      ]
     },
     "execution_count": 48,
     "metadata": {},
     "output_type": "execute_result"
    }
   ],
   "source": [
    "orders = np.array([\n",
    "    [2, 0, 0, 0],\n",
    "    [1, 0, 2, 4],\n",
    "    [1, 2, 1, 0],\n",
    "    [4, 6, 0, 2]\n",
    "]) #nasi gorengan kopi lontong\n",
    "totals = np.array([20000, 32000, 20000, 61000])\n",
    "prices = np.linalg.solve(orders, totals)\n",
    "prices"
   ]
  },
  {
   "cell_type": "code",
   "execution_count": 49,
   "id": "65f0e952",
   "metadata": {},
   "outputs": [
    {
     "data": {
      "text/plain": [
       "array([20000., 32000., 20000., 61000.])"
      ]
     },
     "execution_count": 49,
     "metadata": {},
     "output_type": "execute_result"
    }
   ],
   "source": [
    "orders @ prices #perkalian matriks untuk mencari totals"
   ]
  },
  {
   "cell_type": "markdown",
   "id": "fb6fff4e",
   "metadata": {},
   "source": [
    "## Fungsi Universal"
   ]
  },
  {
   "cell_type": "code",
   "execution_count": 50,
   "id": "b80487ed",
   "metadata": {},
   "outputs": [
    {
     "data": {
      "text/plain": [
       "(array([1, 2, 3, 4, 5]), array([ 6,  7,  8,  9, 10]))"
      ]
     },
     "execution_count": 50,
     "metadata": {},
     "output_type": "execute_result"
    }
   ],
   "source": [
    "a, b = np.split(np.arange(1, 11), 2)\n",
    "a, b"
   ]
  },
  {
   "cell_type": "code",
   "execution_count": 51,
   "id": "925f8c59",
   "metadata": {},
   "outputs": [
    {
     "data": {
      "text/plain": [
       "array([ 7,  9, 11, 13, 15])"
      ]
     },
     "execution_count": 51,
     "metadata": {},
     "output_type": "execute_result"
    }
   ],
   "source": [
    "a + b"
   ]
  },
  {
   "cell_type": "code",
   "execution_count": 52,
   "id": "b7801ed4",
   "metadata": {},
   "outputs": [
    {
     "data": {
      "text/plain": [
       "array([ 6, 14, 24, 36, 50])"
      ]
     },
     "execution_count": 52,
     "metadata": {},
     "output_type": "execute_result"
    }
   ],
   "source": [
    "a * b"
   ]
  },
  {
   "cell_type": "code",
   "execution_count": 53,
   "id": "d3d0a5b8",
   "metadata": {},
   "outputs": [
    {
     "data": {
      "text/plain": [
       "array([-5, -5, -5, -5, -5])"
      ]
     },
     "execution_count": 53,
     "metadata": {},
     "output_type": "execute_result"
    }
   ],
   "source": [
    "a - b"
   ]
  },
  {
   "cell_type": "code",
   "execution_count": 54,
   "id": "906e7a2e",
   "metadata": {},
   "outputs": [
    {
     "data": {
      "text/plain": [
       "array([1, 2, 3, 4, 5])"
      ]
     },
     "execution_count": 54,
     "metadata": {},
     "output_type": "execute_result"
    }
   ],
   "source": [
    "a"
   ]
  },
  {
   "cell_type": "code",
   "execution_count": 55,
   "id": "1ecec0bc",
   "metadata": {},
   "outputs": [
    {
     "data": {
      "text/plain": [
       "array([5, 5, 5, 5, 5])"
      ]
     },
     "execution_count": 55,
     "metadata": {},
     "output_type": "execute_result"
    }
   ],
   "source": [
    "b - a"
   ]
  },
  {
   "cell_type": "code",
   "execution_count": 56,
   "id": "bb8b8001",
   "metadata": {},
   "outputs": [
    {
     "data": {
      "text/plain": [
       "array([4, 5, 6, 7, 8])"
      ]
     },
     "execution_count": 56,
     "metadata": {},
     "output_type": "execute_result"
    }
   ],
   "source": [
    "a + 3"
   ]
  },
  {
   "cell_type": "code",
   "execution_count": 58,
   "id": "eb268e4d",
   "metadata": {},
   "outputs": [
    {
     "data": {
      "text/plain": [
       "array([4, 5, 6, 7, 8])"
      ]
     },
     "execution_count": 58,
     "metadata": {},
     "output_type": "execute_result"
    }
   ],
   "source": [
    "a + np.repeat(3, 5) #merepeat sebanyak jumlah elemen dan ditambahkan 3"
   ]
  },
  {
   "cell_type": "code",
   "execution_count": 59,
   "id": "a864324e",
   "metadata": {},
   "outputs": [
    {
     "data": {
      "text/plain": [
       "(array([[0., 1., 2.],\n",
       "        [3., 4., 5.],\n",
       "        [6., 7., 8.]]),\n",
       " array([0., 1., 2.]))"
      ]
     },
     "execution_count": 59,
     "metadata": {},
     "output_type": "execute_result"
    }
   ],
   "source": [
    "x1 = np.arange(9.0).reshape((3, 3))\n",
    "x2 = np.arange(3.0)\n",
    "x1, x2"
   ]
  },
  {
   "cell_type": "code",
   "execution_count": 60,
   "id": "8e82d564",
   "metadata": {},
   "outputs": [
    {
     "data": {
      "text/plain": [
       "array([[ 0.,  2.,  4.],\n",
       "       [ 3.,  5.,  7.],\n",
       "       [ 6.,  8., 10.]])"
      ]
     },
     "execution_count": 60,
     "metadata": {},
     "output_type": "execute_result"
    }
   ],
   "source": [
    "np.add(x1, x2)"
   ]
  },
  {
   "cell_type": "code",
   "execution_count": 61,
   "id": "66e46044",
   "metadata": {},
   "outputs": [
    {
     "data": {
      "text/plain": [
       "array([[ 2.,  3.,  4.],\n",
       "       [ 5.,  6.,  7.],\n",
       "       [ 8.,  9., 10.]])"
      ]
     },
     "execution_count": 61,
     "metadata": {},
     "output_type": "execute_result"
    }
   ],
   "source": [
    "np.add(x1, 2)"
   ]
  },
  {
   "cell_type": "markdown",
   "id": "d8cd72f0",
   "metadata": {},
   "source": [
    "## Operasi Matriks Lainnya"
   ]
  },
  {
   "cell_type": "code",
   "execution_count": 66,
   "id": "7e6779d6",
   "metadata": {},
   "outputs": [
    {
     "data": {
      "text/plain": [
       "array([44, 50, 31, 56, 31, 50, 49, 51, 44, 31, 59, 50, 47, 43, 38, 52, 31,\n",
       "       57, 37, 58], dtype=uint16)"
      ]
     },
     "execution_count": 66,
     "metadata": {},
     "output_type": "execute_result"
    }
   ],
   "source": [
    "study_less = study_minutes[(study_minutes<60)&(study_minutes>0)]\n",
    "study_less"
   ]
  },
  {
   "cell_type": "code",
   "execution_count": 68,
   "id": "ab3d7174",
   "metadata": {},
   "outputs": [
    {
     "data": {
      "text/plain": [
       "909"
      ]
     },
     "execution_count": 68,
     "metadata": {},
     "output_type": "execute_result"
    }
   ],
   "source": [
    "np.add.reduce(study_less)"
   ]
  },
  {
   "cell_type": "code",
   "execution_count": 69,
   "id": "6ff7ad5d",
   "metadata": {},
   "outputs": [
    {
     "name": "stdout",
     "output_type": "stream",
     "text": [
      "[44 50 31 56 31 50 49 51 44 31 59 50 47 43 38 52 31 57 37 58]\n"
     ]
    }
   ],
   "source": [
    "print(study_less)"
   ]
  },
  {
   "cell_type": "code",
   "execution_count": 70,
   "id": "ef515801",
   "metadata": {},
   "outputs": [
    {
     "data": {
      "text/plain": [
       "909"
      ]
     },
     "execution_count": 70,
     "metadata": {},
     "output_type": "execute_result"
    }
   ],
   "source": [
    "np.sum(study_less)"
   ]
  },
  {
   "cell_type": "code",
   "execution_count": 71,
   "id": "67674031",
   "metadata": {},
   "outputs": [
    {
     "data": {
      "text/plain": [
       "10259"
      ]
     },
     "execution_count": 71,
     "metadata": {},
     "output_type": "execute_result"
    }
   ],
   "source": [
    "np.sum(study_minutes)"
   ]
  },
  {
   "cell_type": "markdown",
   "id": "d20c6649",
   "metadata": {},
   "source": [
    "## MatPlotLib"
   ]
  },
  {
   "cell_type": "code",
   "execution_count": 72,
   "id": "c912a90a",
   "metadata": {},
   "outputs": [
    {
     "name": "stderr",
     "output_type": "stream",
     "text": [
      "Matplotlib is building the font cache; this may take a moment.\n"
     ]
    }
   ],
   "source": [
    "import matplotlib.pyplot as plt"
   ]
  },
  {
   "cell_type": "code",
   "execution_count": 73,
   "id": "ceb03d3e",
   "metadata": {},
   "outputs": [
    {
     "data": {
      "text/plain": [
       "array([ 60, 132, 122, 128,  44, 136, 129, 101,  95,  50, 132, 151,  64,\n",
       "       104, 175, 117, 146, 139, 129, 133, 176,  98, 160, 179,  99,  82,\n",
       "       142,  31, 106, 117,  56,  98,  67, 121, 159,  81, 170,  31,  50,\n",
       "        49,  87, 179,  51, 116, 177, 118,  78, 171, 117,  88, 123, 102,\n",
       "        44,  79,  31, 108,  80,  59, 137,  84,  93, 155, 160,  67,  80,\n",
       "       166, 164,  70,  50, 102, 113,  47, 131, 161, 118,  82,  89,  81,\n",
       "        43,  81,  38, 119,  52,  82,  31, 159,  57, 113,  71, 121, 140,\n",
       "        91,  70,  37, 106,  64, 127, 110,  58,  93,  79], dtype=uint16)"
      ]
     },
     "execution_count": 73,
     "metadata": {},
     "output_type": "execute_result"
    }
   ],
   "source": [
    "study_minutes[study_minutes>0]"
   ]
  },
  {
   "cell_type": "code",
   "execution_count": 76,
   "id": "37e49669",
   "metadata": {},
   "outputs": [
    {
     "data": {
      "text/plain": [
       "[]"
      ]
     },
     "execution_count": 76,
     "metadata": {},
     "output_type": "execute_result"
    },
    {
     "data": {
      "image/png": "[encoded data removed]",
      "text/plain": [
       "<Figure size 432x288 with 1 Axes>"
      ]
     },
     "metadata": {
      "needs_background": "light"
     },
     "output_type": "display_data"
    }
   ],
   "source": [
    "plt.hist(study_minutes[study_minutes>0])\n",
    "plt.plot()"
   ]
  },
  {
   "cell_type": "code",
   "execution_count": null,
   "id": "60404bc4",
   "metadata": {},
   "outputs": [],
   "source": []
  }
 ],
 "metadata": {
  "kernelspec": {
   "display_name": "Python 3 (ipykernel)",
   "language": "python",
   "name": "python3"
  },
  "language_info": {
   "codemirror_mode": {
    "name": "ipython",
    "version": 3
   },
   "file_extension": ".py",
   "mimetype": "text/x-python",
   "name": "python",
   "nbconvert_exporter": "python",
   "pygments_lexer": "ipython3",
   "version": "3.9.7"
  },
  "toc": {
   "base_numbering": 1,
   "nav_menu": {},
   "number_sections": true,
   "sideBar": true,
   "skip_h1_title": false,
   "title_cell": "Table of Contents",
   "title_sidebar": "Contents",
   "toc_cell": false,
   "toc_position": {},
   "toc_section_display": true,
   "toc_window_display": false
  }
 },
 "nbformat": 4,
 "nbformat_minor": 5
}
