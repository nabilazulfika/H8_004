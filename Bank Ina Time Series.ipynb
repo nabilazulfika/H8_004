{
 "cells": [
  {
   "cell_type": "code",
   "execution_count": null,
   "source": [],
   "outputs": [],
   "metadata": {}
  },
  {
   "cell_type": "markdown",
   "source": [
    "# Time Series Bank INA "
   ],
   "metadata": {}
  },
  {
   "cell_type": "code",
   "execution_count": 3,
   "source": [
    "import numpy as np \n",
    "import pandas as pd \n",
    "import matplotlib.pyplot as plt \n"
   ],
   "outputs": [],
   "metadata": {}
  },
  {
   "cell_type": "markdown",
   "source": [
    "## Load Data "
   ],
   "metadata": {}
  },
  {
   "cell_type": "code",
   "execution_count": 4,
   "source": [
    "dfbankina = pd.read_csv(\"../data/BINA.JK.csv\")\n",
    "dfbankina.tail()"
   ],
   "outputs": [
    {
     "output_type": "execute_result",
     "data": {
      "text/html": [
       "<div>\n",
       "<style scoped>\n",
       "    .dataframe tbody tr th:only-of-type {\n",
       "        vertical-align: middle;\n",
       "    }\n",
       "\n",
       "    .dataframe tbody tr th {\n",
       "        vertical-align: top;\n",
       "    }\n",
       "\n",
       "    .dataframe thead th {\n",
       "        text-align: right;\n",
       "    }\n",
       "</style>\n",
       "<table border=\"1\" class=\"dataframe\">\n",
       "  <thead>\n",
       "    <tr style=\"text-align: right;\">\n",
       "      <th></th>\n",
       "      <th>Date</th>\n",
       "      <th>Open</th>\n",
       "      <th>High</th>\n",
       "      <th>Low</th>\n",
       "      <th>Close</th>\n",
       "      <th>Adj Close</th>\n",
       "      <th>Volume</th>\n",
       "    </tr>\n",
       "  </thead>\n",
       "  <tbody>\n",
       "    <tr>\n",
       "      <th>237</th>\n",
       "      <td>2021-09-07</td>\n",
       "      <td>4150.0</td>\n",
       "      <td>4260.0</td>\n",
       "      <td>4010.0</td>\n",
       "      <td>4250.0</td>\n",
       "      <td>4250.0</td>\n",
       "      <td>1333500</td>\n",
       "    </tr>\n",
       "    <tr>\n",
       "      <th>238</th>\n",
       "      <td>2021-09-08</td>\n",
       "      <td>4250.0</td>\n",
       "      <td>4320.0</td>\n",
       "      <td>4130.0</td>\n",
       "      <td>4240.0</td>\n",
       "      <td>4240.0</td>\n",
       "      <td>213900</td>\n",
       "    </tr>\n",
       "    <tr>\n",
       "      <th>239</th>\n",
       "      <td>2021-09-09</td>\n",
       "      <td>4240.0</td>\n",
       "      <td>4240.0</td>\n",
       "      <td>3950.0</td>\n",
       "      <td>3950.0</td>\n",
       "      <td>3950.0</td>\n",
       "      <td>751800</td>\n",
       "    </tr>\n",
       "    <tr>\n",
       "      <th>240</th>\n",
       "      <td>2021-09-10</td>\n",
       "      <td>3950.0</td>\n",
       "      <td>4080.0</td>\n",
       "      <td>3710.0</td>\n",
       "      <td>4010.0</td>\n",
       "      <td>4010.0</td>\n",
       "      <td>639400</td>\n",
       "    </tr>\n",
       "    <tr>\n",
       "      <th>241</th>\n",
       "      <td>2021-09-13</td>\n",
       "      <td>4020.0</td>\n",
       "      <td>4150.0</td>\n",
       "      <td>4010.0</td>\n",
       "      <td>4020.0</td>\n",
       "      <td>4020.0</td>\n",
       "      <td>195200</td>\n",
       "    </tr>\n",
       "  </tbody>\n",
       "</table>\n",
       "</div>"
      ],
      "text/plain": [
       "           Date    Open    High     Low   Close  Adj Close   Volume\n",
       "237  2021-09-07  4150.0  4260.0  4010.0  4250.0     4250.0  1333500\n",
       "238  2021-09-08  4250.0  4320.0  4130.0  4240.0     4240.0   213900\n",
       "239  2021-09-09  4240.0  4240.0  3950.0  3950.0     3950.0   751800\n",
       "240  2021-09-10  3950.0  4080.0  3710.0  4010.0     4010.0   639400\n",
       "241  2021-09-13  4020.0  4150.0  4010.0  4020.0     4020.0   195200"
      ]
     },
     "metadata": {},
     "execution_count": 4
    }
   ],
   "metadata": {}
  },
  {
   "cell_type": "markdown",
   "source": [
    "## info , describe "
   ],
   "metadata": {}
  },
  {
   "cell_type": "code",
   "execution_count": 5,
   "source": [
    "dfbankina.describe()"
   ],
   "outputs": [
    {
     "output_type": "execute_result",
     "data": {
      "text/html": [
       "<div>\n",
       "<style scoped>\n",
       "    .dataframe tbody tr th:only-of-type {\n",
       "        vertical-align: middle;\n",
       "    }\n",
       "\n",
       "    .dataframe tbody tr th {\n",
       "        vertical-align: top;\n",
       "    }\n",
       "\n",
       "    .dataframe thead th {\n",
       "        text-align: right;\n",
       "    }\n",
       "</style>\n",
       "<table border=\"1\" class=\"dataframe\">\n",
       "  <thead>\n",
       "    <tr style=\"text-align: right;\">\n",
       "      <th></th>\n",
       "      <th>Open</th>\n",
       "      <th>High</th>\n",
       "      <th>Low</th>\n",
       "      <th>Close</th>\n",
       "      <th>Adj Close</th>\n",
       "      <th>Volume</th>\n",
       "    </tr>\n",
       "  </thead>\n",
       "  <tbody>\n",
       "    <tr>\n",
       "      <th>count</th>\n",
       "      <td>242.000000</td>\n",
       "      <td>242.000000</td>\n",
       "      <td>242.000000</td>\n",
       "      <td>242.000000</td>\n",
       "      <td>242.000000</td>\n",
       "      <td>2.420000e+02</td>\n",
       "    </tr>\n",
       "    <tr>\n",
       "      <th>mean</th>\n",
       "      <td>2086.652893</td>\n",
       "      <td>2155.661157</td>\n",
       "      <td>2023.739669</td>\n",
       "      <td>2094.028926</td>\n",
       "      <td>2094.028926</td>\n",
       "      <td>3.322695e+06</td>\n",
       "    </tr>\n",
       "    <tr>\n",
       "      <th>std</th>\n",
       "      <td>1661.731885</td>\n",
       "      <td>1718.114974</td>\n",
       "      <td>1606.931808</td>\n",
       "      <td>1658.706999</td>\n",
       "      <td>1658.706999</td>\n",
       "      <td>5.366109e+06</td>\n",
       "    </tr>\n",
       "    <tr>\n",
       "      <th>min</th>\n",
       "      <td>680.000000</td>\n",
       "      <td>680.000000</td>\n",
       "      <td>665.000000</td>\n",
       "      <td>680.000000</td>\n",
       "      <td>680.000000</td>\n",
       "      <td>0.000000e+00</td>\n",
       "    </tr>\n",
       "    <tr>\n",
       "      <th>25%</th>\n",
       "      <td>786.250000</td>\n",
       "      <td>796.250000</td>\n",
       "      <td>766.250000</td>\n",
       "      <td>790.000000</td>\n",
       "      <td>790.000000</td>\n",
       "      <td>7.349750e+05</td>\n",
       "    </tr>\n",
       "    <tr>\n",
       "      <th>50%</th>\n",
       "      <td>1475.000000</td>\n",
       "      <td>1510.000000</td>\n",
       "      <td>1422.500000</td>\n",
       "      <td>1475.000000</td>\n",
       "      <td>1475.000000</td>\n",
       "      <td>1.682350e+06</td>\n",
       "    </tr>\n",
       "    <tr>\n",
       "      <th>75%</th>\n",
       "      <td>2177.500000</td>\n",
       "      <td>2230.000000</td>\n",
       "      <td>2115.000000</td>\n",
       "      <td>2217.500000</td>\n",
       "      <td>2217.500000</td>\n",
       "      <td>3.333425e+06</td>\n",
       "    </tr>\n",
       "    <tr>\n",
       "      <th>max</th>\n",
       "      <td>5800.000000</td>\n",
       "      <td>6175.000000</td>\n",
       "      <td>5775.000000</td>\n",
       "      <td>5775.000000</td>\n",
       "      <td>5775.000000</td>\n",
       "      <td>3.277550e+07</td>\n",
       "    </tr>\n",
       "  </tbody>\n",
       "</table>\n",
       "</div>"
      ],
      "text/plain": [
       "              Open         High          Low        Close    Adj Close  \\\n",
       "count   242.000000   242.000000   242.000000   242.000000   242.000000   \n",
       "mean   2086.652893  2155.661157  2023.739669  2094.028926  2094.028926   \n",
       "std    1661.731885  1718.114974  1606.931808  1658.706999  1658.706999   \n",
       "min     680.000000   680.000000   665.000000   680.000000   680.000000   \n",
       "25%     786.250000   796.250000   766.250000   790.000000   790.000000   \n",
       "50%    1475.000000  1510.000000  1422.500000  1475.000000  1475.000000   \n",
       "75%    2177.500000  2230.000000  2115.000000  2217.500000  2217.500000   \n",
       "max    5800.000000  6175.000000  5775.000000  5775.000000  5775.000000   \n",
       "\n",
       "             Volume  \n",
       "count  2.420000e+02  \n",
       "mean   3.322695e+06  \n",
       "std    5.366109e+06  \n",
       "min    0.000000e+00  \n",
       "25%    7.349750e+05  \n",
       "50%    1.682350e+06  \n",
       "75%    3.333425e+06  \n",
       "max    3.277550e+07  "
      ]
     },
     "metadata": {},
     "execution_count": 5
    }
   ],
   "metadata": {}
  },
  {
   "cell_type": "code",
   "execution_count": 6,
   "source": [
    "dfbankina.info()"
   ],
   "outputs": [
    {
     "output_type": "stream",
     "name": "stdout",
     "text": [
      "<class 'pandas.core.frame.DataFrame'>\n",
      "RangeIndex: 242 entries, 0 to 241\n",
      "Data columns (total 7 columns):\n",
      " #   Column     Non-Null Count  Dtype  \n",
      "---  ------     --------------  -----  \n",
      " 0   Date       242 non-null    object \n",
      " 1   Open       242 non-null    float64\n",
      " 2   High       242 non-null    float64\n",
      " 3   Low        242 non-null    float64\n",
      " 4   Close      242 non-null    float64\n",
      " 5   Adj Close  242 non-null    float64\n",
      " 6   Volume     242 non-null    int64  \n",
      "dtypes: float64(5), int64(1), object(1)\n",
      "memory usage: 13.4+ KB\n"
     ]
    }
   ],
   "metadata": {}
  },
  {
   "cell_type": "code",
   "execution_count": 7,
   "source": [
    "dfbankina.isna().sum()"
   ],
   "outputs": [
    {
     "output_type": "execute_result",
     "data": {
      "text/plain": [
       "Date         0\n",
       "Open         0\n",
       "High         0\n",
       "Low          0\n",
       "Close        0\n",
       "Adj Close    0\n",
       "Volume       0\n",
       "dtype: int64"
      ]
     },
     "metadata": {},
     "execution_count": 7
    }
   ],
   "metadata": {}
  },
  {
   "cell_type": "code",
   "execution_count": 8,
   "source": [
    "timestamp_date_rng = pd.to_datetime(dfbankina['Date'], infer_datetime_format=True)\n",
    "timestamp_date_rng"
   ],
   "outputs": [
    {
     "output_type": "execute_result",
     "data": {
      "text/plain": [
       "0     2020-09-14\n",
       "1     2020-09-15\n",
       "2     2020-09-16\n",
       "3     2020-09-17\n",
       "4     2020-09-18\n",
       "         ...    \n",
       "237   2021-09-07\n",
       "238   2021-09-08\n",
       "239   2021-09-09\n",
       "240   2021-09-10\n",
       "241   2021-09-13\n",
       "Name: Date, Length: 242, dtype: datetime64[ns]"
      ]
     },
     "metadata": {},
     "execution_count": 8
    }
   ],
   "metadata": {}
  },
  {
   "cell_type": "code",
   "execution_count": null,
   "source": [],
   "outputs": [],
   "metadata": {}
  },
  {
   "cell_type": "markdown",
   "source": [
    "## Visualisasi "
   ],
   "metadata": {}
  },
  {
   "cell_type": "code",
   "execution_count": 9,
   "source": [
    "# plot data open \n",
    "plt.plot(dfbankina['Open'])"
   ],
   "outputs": [
    {
     "output_type": "execute_result",
     "data": {
      "text/plain": [
       "[<matplotlib.lines.Line2D at 0x12a76d130>]"
      ]
     },
     "metadata": {},
     "execution_count": 9
    },
    {
     "output_type": "display_data",
     "data": {
      "image/png": "[encoded data removed]",
      "text/plain": [
       "<Figure size 432x288 with 1 Axes>"
      ]
     },
     "metadata": {
      "needs_background": "light"
     }
    }
   ],
   "metadata": {}
  },
  {
   "cell_type": "code",
   "execution_count": 10,
   "source": [
    "# plot data close \n",
    "dfbankina['Close']\n",
    "plt.plot(dfbankina['Close'])"
   ],
   "outputs": [
    {
     "output_type": "execute_result",
     "data": {
      "text/plain": [
       "[<matplotlib.lines.Line2D at 0x12a85da60>]"
      ]
     },
     "metadata": {},
     "execution_count": 10
    },
    {
     "output_type": "display_data",
     "data": {
      "image/png": "[encoded data removed]",
      "text/plain": [
       "<Figure size 432x288 with 1 Axes>"
      ]
     },
     "metadata": {
      "needs_background": "light"
     }
    }
   ],
   "metadata": {}
  },
  {
   "cell_type": "markdown",
   "source": [
    "### Menggabungkan plot data Open dan Close "
   ],
   "metadata": {}
  },
  {
   "cell_type": "code",
   "execution_count": 11,
   "source": [
    "fig, axi = plt.subplots(1,2,figsize=(10,5) )\n",
    "\n",
    "axi[0].plot(dfbankina['Open'])\n",
    "axi[0].set_xlabel(\"Hari ke  \")\n",
    "axi[0].set_ylabel(\"Harga IDR (Ribuan)\")\n",
    "axi[0].set_title(\"Harga Saham Bank INA OPEN\") \n",
    "\n",
    "axi[1].plot(dfbankina['Close'])\n",
    "axi[1].set_xlabel(\"Hari ke  \")\n",
    "axi[1].set_ylabel(\"Harga IDR (Ribuan)\")\n",
    "axi[1].set_title(\"Harga Saham Bank INA CLOSE\") \n",
    "plt.show()\n"
   ],
   "outputs": [
    {
     "output_type": "display_data",
     "data": {
      "image/png": "[encoded data removed]",
      "text/plain": [
       "<Figure size 720x360 with 2 Axes>"
      ]
     },
     "metadata": {
      "needs_background": "light"
     }
    }
   ],
   "metadata": {}
  },
  {
   "cell_type": "markdown",
   "source": [
    "### Plot Open Vs Close "
   ],
   "metadata": {}
  },
  {
   "cell_type": "code",
   "execution_count": 12,
   "source": [
    "plt.figure(figsize=(10,5))\n",
    "plt.plot(dfbankina['Open'],label='OPEN') \n",
    "plt.plot(dfbankina['Close'],label='CLOSE') \n",
    "\n",
    "plt.xlabel(\"Hari Ke\")\n",
    "plt.ylabel(\"Harga IDR (Ribu) \")\n",
    "plt.title(\"Saham Bank INA OPEN VS CLOSE\") \n",
    "plt.legend()\n",
    "plt.show()"
   ],
   "outputs": [
    {
     "output_type": "display_data",
     "data": {
      "image/png": "[encoded data removed]",
      "text/plain": [
       "<Figure size 720x360 with 1 Axes>"
      ]
     },
     "metadata": {
      "needs_background": "light"
     }
    }
   ],
   "metadata": {}
  },
  {
   "cell_type": "code",
   "execution_count": 14,
   "source": [
    "data = dfbankina.iloc[:,4:5]\n",
    "# newdata = data\n",
    "# newdata.drop([0,1])\n",
    "data"
   ],
   "outputs": [
    {
     "output_type": "execute_result",
     "data": {
      "text/html": [
       "<div>\n",
       "<style scoped>\n",
       "    .dataframe tbody tr th:only-of-type {\n",
       "        vertical-align: middle;\n",
       "    }\n",
       "\n",
       "    .dataframe tbody tr th {\n",
       "        vertical-align: top;\n",
       "    }\n",
       "\n",
       "    .dataframe thead th {\n",
       "        text-align: right;\n",
       "    }\n",
       "</style>\n",
       "<table border=\"1\" class=\"dataframe\">\n",
       "  <thead>\n",
       "    <tr style=\"text-align: right;\">\n",
       "      <th></th>\n",
       "      <th>Close</th>\n",
       "    </tr>\n",
       "  </thead>\n",
       "  <tbody>\n",
       "    <tr>\n",
       "      <th>0</th>\n",
       "      <td>820.0</td>\n",
       "    </tr>\n",
       "    <tr>\n",
       "      <th>1</th>\n",
       "      <td>825.0</td>\n",
       "    </tr>\n",
       "    <tr>\n",
       "      <th>2</th>\n",
       "      <td>820.0</td>\n",
       "    </tr>\n",
       "    <tr>\n",
       "      <th>3</th>\n",
       "      <td>800.0</td>\n",
       "    </tr>\n",
       "    <tr>\n",
       "      <th>4</th>\n",
       "      <td>810.0</td>\n",
       "    </tr>\n",
       "    <tr>\n",
       "      <th>...</th>\n",
       "      <td>...</td>\n",
       "    </tr>\n",
       "    <tr>\n",
       "      <th>237</th>\n",
       "      <td>4250.0</td>\n",
       "    </tr>\n",
       "    <tr>\n",
       "      <th>238</th>\n",
       "      <td>4240.0</td>\n",
       "    </tr>\n",
       "    <tr>\n",
       "      <th>239</th>\n",
       "      <td>3950.0</td>\n",
       "    </tr>\n",
       "    <tr>\n",
       "      <th>240</th>\n",
       "      <td>4010.0</td>\n",
       "    </tr>\n",
       "    <tr>\n",
       "      <th>241</th>\n",
       "      <td>4020.0</td>\n",
       "    </tr>\n",
       "  </tbody>\n",
       "</table>\n",
       "<p>242 rows × 1 columns</p>\n",
       "</div>"
      ],
      "text/plain": [
       "      Close\n",
       "0     820.0\n",
       "1     825.0\n",
       "2     820.0\n",
       "3     800.0\n",
       "4     810.0\n",
       "..      ...\n",
       "237  4250.0\n",
       "238  4240.0\n",
       "239  3950.0\n",
       "240  4010.0\n",
       "241  4020.0\n",
       "\n",
       "[242 rows x 1 columns]"
      ]
     },
     "metadata": {},
     "execution_count": 14
    }
   ],
   "metadata": {}
  },
  {
   "cell_type": "code",
   "execution_count": 16,
   "source": [
    "data.min()\n",
    "data.max()"
   ],
   "outputs": [
    {
     "output_type": "execute_result",
     "data": {
      "text/plain": [
       "Close    5775.0\n",
       "dtype: float64"
      ]
     },
     "metadata": {},
     "execution_count": 16
    }
   ],
   "metadata": {}
  },
  {
   "cell_type": "code",
   "execution_count": 18,
   "source": [
    "from sklearn.preprocessing import MinMaxScaler "
   ],
   "outputs": [],
   "metadata": {}
  },
  {
   "cell_type": "code",
   "execution_count": 22,
   "source": [
    "mns = MinMaxScaler()\n",
    "mns.fit(data)\n",
    "datanormal = mns.transform(data)\n",
    "datanormal.min()\n",
    "datanormal.max()\n"
   ],
   "outputs": [
    {
     "output_type": "execute_result",
     "data": {
      "text/plain": [
       "0.9999999999999999"
      ]
     },
     "metadata": {},
     "execution_count": 22
    }
   ],
   "metadata": {}
  },
  {
   "cell_type": "markdown",
   "source": [
    "## Preprocessing Data"
   ],
   "metadata": {}
  },
  {
   "cell_type": "code",
   "execution_count": 68,
   "source": [
    "from sklearn.preprocessing import MinMaxScaler "
   ],
   "outputs": [],
   "metadata": {}
  },
  {
   "cell_type": "code",
   "execution_count": 69,
   "source": [
    "data = dfbankina.iloc[:,4:5]\n",
    "\n",
    "mns = MinMaxScaler()\n",
    "mns.fit(data)\n",
    "bina_tf = mns.transform(data)\n",
    "bina_tf"
   ],
   "outputs": [
    {
     "output_type": "execute_result",
     "data": {
      "text/plain": [
       "array([[2.74779195e-02],\n",
       "       [2.84592738e-02],\n",
       "       [2.74779195e-02],\n",
       "       [2.35525025e-02],\n",
       "       [2.55152110e-02],\n",
       "       [2.64965653e-02],\n",
       "       [2.55152110e-02],\n",
       "       [2.84592738e-02],\n",
       "       [2.74779195e-02],\n",
       "       [2.45338567e-02],\n",
       "       [2.45338567e-02],\n",
       "       [2.45338567e-02],\n",
       "       [2.35525025e-02],\n",
       "       [2.45338567e-02],\n",
       "       [2.35525025e-02],\n",
       "       [2.35525025e-02],\n",
       "       [2.35525025e-02],\n",
       "       [2.35525025e-02],\n",
       "       [2.15897939e-02],\n",
       "       [2.15897939e-02],\n",
       "       [2.25711482e-02],\n",
       "       [1.86457311e-02],\n",
       "       [1.96270854e-02],\n",
       "       [1.86457311e-02],\n",
       "       [1.86457311e-02],\n",
       "       [1.57016683e-02],\n",
       "       [5.88812561e-03],\n",
       "       [7.85083415e-03],\n",
       "       [5.88812561e-03],\n",
       "       [9.81354269e-03],\n",
       "       [5.88812561e-03],\n",
       "       [4.90677134e-03],\n",
       "       [5.88812561e-03],\n",
       "       [5.88812561e-03],\n",
       "       [3.92541708e-03],\n",
       "       [1.96270854e-03],\n",
       "       [4.90677134e-03],\n",
       "       [1.96270854e-03],\n",
       "       [3.92541708e-03],\n",
       "       [0.00000000e+00],\n",
       "       [2.94406281e-03],\n",
       "       [3.92541708e-03],\n",
       "       [5.88812561e-03],\n",
       "       [3.92541708e-03],\n",
       "       [4.90677134e-03],\n",
       "       [3.92541708e-03],\n",
       "       [3.92541708e-03],\n",
       "       [3.92541708e-03],\n",
       "       [3.92541708e-03],\n",
       "       [1.96270854e-03],\n",
       "       [1.96270854e-03],\n",
       "       [5.88812561e-03],\n",
       "       [6.86947988e-03],\n",
       "       [3.92541708e-03],\n",
       "       [3.92541708e-03],\n",
       "       [9.81354269e-04],\n",
       "       [3.92541708e-03],\n",
       "       [2.94406281e-03],\n",
       "       [2.94406281e-03],\n",
       "       [9.81354269e-04],\n",
       "       [9.81354269e-04],\n",
       "       [1.96270854e-03],\n",
       "       [9.81354269e-04],\n",
       "       [1.96270854e-03],\n",
       "       [0.00000000e+00],\n",
       "       [0.00000000e+00],\n",
       "       [2.94406281e-03],\n",
       "       [2.94406281e-03],\n",
       "       [3.92541708e-03],\n",
       "       [4.90677134e-03],\n",
       "       [4.90677134e-03],\n",
       "       [1.96270854e-03],\n",
       "       [3.92541708e-03],\n",
       "       [2.94406281e-03],\n",
       "       [3.92541708e-03],\n",
       "       [2.94406281e-03],\n",
       "       [2.94406281e-03],\n",
       "       [4.90677134e-03],\n",
       "       [2.15897939e-02],\n",
       "       [5.98626104e-02],\n",
       "       [7.55642787e-02],\n",
       "       [6.57507360e-02],\n",
       "       [6.18253189e-02],\n",
       "       [5.29931305e-02],\n",
       "       [5.29931305e-02],\n",
       "       [5.20117763e-02],\n",
       "       [5.10304220e-02],\n",
       "       [3.82728165e-02],\n",
       "       [2.64965653e-02],\n",
       "       [2.06084396e-02],\n",
       "       [1.76643768e-02],\n",
       "       [2.55152110e-02],\n",
       "       [2.94406281e-02],\n",
       "       [3.53287537e-02],\n",
       "       [4.12168793e-02],\n",
       "       [6.96761531e-02],\n",
       "       [1.11874387e-01],\n",
       "       [1.34445535e-01],\n",
       "       [1.22669284e-01],\n",
       "       [1.22669284e-01],\n",
       "       [1.38370952e-01],\n",
       "       [1.32482826e-01],\n",
       "       [1.29538763e-01],\n",
       "       [1.43277723e-01],\n",
       "       [1.45240432e-01],\n",
       "       [1.44259078e-01],\n",
       "       [1.44259078e-01],\n",
       "       [1.42296369e-01],\n",
       "       [1.47203140e-01],\n",
       "       [1.72718351e-01],\n",
       "       [1.59960746e-01],\n",
       "       [1.51128557e-01],\n",
       "       [1.50147203e-01],\n",
       "       [1.53091266e-01],\n",
       "       [1.55053974e-01],\n",
       "       [1.57016683e-01],\n",
       "       [1.58979392e-01],\n",
       "       [1.57998037e-01],\n",
       "       [1.50147203e-01],\n",
       "       [1.47203140e-01],\n",
       "       [1.39352306e-01],\n",
       "       [1.24631992e-01],\n",
       "       [1.22669284e-01],\n",
       "       [1.23650638e-01],\n",
       "       [1.43277723e-01],\n",
       "       [1.57998037e-01],\n",
       "       [1.53091266e-01],\n",
       "       [1.64867517e-01],\n",
       "       [1.64867517e-01],\n",
       "       [1.70755643e-01],\n",
       "       [1.72718351e-01],\n",
       "       [1.80569185e-01],\n",
       "       [1.77625123e-01],\n",
       "       [1.77625123e-01],\n",
       "       [1.65848871e-01],\n",
       "       [1.61923454e-01],\n",
       "       [1.77625123e-01],\n",
       "       [1.75662414e-01],\n",
       "       [1.70755643e-01],\n",
       "       [1.70755643e-01],\n",
       "       [1.75662414e-01],\n",
       "       [1.98233562e-01],\n",
       "       [2.55152110e-01],\n",
       "       [2.63002944e-01],\n",
       "       [2.55152110e-01],\n",
       "       [2.56133464e-01],\n",
       "       [2.76741904e-01],\n",
       "       [2.94406281e-01],\n",
       "       [2.94406281e-01],\n",
       "       [2.82630029e-01],\n",
       "       [2.84592738e-01],\n",
       "       [2.82630029e-01],\n",
       "       [2.86555447e-01],\n",
       "       [3.04219823e-01],\n",
       "       [2.84592738e-01],\n",
       "       [2.76741904e-01],\n",
       "       [2.66928361e-01],\n",
       "       [2.68891070e-01],\n",
       "       [2.68891070e-01],\n",
       "       [2.58096173e-01],\n",
       "       [2.72816487e-01],\n",
       "       [2.58096173e-01],\n",
       "       [2.45338567e-01],\n",
       "       [2.39450442e-01],\n",
       "       [2.38469087e-01],\n",
       "       [2.33562316e-01],\n",
       "       [2.39450442e-01],\n",
       "       [2.34543670e-01],\n",
       "       [2.39450442e-01],\n",
       "       [2.28655545e-01],\n",
       "       [2.21786065e-01],\n",
       "       [2.05103042e-01],\n",
       "       [1.97252208e-01],\n",
       "       [2.13935231e-01],\n",
       "       [2.14916585e-01],\n",
       "       [2.29636899e-01],\n",
       "       [2.26692836e-01],\n",
       "       [2.25711482e-01],\n",
       "       [2.27674190e-01],\n",
       "       [2.35525025e-01],\n",
       "       [2.53189401e-01],\n",
       "       [2.55152110e-01],\n",
       "       [3.51324828e-01],\n",
       "       [4.71050049e-01],\n",
       "       [6.22178606e-01],\n",
       "       [8.10598626e-01],\n",
       "       [8.32188420e-01],\n",
       "       [9.01864573e-01],\n",
       "       [8.96957802e-01],\n",
       "       [8.82237488e-01],\n",
       "       [8.45927380e-01],\n",
       "       [9.60745829e-01],\n",
       "       [9.60745829e-01],\n",
       "       [9.36211973e-01],\n",
       "       [9.90186457e-01],\n",
       "       [9.95093229e-01],\n",
       "       [9.55839058e-01],\n",
       "       [1.00000000e+00],\n",
       "       [1.00000000e+00],\n",
       "       [1.00000000e+00],\n",
       "       [1.00000000e+00],\n",
       "       [1.00000000e+00],\n",
       "       [1.00000000e+00],\n",
       "       [1.00000000e+00],\n",
       "       [1.00000000e+00],\n",
       "       [9.70559372e-01],\n",
       "       [9.80372915e-01],\n",
       "       [9.70559372e-01],\n",
       "       [9.55839058e-01],\n",
       "       [9.26398430e-01],\n",
       "       [8.67517174e-01],\n",
       "       [8.57703631e-01],\n",
       "       [8.87144259e-01],\n",
       "       [8.30225711e-01],\n",
       "       [8.34151129e-01],\n",
       "       [7.89008832e-01],\n",
       "       [7.26202159e-01],\n",
       "       [7.98822375e-01],\n",
       "       [7.36015702e-01],\n",
       "       [6.86947988e-01],\n",
       "       [6.94798822e-01],\n",
       "       [6.67320903e-01],\n",
       "       [6.51619235e-01],\n",
       "       [5.96663395e-01],\n",
       "       [5.45632974e-01],\n",
       "       [5.92737978e-01],\n",
       "       [6.69283611e-01],\n",
       "       [6.83022571e-01],\n",
       "       [7.96859666e-01],\n",
       "       [7.53680079e-01],\n",
       "       [7.77232581e-01],\n",
       "       [7.61530913e-01],\n",
       "       [7.65456330e-01],\n",
       "       [7.26202159e-01],\n",
       "       [7.36015702e-01],\n",
       "       [7.34052993e-01],\n",
       "       [6.88910697e-01],\n",
       "       [7.00686948e-01],\n",
       "       [6.98724239e-01],\n",
       "       [6.41805692e-01],\n",
       "       [6.53581943e-01],\n",
       "       [6.55544652e-01]])"
      ]
     },
     "metadata": {},
     "execution_count": 69
    }
   ],
   "metadata": {}
  },
  {
   "cell_type": "code",
   "execution_count": 58,
   "source": [
    "bina_tf.shape\n",
    "240/ 4 "
   ],
   "outputs": [
    {
     "output_type": "execute_result",
     "data": {
      "text/plain": [
       "60.0"
      ]
     },
     "metadata": {},
     "execution_count": 58
    }
   ],
   "metadata": {}
  },
  {
   "cell_type": "markdown",
   "source": [
    "## Modeling"
   ],
   "metadata": {}
  },
  {
   "cell_type": "code",
   "execution_count": 42,
   "source": [
    "a = np.array([[1, 2], [3, 4]])\n",
    "b = np.array([[5, 6]])\n",
    "\n",
    "np.concatenate((a, b), axis=0)\n",
    "\n"
   ],
   "outputs": [
    {
     "output_type": "execute_result",
     "data": {
      "text/plain": [
       "array([[1, 2],\n",
       "       [3, 4],\n",
       "       [5, 6]])"
      ]
     },
     "metadata": {},
     "execution_count": 42
    }
   ],
   "metadata": {}
  },
  {
   "cell_type": "code",
   "execution_count": 43,
   "source": [
    "\n",
    "np.concatenate((a, b.T), axis=1)\n",
    "\n"
   ],
   "outputs": [
    {
     "output_type": "execute_result",
     "data": {
      "text/plain": [
       "array([[1, 2, 5],\n",
       "       [3, 4, 6]])"
      ]
     },
     "metadata": {},
     "execution_count": 43
    }
   ],
   "metadata": {}
  },
  {
   "cell_type": "code",
   "execution_count": 44,
   "source": [
    "np.concatenate((a, b), axis=None)"
   ],
   "outputs": [
    {
     "output_type": "execute_result",
     "data": {
      "text/plain": [
       "array([1, 2, 3, 4, 5, 6])"
      ]
     },
     "metadata": {},
     "execution_count": 44
    }
   ],
   "metadata": {}
  },
  {
   "cell_type": "code",
   "execution_count": 45,
   "source": [
    "p = np.array([[1]])\n",
    "q = np.array([[2]])\n",
    "r = np.array([[3]])\n",
    "s = np.array([[4]])\n",
    "\n",
    "np.concatenate((p,q,r,s), axis=1)\n",
    "\n"
   ],
   "outputs": [
    {
     "output_type": "execute_result",
     "data": {
      "text/plain": [
       "array([[1, 2, 3, 4]])"
      ]
     },
     "metadata": {},
     "execution_count": 45
    }
   ],
   "metadata": {}
  },
  {
   "cell_type": "markdown",
   "source": [],
   "metadata": {}
  }
 ],
 "metadata": {
  "orig_nbformat": 4,
  "language_info": {
   "name": "python",
   "version": "3.9.0",
   "mimetype": "text/x-python",
   "codemirror_mode": {
    "name": "ipython",
    "version": 3
   },
   "pygments_lexer": "ipython3",
   "nbconvert_exporter": "python",
   "file_extension": ".py"
  },
  "kernelspec": {
   "name": "python3",
   "display_name": "Python 3.9.0 64-bit ('django-rest': pyenv)"
  },
  "interpreter": {
   "hash": "2ab81710aaca28e104f4ec6b11d18fff8c70cb06936779bb6622e3c3017c4564"
  }
 },
 "nbformat": 4,
 "nbformat_minor": 2
}